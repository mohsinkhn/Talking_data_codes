{
 "cells": [
  {
   "cell_type": "markdown",
   "metadata": {},
   "source": [
    "#### Observations\n",
    "- 277396 unique ips in train, 93936 unique ips in test\n",
    "- 59.3% of new ip are present in test\n",
    "- 88.33% of train ips downloaded app atleast once"
   ]
  },
  {
   "cell_type": "code",
   "execution_count": 6,
   "metadata": {},
   "outputs": [
    {
     "name": "stderr",
     "output_type": "stream",
     "text": [
      "/Users/abk0005/Competitions/env/lib/python3.6/importlib/_bootstrap.py:219: RuntimeWarning: numpy.dtype size changed, may indicate binary incompatibility. Expected 96, got 88\n",
      "  return f(*args, **kwds)\n",
      "/Users/abk0005/Competitions/env/lib/python3.6/importlib/_bootstrap.py:219: RuntimeWarning: numpy.dtype size changed, may indicate binary incompatibility. Expected 96, got 88\n",
      "  return f(*args, **kwds)\n"
     ]
    }
   ],
   "source": [
    "import pandas as pd\n",
    "import numpy as np\n",
    "import matplotlib.pyplot as plt\n",
    "import seaborn as sns\n",
    "\n",
    "import os\n",
    "import gc"
   ]
  },
  {
   "cell_type": "code",
   "execution_count": 9,
   "metadata": {},
   "outputs": [],
   "source": [
    "## declare global variables\n",
    "path = \"../input\"\n",
    "column_dtypes = {\"ip\": 'uint32'\n",
    "                ,\"app\" : 'uint16'\n",
    "                ,\"device\": 'uint16'\n",
    "                ,\"os\": 'uint16'\n",
    "                ,\"channel\": 'uint32'\n",
    "                ,\"is_attributed\": 'uint8'}"
   ]
  },
  {
   "cell_type": "code",
   "execution_count": 4,
   "metadata": {},
   "outputs": [
    {
     "name": "stdout",
     "output_type": "stream",
     "text": [
      "<class 'pandas.core.frame.DataFrame'>\n",
      "RangeIndex: 184903890 entries, 0 to 184903889\n",
      "Data columns (total 8 columns):\n",
      "ip                 int32\n",
      "app                int16\n",
      "device             int16\n",
      "os                 int16\n",
      "channel            int32\n",
      "click_time         datetime64[ns]\n",
      "attributed_time    datetime64[ns]\n",
      "is_attributed      int8\n",
      "dtypes: datetime64[ns](2), int16(3), int32(2), int8(1)\n",
      "memory usage: 5.3 GB\n",
      "                  ip           app        device            os       channel  \\\n",
      "count   1.849039e+08  1.849039e+08  1.849039e+08  1.849039e+08  1.849039e+08   \n",
      "unique           NaN           NaN           NaN           NaN           NaN   \n",
      "top              NaN           NaN           NaN           NaN           NaN   \n",
      "freq             NaN           NaN           NaN           NaN           NaN   \n",
      "first            NaN           NaN           NaN           NaN           NaN   \n",
      "last             NaN           NaN           NaN           NaN           NaN   \n",
      "mean    9.087604e+04  1.201131e+01  2.172325e+01  2.267702e+01  2.685789e+02   \n",
      "std     6.952789e+04  1.480521e+01  2.593326e+02  5.525282e+01  1.295882e+02   \n",
      "min     1.000000e+00  0.000000e+00  0.000000e+00  0.000000e+00  0.000000e+00   \n",
      "25%     4.024500e+04  3.000000e+00  1.000000e+00  1.300000e+01  1.400000e+02   \n",
      "50%     7.962200e+04  1.200000e+01  1.000000e+00  1.800000e+01  2.580000e+02   \n",
      "75%     1.182470e+05  1.500000e+01  1.000000e+00  1.900000e+01  3.790000e+02   \n",
      "max     3.647780e+05  7.680000e+02  4.227000e+03  9.560000e+02  5.000000e+02   \n",
      "\n",
      "                 click_time      attributed_time  is_attributed  \n",
      "count             184903890               456846   1.849039e+08  \n",
      "unique               259620               182057            NaN  \n",
      "top     2017-11-07 14:00:11  2017-11-08 14:16:29            NaN  \n",
      "freq                   1502                   14            NaN  \n",
      "first   2017-11-06 14:32:21  2017-11-06 16:00:47            NaN  \n",
      "last    2017-11-09 16:00:00  2017-11-09 16:00:00            NaN  \n",
      "mean                    NaN                  NaN   2.470721e-03  \n",
      "std                     NaN                  NaN   4.964491e-02  \n",
      "min                     NaN                  NaN   0.000000e+00  \n",
      "25%                     NaN                  NaN   0.000000e+00  \n",
      "50%                     NaN                  NaN   0.000000e+00  \n",
      "75%                     NaN                  NaN   0.000000e+00  \n",
      "max                     NaN                  NaN   1.000000e+00  \n"
     ]
    },
    {
     "data": {
      "text/html": [
       "<div>\n",
       "<style scoped>\n",
       "    .dataframe tbody tr th:only-of-type {\n",
       "        vertical-align: middle;\n",
       "    }\n",
       "\n",
       "    .dataframe tbody tr th {\n",
       "        vertical-align: top;\n",
       "    }\n",
       "\n",
       "    .dataframe thead th {\n",
       "        text-align: right;\n",
       "    }\n",
       "</style>\n",
       "<table border=\"1\" class=\"dataframe\">\n",
       "  <thead>\n",
       "    <tr style=\"text-align: right;\">\n",
       "      <th></th>\n",
       "      <th>click_id</th>\n",
       "      <th>ip</th>\n",
       "      <th>app</th>\n",
       "      <th>device</th>\n",
       "      <th>os</th>\n",
       "      <th>channel</th>\n",
       "      <th>click_time</th>\n",
       "    </tr>\n",
       "  </thead>\n",
       "  <tbody>\n",
       "    <tr>\n",
       "      <th>count</th>\n",
       "      <td>1.879047e+07</td>\n",
       "      <td>1.879047e+07</td>\n",
       "      <td>1.879047e+07</td>\n",
       "      <td>1.879047e+07</td>\n",
       "      <td>1.879047e+07</td>\n",
       "      <td>1.879047e+07</td>\n",
       "      <td>18790469</td>\n",
       "    </tr>\n",
       "    <tr>\n",
       "      <th>unique</th>\n",
       "      <td>NaN</td>\n",
       "      <td>NaN</td>\n",
       "      <td>NaN</td>\n",
       "      <td>NaN</td>\n",
       "      <td>NaN</td>\n",
       "      <td>NaN</td>\n",
       "      <td>21603</td>\n",
       "    </tr>\n",
       "    <tr>\n",
       "      <th>top</th>\n",
       "      <td>NaN</td>\n",
       "      <td>NaN</td>\n",
       "      <td>NaN</td>\n",
       "      <td>NaN</td>\n",
       "      <td>NaN</td>\n",
       "      <td>NaN</td>\n",
       "      <td>2017-11-10 09:00:10</td>\n",
       "    </tr>\n",
       "    <tr>\n",
       "      <th>freq</th>\n",
       "      <td>NaN</td>\n",
       "      <td>NaN</td>\n",
       "      <td>NaN</td>\n",
       "      <td>NaN</td>\n",
       "      <td>NaN</td>\n",
       "      <td>NaN</td>\n",
       "      <td>1466</td>\n",
       "    </tr>\n",
       "    <tr>\n",
       "      <th>first</th>\n",
       "      <td>NaN</td>\n",
       "      <td>NaN</td>\n",
       "      <td>NaN</td>\n",
       "      <td>NaN</td>\n",
       "      <td>NaN</td>\n",
       "      <td>NaN</td>\n",
       "      <td>2017-11-10 04:00:00</td>\n",
       "    </tr>\n",
       "    <tr>\n",
       "      <th>last</th>\n",
       "      <td>NaN</td>\n",
       "      <td>NaN</td>\n",
       "      <td>NaN</td>\n",
       "      <td>NaN</td>\n",
       "      <td>NaN</td>\n",
       "      <td>NaN</td>\n",
       "      <td>2017-11-10 15:00:00</td>\n",
       "    </tr>\n",
       "    <tr>\n",
       "      <th>mean</th>\n",
       "      <td>9.395234e+06</td>\n",
       "      <td>6.306921e+04</td>\n",
       "      <td>1.221480e+01</td>\n",
       "      <td>1.730513e+00</td>\n",
       "      <td>1.873312e+01</td>\n",
       "      <td>2.648059e+02</td>\n",
       "      <td>NaN</td>\n",
       "    </tr>\n",
       "    <tr>\n",
       "      <th>std</th>\n",
       "      <td>5.424341e+06</td>\n",
       "      <td>3.688597e+04</td>\n",
       "      <td>1.164924e+01</td>\n",
       "      <td>2.597038e+01</td>\n",
       "      <td>1.135059e+01</td>\n",
       "      <td>1.355254e+02</td>\n",
       "      <td>NaN</td>\n",
       "    </tr>\n",
       "    <tr>\n",
       "      <th>min</th>\n",
       "      <td>0.000000e+00</td>\n",
       "      <td>0.000000e+00</td>\n",
       "      <td>0.000000e+00</td>\n",
       "      <td>0.000000e+00</td>\n",
       "      <td>0.000000e+00</td>\n",
       "      <td>0.000000e+00</td>\n",
       "      <td>NaN</td>\n",
       "    </tr>\n",
       "    <tr>\n",
       "      <th>25%</th>\n",
       "      <td>4.697617e+06</td>\n",
       "      <td>3.155800e+04</td>\n",
       "      <td>3.000000e+00</td>\n",
       "      <td>1.000000e+00</td>\n",
       "      <td>1.300000e+01</td>\n",
       "      <td>1.350000e+02</td>\n",
       "      <td>NaN</td>\n",
       "    </tr>\n",
       "    <tr>\n",
       "      <th>50%</th>\n",
       "      <td>9.395234e+06</td>\n",
       "      <td>6.393600e+04</td>\n",
       "      <td>1.200000e+01</td>\n",
       "      <td>1.000000e+00</td>\n",
       "      <td>1.800000e+01</td>\n",
       "      <td>2.360000e+02</td>\n",
       "      <td>NaN</td>\n",
       "    </tr>\n",
       "    <tr>\n",
       "      <th>75%</th>\n",
       "      <td>1.409285e+07</td>\n",
       "      <td>9.531600e+04</td>\n",
       "      <td>1.800000e+01</td>\n",
       "      <td>1.000000e+00</td>\n",
       "      <td>1.900000e+01</td>\n",
       "      <td>4.010000e+02</td>\n",
       "      <td>NaN</td>\n",
       "    </tr>\n",
       "    <tr>\n",
       "      <th>max</th>\n",
       "      <td>1.879047e+07</td>\n",
       "      <td>1.264130e+05</td>\n",
       "      <td>5.210000e+02</td>\n",
       "      <td>3.031000e+03</td>\n",
       "      <td>6.040000e+02</td>\n",
       "      <td>4.980000e+02</td>\n",
       "      <td>NaN</td>\n",
       "    </tr>\n",
       "  </tbody>\n",
       "</table>\n",
       "</div>"
      ],
      "text/plain": [
       "            click_id            ip           app        device            os  \\\n",
       "count   1.879047e+07  1.879047e+07  1.879047e+07  1.879047e+07  1.879047e+07   \n",
       "unique           NaN           NaN           NaN           NaN           NaN   \n",
       "top              NaN           NaN           NaN           NaN           NaN   \n",
       "freq             NaN           NaN           NaN           NaN           NaN   \n",
       "first            NaN           NaN           NaN           NaN           NaN   \n",
       "last             NaN           NaN           NaN           NaN           NaN   \n",
       "mean    9.395234e+06  6.306921e+04  1.221480e+01  1.730513e+00  1.873312e+01   \n",
       "std     5.424341e+06  3.688597e+04  1.164924e+01  2.597038e+01  1.135059e+01   \n",
       "min     0.000000e+00  0.000000e+00  0.000000e+00  0.000000e+00  0.000000e+00   \n",
       "25%     4.697617e+06  3.155800e+04  3.000000e+00  1.000000e+00  1.300000e+01   \n",
       "50%     9.395234e+06  6.393600e+04  1.200000e+01  1.000000e+00  1.800000e+01   \n",
       "75%     1.409285e+07  9.531600e+04  1.800000e+01  1.000000e+00  1.900000e+01   \n",
       "max     1.879047e+07  1.264130e+05  5.210000e+02  3.031000e+03  6.040000e+02   \n",
       "\n",
       "             channel           click_time  \n",
       "count   1.879047e+07             18790469  \n",
       "unique           NaN                21603  \n",
       "top              NaN  2017-11-10 09:00:10  \n",
       "freq             NaN                 1466  \n",
       "first            NaN  2017-11-10 04:00:00  \n",
       "last             NaN  2017-11-10 15:00:00  \n",
       "mean    2.648059e+02                  NaN  \n",
       "std     1.355254e+02                  NaN  \n",
       "min     0.000000e+00                  NaN  \n",
       "25%     1.350000e+02                  NaN  \n",
       "50%     2.360000e+02                  NaN  \n",
       "75%     4.010000e+02                  NaN  \n",
       "max     4.980000e+02                  NaN  "
      ]
     },
     "execution_count": 4,
     "metadata": {},
     "output_type": "execute_result"
    }
   ],
   "source": [
    "train = pd.read_csv(os.path.join(path, \"train.csv\"), dtype=column_dtypes)\n",
    "train.click_time = pd.to_datetime(train.click_time)\n",
    "train.attributed_time = pd.to_datetime(train.attributed_time)\n",
    "train.info()\n",
    "print(train.describe(include = \"all\"))\n",
    "\n",
    "test = pd.read_csv(os.path.join(path, \"test.csv\"), dtype = column_dtypes)\n",
    "test.click_time = pd.to_datetime(test.click_time)\n",
    "test.describe(include = \"all\")"
   ]
  },
  {
   "cell_type": "code",
   "execution_count": 5,
   "metadata": {},
   "outputs": [
    {
     "data": {
      "text/plain": [
       "80"
      ]
     },
     "execution_count": 5,
     "metadata": {},
     "output_type": "execute_result"
    }
   ],
   "source": [
    "gc.collect()"
   ]
  },
  {
   "cell_type": "code",
   "execution_count": 59,
   "metadata": {},
   "outputs": [],
   "source": [
    "## comparing test and train data sets\n",
    "feats = [\"ip\", \"app\", \"device\", \"os\", \"channel\"]\n",
    "summary_df = pd.DataFrame(index= feats, columns=[\"unique_elements_in_train\", \"unique_elements_in_test\",\n",
    "                                                \"New_elements_in_test\"])\n",
    "for f in feats:\n",
    "    summary_df.loc[f, \"unique_elements_in_train\"] = train[f].nunique()\n",
    "    summary_df.loc[f, \"unique_elements_in_test\"] = test[f].nunique()\n",
    "    summary_df.loc[f, \"New_elements_in_test\"] = len(set(test[f]) - set(train[f]))"
   ]
  },
  {
   "cell_type": "code",
   "execution_count": 60,
   "metadata": {},
   "outputs": [
    {
     "data": {
      "text/html": [
       "<div>\n",
       "<style scoped>\n",
       "    .dataframe tbody tr th:only-of-type {\n",
       "        vertical-align: middle;\n",
       "    }\n",
       "\n",
       "    .dataframe tbody tr th {\n",
       "        vertical-align: top;\n",
       "    }\n",
       "\n",
       "    .dataframe thead th {\n",
       "        text-align: right;\n",
       "    }\n",
       "</style>\n",
       "<table border=\"1\" class=\"dataframe\">\n",
       "  <thead>\n",
       "    <tr style=\"text-align: right;\">\n",
       "      <th></th>\n",
       "      <th>unique_elements_in_train</th>\n",
       "      <th>unique_elements_in_test</th>\n",
       "      <th>New_elements_in_test</th>\n",
       "      <th>percentage_of_test</th>\n",
       "    </tr>\n",
       "  </thead>\n",
       "  <tbody>\n",
       "    <tr>\n",
       "      <th>ip</th>\n",
       "      <td>277396</td>\n",
       "      <td>93936</td>\n",
       "      <td>55772</td>\n",
       "      <td>59.372339</td>\n",
       "    </tr>\n",
       "    <tr>\n",
       "      <th>app</th>\n",
       "      <td>706</td>\n",
       "      <td>417</td>\n",
       "      <td>24</td>\n",
       "      <td>5.755396</td>\n",
       "    </tr>\n",
       "    <tr>\n",
       "      <th>device</th>\n",
       "      <td>3475</td>\n",
       "      <td>1985</td>\n",
       "      <td>324</td>\n",
       "      <td>16.322418</td>\n",
       "    </tr>\n",
       "    <tr>\n",
       "      <th>os</th>\n",
       "      <td>800</td>\n",
       "      <td>395</td>\n",
       "      <td>56</td>\n",
       "      <td>14.177215</td>\n",
       "    </tr>\n",
       "    <tr>\n",
       "      <th>channel</th>\n",
       "      <td>202</td>\n",
       "      <td>178</td>\n",
       "      <td>0</td>\n",
       "      <td>0.000000</td>\n",
       "    </tr>\n",
       "  </tbody>\n",
       "</table>\n",
       "</div>"
      ],
      "text/plain": [
       "         unique_elements_in_train  unique_elements_in_test  \\\n",
       "ip                         277396                    93936   \n",
       "app                           706                      417   \n",
       "device                       3475                     1985   \n",
       "os                            800                      395   \n",
       "channel                       202                      178   \n",
       "\n",
       "         New_elements_in_test  percentage_of_test  \n",
       "ip                      55772           59.372339  \n",
       "app                        24            5.755396  \n",
       "device                    324           16.322418  \n",
       "os                         56           14.177215  \n",
       "channel                     0            0.000000  "
      ]
     },
     "execution_count": 60,
     "metadata": {},
     "output_type": "execute_result"
    }
   ],
   "source": [
    "summary_df[\"percentage_of_test\"] = summary_df[\"New_elements_in_test\"]*100/summary_df[\"unique_elements_in_test\"]\n",
    "summary_df"
   ]
  },
  {
   "cell_type": "code",
   "execution_count": 17,
   "metadata": {},
   "outputs": [
    {
     "name": "stdout",
     "output_type": "stream",
     "text": [
      "<class 'pandas.core.frame.DataFrame'>\n",
      "RangeIndex: 184903890 entries, 0 to 184903889\n",
      "Data columns (total 8 columns):\n",
      "ip                 int32\n",
      "app                int16\n",
      "device             int16\n",
      "os                 int16\n",
      "channel            int32\n",
      "click_time         datetime64[ns]\n",
      "attributed_time    datetime64[ns]\n",
      "is_attributed      int8\n",
      "dtypes: datetime64[ns](2), int16(3), int32(2), int8(1)\n",
      "memory usage: 5.3 GB\n"
     ]
    }
   ],
   "source": [
    "train.info()"
   ]
  },
  {
   "cell_type": "code",
   "execution_count": 64,
   "metadata": {},
   "outputs": [],
   "source": [
    "train[\"click_year\"] = pd.DatetimeIndex(train[\"click_time\"]).year\n",
    "train[\"click_month\"] = pd.DatetimeIndex(train[\"click_time\"]).month\n",
    "train[\"click_day\"] = pd.DatetimeIndex(train[\"click_time\"]).day\n",
    "train[\"click_hour\"] = pd.DatetimeIndex(train[\"click_time\"]).hour\n",
    "train[\"click_minute\"] = pd.DatetimeIndex(train[\"click_time\"]).minute"
   ]
  },
  {
   "cell_type": "code",
   "execution_count": 31,
   "metadata": {},
   "outputs": [
    {
     "name": "stdout",
     "output_type": "stream",
     "text": [
      "   click_year  is_attributed\n",
      "0        2017       0.002471\n",
      "   click_month  is_attributed\n",
      "0           11       0.002471\n",
      "   click_day  is_attributed\n",
      "0          6       0.001869\n",
      "1          7       0.002552\n",
      "2          8       0.002436\n",
      "3          9       0.002527\n",
      "    click_hour  is_attributed\n",
      "0            0       0.002083\n",
      "1            1       0.002945\n",
      "2            2       0.003016\n",
      "3            3       0.002962\n",
      "4            4       0.002605\n",
      "5            5       0.002637\n",
      "6            6       0.002719\n",
      "7            7       0.002769\n",
      "8            8       0.002950\n",
      "9            9       0.002742\n",
      "10          10       0.002444\n",
      "11          11       0.002628\n",
      "12          12       0.002689\n",
      "13          13       0.002502\n",
      "14          14       0.002100\n",
      "15          15       0.001430\n",
      "16          16       0.001709\n",
      "17          17       0.001773\n",
      "18          18       0.001938\n",
      "19          19       0.002111\n",
      "20          20       0.002328\n",
      "21          21       0.002467\n",
      "22          22       0.002123\n",
      "23          23       0.001844\n",
      "    click_minute  is_attributed\n",
      "0              0       0.002272\n",
      "1              1       0.002402\n",
      "2              2       0.002468\n",
      "3              3       0.002478\n",
      "4              4       0.002499\n",
      "5              5       0.002467\n",
      "6              6       0.002350\n",
      "7              7       0.002465\n",
      "8              8       0.002497\n",
      "9              9       0.002537\n",
      "10            10       0.002480\n",
      "11            11       0.002435\n",
      "12            12       0.002428\n",
      "13            13       0.002521\n",
      "14            14       0.002518\n",
      "15            15       0.002474\n",
      "16            16       0.002465\n",
      "17            17       0.002468\n",
      "18            18       0.002442\n",
      "19            19       0.002485\n",
      "20            20       0.002483\n",
      "21            21       0.002466\n",
      "22            22       0.002369\n",
      "23            23       0.002483\n",
      "24            24       0.002596\n",
      "25            25       0.002482\n",
      "26            26       0.002498\n",
      "27            27       0.002470\n",
      "28            28       0.002480\n",
      "29            29       0.002517\n",
      "30            30       0.002513\n",
      "31            31       0.002475\n",
      "32            32       0.002500\n",
      "33            33       0.002439\n",
      "34            34       0.002513\n",
      "35            35       0.002471\n",
      "36            36       0.002457\n",
      "37            37       0.002488\n",
      "38            38       0.002448\n",
      "39            39       0.002431\n",
      "40            40       0.002508\n",
      "41            41       0.002416\n",
      "42            42       0.002468\n",
      "43            43       0.002433\n",
      "44            44       0.002505\n",
      "45            45       0.002437\n",
      "46            46       0.002459\n",
      "47            47       0.002484\n",
      "48            48       0.002496\n",
      "49            49       0.002485\n",
      "50            50       0.002532\n",
      "51            51       0.002474\n",
      "52            52       0.002446\n",
      "53            53       0.002451\n",
      "54            54       0.002536\n",
      "55            55       0.002523\n",
      "56            56       0.002470\n",
      "57            57       0.002500\n",
      "58            58       0.002479\n",
      "59            59       0.002466\n",
      "   click_end_of_month  is_attributed\n",
      "0               False       0.002471\n",
      "   click_start_of_month  is_attributed\n",
      "0                 False       0.002471\n",
      "   click_start_of_quarter  is_attributed\n",
      "0                   False       0.002471\n",
      "   click_end_of_quarter  is_attributed\n",
      "0                 False       0.002471\n",
      "   click_dayofweek  is_attributed\n",
      "0                0       0.001869\n",
      "1                1       0.002552\n",
      "2                2       0.002436\n",
      "3                3       0.002527\n"
     ]
    }
   ],
   "source": [
    "click_columns = [c for c in train.columns.values if \"click_\" in c and c != \"click_time\"]\n",
    "for c in click_columns:\n",
    "    temp = train[[c, \"is_attributed\"]].groupby(c).mean().reset_index()\n",
    "    print(temp)"
   ]
  },
  {
   "cell_type": "markdown",
   "metadata": {},
   "source": [
    "### attributed columns to be looked after\n",
    "- can be used to segment **ip**"
   ]
  },
  {
   "cell_type": "code",
   "execution_count": 33,
   "metadata": {},
   "outputs": [
    {
     "name": "stdout",
     "output_type": "stream",
     "text": [
      "   attributed_year  is_attributed\n",
      "0           2017.0         456846\n",
      "   attributed_month  is_attributed\n",
      "0              11.0         456846\n",
      "   attributed_day  is_attributed\n",
      "0             6.0          10717\n",
      "1             7.0         152417\n",
      "2             8.0         151761\n",
      "3             9.0         141951\n",
      "    attributed_hour  is_attributed\n",
      "0               0.0          12718\n",
      "1               1.0          20548\n",
      "2               2.0          23921\n",
      "3               3.0          25131\n",
      "4               4.0          26286\n",
      "5               5.0          26279\n",
      "6               6.0          26946\n",
      "7               7.0          27610\n",
      "8               8.0          28930\n",
      "9               9.0          28117\n",
      "10             10.0          26843\n",
      "11             11.0          29457\n",
      "12             12.0          32064\n",
      "13             13.0          33496\n",
      "14             14.0          31605\n",
      "15             15.0          23675\n",
      "16             16.0           5851\n",
      "17             17.0           4191\n",
      "18             18.0           2875\n",
      "19             19.0           2261\n",
      "20             20.0           2090\n",
      "21             21.0           2569\n",
      "22             22.0           4819\n",
      "23             23.0           8564\n",
      "    attributed_minute  is_attributed\n",
      "0                 0.0           7441\n",
      "1                 1.0           7542\n",
      "2                 2.0           7610\n",
      "3                 3.0           7792\n",
      "4                 4.0           7564\n",
      "5                 5.0           7786\n",
      "6                 6.0           7579\n",
      "7                 7.0           7479\n",
      "8                 8.0           7567\n",
      "9                 9.0           7665\n",
      "10               10.0           7521\n",
      "11               11.0           7502\n",
      "12               12.0           7547\n",
      "13               13.0           7611\n",
      "14               14.0           7750\n",
      "15               15.0           7374\n",
      "16               16.0           7499\n",
      "17               17.0           7677\n",
      "18               18.0           7569\n",
      "19               19.0           7528\n",
      "20               20.0           7503\n",
      "21               21.0           7658\n",
      "22               22.0           7697\n",
      "23               23.0           7664\n",
      "24               24.0           7566\n",
      "25               25.0           7732\n",
      "26               26.0           7705\n",
      "27               27.0           7682\n",
      "28               28.0           7666\n",
      "29               29.0           7592\n",
      "30               30.0           7685\n",
      "31               31.0           7635\n",
      "32               32.0           7663\n",
      "33               33.0           7600\n",
      "34               34.0           7720\n",
      "35               35.0           7552\n",
      "36               36.0           7657\n",
      "37               37.0           7717\n",
      "38               38.0           7629\n",
      "39               39.0           7598\n",
      "40               40.0           7682\n",
      "41               41.0           7462\n",
      "42               42.0           7600\n",
      "43               43.0           7595\n",
      "44               44.0           7470\n",
      "45               45.0           7503\n",
      "46               46.0           7673\n",
      "47               47.0           7632\n",
      "48               48.0           7671\n",
      "49               49.0           7654\n",
      "50               50.0           7551\n",
      "51               51.0           7639\n",
      "52               52.0           7608\n",
      "53               53.0           7612\n",
      "54               54.0           7610\n",
      "55               55.0           7619\n",
      "56               56.0           7621\n",
      "57               57.0           7633\n",
      "58               58.0           7737\n",
      "59               59.0           7750\n"
     ]
    }
   ],
   "source": [
    "## attributed columns to be looked after\n",
    "train[\"attributed_year\"] = pd.DatetimeIndex(train[\"attributed_time\"]).year\n",
    "train[\"attributed_month\"] = pd.DatetimeIndex(train[\"attributed_time\"]).month\n",
    "train[\"attributed_day\"] = pd.DatetimeIndex(train[\"attributed_time\"]).day\n",
    "train[\"attributed_hour\"] = pd.DatetimeIndex(train[\"attributed_time\"]).hour\n",
    "train[\"attributed_minute\"] = pd.DatetimeIndex(train[\"attributed_time\"]).minute\n",
    "\n",
    "click_columns = [c for c in train.columns.values if \"attributed_\" in c and c != \"attributed_time\"]\n",
    "for c in click_columns:\n",
    "    temp = train[[c, \"is_attributed\"]].groupby(c).count().reset_index()\n",
    "    print(temp)"
   ]
  },
  {
   "cell_type": "code",
   "execution_count": 17,
   "metadata": {},
   "outputs": [
    {
     "data": {
      "text/plain": [
       "333308"
      ]
     },
     "execution_count": 17,
     "metadata": {},
     "output_type": "execute_result"
    }
   ],
   "source": [
    "del train, test\n",
    "gc.collect()"
   ]
  },
  {
   "cell_type": "code",
   "execution_count": 3,
   "metadata": {},
   "outputs": [],
   "source": [
    "# ## Sparse df to sparse matrix\n",
    "# def sparse_df_to_csr(df):\n",
    "#     return sparse.csr_matrix(df.to_coo())"
   ]
  },
  {
   "cell_type": "code",
   "execution_count": 15,
   "metadata": {},
   "outputs": [],
   "source": [
    "# def load_column(column_name, column_index):\n",
    "#     train = pd.read_csv(os.path.join(path, \"train.csv\"), usecols = [column_index], dtype = 'uint32')\n",
    "#     test = pd.read_csv(os.path.join(path, \"test.csv\"), usecols = [column_index + 1], dtype = 'uint32')\n",
    "    \n",
    "#     sparse_df = pd.get_dummies(np.hstack([train[column_name].values, test[column_name].values]), sparse = True)\n",
    "    \n",
    "#     train_sparse_df = sparse_df.loc[:train.shape[0]]\n",
    "#     test_sparse_df = sparse_df.loc[train.shape[0]:]\n",
    "    \n",
    "#     train_sparse_mat = sparse_df_to_csr(train_sparse_df)\n",
    "#     test_sparse_mat = sparse_df_to_csr(test_sparse_df)\n",
    "\n",
    "#     return train_sparse_mat, test_sparse_mat"
   ]
  },
  {
   "cell_type": "code",
   "execution_count": 2,
   "metadata": {},
   "outputs": [],
   "source": [
    "# from sklearn.preprocessing import OneHotEncoder"
   ]
  },
  {
   "cell_type": "code",
   "execution_count": null,
   "metadata": {},
   "outputs": [],
   "source": [
    "#train_ip_sparse_mat, test_ip_sparse_mat = load_column(\"ip\", 0)\n",
    "# train_app_sparse_mat, test_app_sparse_mat = load_column(\"app\", 1)\n",
    "# train_device_sparse_mat, test_device_sparse_mat = load_column(\"device\", 2)\n",
    "# train_os_sparse_mat, test_os_sparse_mat = load_column(\"os\", 3)\n",
    "# train_channel_sparse_mat, test_channel_sparse_mat = load_column(\"channel\", 4)"
   ]
  },
  {
   "cell_type": "code",
   "execution_count": 58,
   "metadata": {},
   "outputs": [],
   "source": [
    "train = pd.read_csv(os.path.join(path, \"train.csv\"), dtype= column_dtypes)\n",
    "test = pd.read_csv(os.path.join(path, \"test.csv\"), dtype = column_dtypes)"
   ]
  },
  {
   "cell_type": "code",
   "execution_count": 39,
   "metadata": {},
   "outputs": [
    {
     "data": {
      "text/html": [
       "<div>\n",
       "<style scoped>\n",
       "    .dataframe tbody tr th:only-of-type {\n",
       "        vertical-align: middle;\n",
       "    }\n",
       "\n",
       "    .dataframe tbody tr th {\n",
       "        vertical-align: top;\n",
       "    }\n",
       "\n",
       "    .dataframe thead th {\n",
       "        text-align: right;\n",
       "    }\n",
       "</style>\n",
       "<table border=\"1\" class=\"dataframe\">\n",
       "  <thead>\n",
       "    <tr style=\"text-align: right;\">\n",
       "      <th></th>\n",
       "      <th>ip_</th>\n",
       "      <th>is_attributed_mean</th>\n",
       "      <th>is_attributed_sum</th>\n",
       "    </tr>\n",
       "  </thead>\n",
       "  <tbody>\n",
       "    <tr>\n",
       "      <th>0</th>\n",
       "      <td>1</td>\n",
       "      <td>0.191489</td>\n",
       "      <td>9.0</td>\n",
       "    </tr>\n",
       "    <tr>\n",
       "      <th>1</th>\n",
       "      <td>5</td>\n",
       "      <td>0.000000</td>\n",
       "      <td>0.0</td>\n",
       "    </tr>\n",
       "    <tr>\n",
       "      <th>2</th>\n",
       "      <td>6</td>\n",
       "      <td>0.001376</td>\n",
       "      <td>2.0</td>\n",
       "    </tr>\n",
       "    <tr>\n",
       "      <th>3</th>\n",
       "      <td>9</td>\n",
       "      <td>0.001489</td>\n",
       "      <td>6.0</td>\n",
       "    </tr>\n",
       "    <tr>\n",
       "      <th>4</th>\n",
       "      <td>10</td>\n",
       "      <td>0.002542</td>\n",
       "      <td>3.0</td>\n",
       "    </tr>\n",
       "  </tbody>\n",
       "</table>\n",
       "</div>"
      ],
      "text/plain": [
       "   ip_  is_attributed_mean  is_attributed_sum\n",
       "0    1            0.191489                9.0\n",
       "1    5            0.000000                0.0\n",
       "2    6            0.001376                2.0\n",
       "3    9            0.001489                6.0\n",
       "4   10            0.002542                3.0"
      ]
     },
     "execution_count": 39,
     "metadata": {},
     "output_type": "execute_result"
    }
   ],
   "source": [
    "temp = train[[\"ip\", \"is_attributed\"]].groupby(\"ip\").agg({\"is_attributed\": [\"mean\", \"sum\"]}).reset_index()\n",
    "temp.columns = ['_'.join(col) for col in temp.columns]\n",
    "temp.head()"
   ]
  },
  {
   "cell_type": "code",
   "execution_count": 41,
   "metadata": {},
   "outputs": [
    {
     "data": {
      "text/html": [
       "<div>\n",
       "<style scoped>\n",
       "    .dataframe tbody tr th:only-of-type {\n",
       "        vertical-align: middle;\n",
       "    }\n",
       "\n",
       "    .dataframe tbody tr th {\n",
       "        vertical-align: top;\n",
       "    }\n",
       "\n",
       "    .dataframe thead th {\n",
       "        text-align: right;\n",
       "    }\n",
       "</style>\n",
       "<table border=\"1\" class=\"dataframe\">\n",
       "  <thead>\n",
       "    <tr style=\"text-align: right;\">\n",
       "      <th></th>\n",
       "      <th>ip_</th>\n",
       "      <th>is_attributed_mean</th>\n",
       "      <th>is_attributed_sum</th>\n",
       "    </tr>\n",
       "  </thead>\n",
       "  <tbody>\n",
       "    <tr>\n",
       "      <th>1654</th>\n",
       "      <td>5348</td>\n",
       "      <td>0.001889</td>\n",
       "      <td>2340.0</td>\n",
       "    </tr>\n",
       "    <tr>\n",
       "      <th>1642</th>\n",
       "      <td>5314</td>\n",
       "      <td>0.001878</td>\n",
       "      <td>2200.0</td>\n",
       "    </tr>\n",
       "    <tr>\n",
       "      <th>22709</th>\n",
       "      <td>73487</td>\n",
       "      <td>0.001428</td>\n",
       "      <td>1091.0</td>\n",
       "    </tr>\n",
       "    <tr>\n",
       "      <th>22718</th>\n",
       "      <td>73516</td>\n",
       "      <td>0.001330</td>\n",
       "      <td>1025.0</td>\n",
       "    </tr>\n",
       "    <tr>\n",
       "      <th>1597</th>\n",
       "      <td>5178</td>\n",
       "      <td>0.002061</td>\n",
       "      <td>436.0</td>\n",
       "    </tr>\n",
       "  </tbody>\n",
       "</table>\n",
       "</div>"
      ],
      "text/plain": [
       "         ip_  is_attributed_mean  is_attributed_sum\n",
       "1654    5348            0.001889             2340.0\n",
       "1642    5314            0.001878             2200.0\n",
       "22709  73487            0.001428             1091.0\n",
       "22718  73516            0.001330             1025.0\n",
       "1597    5178            0.002061              436.0"
      ]
     },
     "execution_count": 41,
     "metadata": {},
     "output_type": "execute_result"
    }
   ],
   "source": [
    "temp = temp.sort_values(by = \"is_attributed_sum\", ascending = False)\n",
    "temp.head()"
   ]
  },
  {
   "cell_type": "code",
   "execution_count": 56,
   "metadata": {},
   "outputs": [
    {
     "data": {
      "text/plain": [
       "6677475"
      ]
     },
     "execution_count": 56,
     "metadata": {},
     "output_type": "execute_result"
    }
   ],
   "source": [
    "del temp\n",
    "gc.collect()"
   ]
  },
  {
   "cell_type": "code",
   "execution_count": 46,
   "metadata": {},
   "outputs": [],
   "source": [
    "ip_with_positive_click = temp[temp.is_attributed_mean > 0]"
   ]
  },
  {
   "cell_type": "code",
   "execution_count": 54,
   "metadata": {},
   "outputs": [
    {
     "data": {
      "text/plain": [
       "0.8833508774459617"
      ]
     },
     "execution_count": 54,
     "metadata": {},
     "output_type": "execute_result"
    }
   ],
   "source": [
    "ip_with_positive_click.shape[0]/train_ip.ip.nunique()"
   ]
  },
  {
   "cell_type": "code",
   "execution_count": 47,
   "metadata": {},
   "outputs": [],
   "source": [
    "import matplotlib.pyplot as plt"
   ]
  },
  {
   "cell_type": "code",
   "execution_count": 52,
   "metadata": {},
   "outputs": [
    {
     "data": {
      "image/png": "[encoded data removed]",
      "text/plain": [
       "<Figure size 432x288 with 1 Axes>"
      ]
     },
     "metadata": {},
     "output_type": "display_data"
    }
   ],
   "source": [
    "plt.figure()\n",
    "plt.plot(temp.ip_, temp.is_attributed_mean, '.')\n",
    "plt.show()"
   ]
  },
  {
   "cell_type": "code",
   "execution_count": 61,
   "metadata": {},
   "outputs": [],
   "source": [
    "train.click_time = pd.to_datetime(train.click_time)\n",
    "test.click_time = pd.to_datetime(test.click_time)"
   ]
  },
  {
   "cell_type": "code",
   "execution_count": 65,
   "metadata": {},
   "outputs": [
    {
     "data": {
      "text/html": [
       "<div>\n",
       "<style scoped>\n",
       "    .dataframe tbody tr th:only-of-type {\n",
       "        vertical-align: middle;\n",
       "    }\n",
       "\n",
       "    .dataframe tbody tr th {\n",
       "        vertical-align: top;\n",
       "    }\n",
       "\n",
       "    .dataframe thead th {\n",
       "        text-align: right;\n",
       "    }\n",
       "</style>\n",
       "<table border=\"1\" class=\"dataframe\">\n",
       "  <thead>\n",
       "    <tr style=\"text-align: right;\">\n",
       "      <th></th>\n",
       "      <th>ip</th>\n",
       "      <th>app</th>\n",
       "      <th>device</th>\n",
       "      <th>os</th>\n",
       "      <th>channel</th>\n",
       "      <th>click_time</th>\n",
       "      <th>attributed_time</th>\n",
       "      <th>is_attributed</th>\n",
       "      <th>click_year</th>\n",
       "      <th>click_month</th>\n",
       "      <th>click_day</th>\n",
       "      <th>click_hour</th>\n",
       "      <th>click_minute</th>\n",
       "    </tr>\n",
       "  </thead>\n",
       "  <tbody>\n",
       "    <tr>\n",
       "      <th>0</th>\n",
       "      <td>83230</td>\n",
       "      <td>3</td>\n",
       "      <td>1</td>\n",
       "      <td>13</td>\n",
       "      <td>379</td>\n",
       "      <td>2017-11-06 14:32:21</td>\n",
       "      <td>NaN</td>\n",
       "      <td>0</td>\n",
       "      <td>2017</td>\n",
       "      <td>11</td>\n",
       "      <td>6</td>\n",
       "      <td>14</td>\n",
       "      <td>32</td>\n",
       "    </tr>\n",
       "    <tr>\n",
       "      <th>1</th>\n",
       "      <td>17357</td>\n",
       "      <td>3</td>\n",
       "      <td>1</td>\n",
       "      <td>19</td>\n",
       "      <td>379</td>\n",
       "      <td>2017-11-06 14:33:34</td>\n",
       "      <td>NaN</td>\n",
       "      <td>0</td>\n",
       "      <td>2017</td>\n",
       "      <td>11</td>\n",
       "      <td>6</td>\n",
       "      <td>14</td>\n",
       "      <td>33</td>\n",
       "    </tr>\n",
       "    <tr>\n",
       "      <th>2</th>\n",
       "      <td>35810</td>\n",
       "      <td>3</td>\n",
       "      <td>1</td>\n",
       "      <td>13</td>\n",
       "      <td>379</td>\n",
       "      <td>2017-11-06 14:34:12</td>\n",
       "      <td>NaN</td>\n",
       "      <td>0</td>\n",
       "      <td>2017</td>\n",
       "      <td>11</td>\n",
       "      <td>6</td>\n",
       "      <td>14</td>\n",
       "      <td>34</td>\n",
       "    </tr>\n",
       "    <tr>\n",
       "      <th>3</th>\n",
       "      <td>45745</td>\n",
       "      <td>14</td>\n",
       "      <td>1</td>\n",
       "      <td>13</td>\n",
       "      <td>478</td>\n",
       "      <td>2017-11-06 14:34:52</td>\n",
       "      <td>NaN</td>\n",
       "      <td>0</td>\n",
       "      <td>2017</td>\n",
       "      <td>11</td>\n",
       "      <td>6</td>\n",
       "      <td>14</td>\n",
       "      <td>34</td>\n",
       "    </tr>\n",
       "    <tr>\n",
       "      <th>4</th>\n",
       "      <td>161007</td>\n",
       "      <td>3</td>\n",
       "      <td>1</td>\n",
       "      <td>13</td>\n",
       "      <td>379</td>\n",
       "      <td>2017-11-06 14:35:08</td>\n",
       "      <td>NaN</td>\n",
       "      <td>0</td>\n",
       "      <td>2017</td>\n",
       "      <td>11</td>\n",
       "      <td>6</td>\n",
       "      <td>14</td>\n",
       "      <td>35</td>\n",
       "    </tr>\n",
       "  </tbody>\n",
       "</table>\n",
       "</div>"
      ],
      "text/plain": [
       "       ip  app  device  os  channel          click_time attributed_time  \\\n",
       "0   83230    3       1  13      379 2017-11-06 14:32:21             NaN   \n",
       "1   17357    3       1  19      379 2017-11-06 14:33:34             NaN   \n",
       "2   35810    3       1  13      379 2017-11-06 14:34:12             NaN   \n",
       "3   45745   14       1  13      478 2017-11-06 14:34:52             NaN   \n",
       "4  161007    3       1  13      379 2017-11-06 14:35:08             NaN   \n",
       "\n",
       "   is_attributed  click_year  click_month  click_day  click_hour  click_minute  \n",
       "0              0        2017           11          6          14            32  \n",
       "1              0        2017           11          6          14            33  \n",
       "2              0        2017           11          6          14            34  \n",
       "3              0        2017           11          6          14            34  \n",
       "4              0        2017           11          6          14            35  "
      ]
     },
     "execution_count": 65,
     "metadata": {},
     "output_type": "execute_result"
    }
   ],
   "source": [
    "train.head()"
   ]
  },
  {
   "cell_type": "code",
   "execution_count": 66,
   "metadata": {},
   "outputs": [
    {
     "data": {
      "text/plain": [
       "8    62945075\n",
       "7    59633310\n",
       "9    53016937\n",
       "6     9308568\n",
       "Name: click_day, dtype: int64"
      ]
     },
     "execution_count": 66,
     "metadata": {},
     "output_type": "execute_result"
    }
   ],
   "source": [
    "train[\"click_day\"].value_counts()"
   ]
  },
  {
   "cell_type": "code",
   "execution_count": 67,
   "metadata": {},
   "outputs": [],
   "source": [
    "train_2 = train[train.click_day > 6]"
   ]
  },
  {
   "cell_type": "code",
   "execution_count": 69,
   "metadata": {},
   "outputs": [
    {
     "data": {
      "text/plain": [
       "0.9857676390431008"
      ]
     },
     "execution_count": 69,
     "metadata": {},
     "output_type": "execute_result"
    }
   ],
   "source": [
    "train_2.ip.nunique()/277396"
   ]
  },
  {
   "cell_type": "code",
   "execution_count": 70,
   "metadata": {},
   "outputs": [
    {
     "data": {
      "text/html": [
       "<div>\n",
       "<style scoped>\n",
       "    .dataframe tbody tr th:only-of-type {\n",
       "        vertical-align: middle;\n",
       "    }\n",
       "\n",
       "    .dataframe tbody tr th {\n",
       "        vertical-align: top;\n",
       "    }\n",
       "\n",
       "    .dataframe thead th {\n",
       "        text-align: right;\n",
       "    }\n",
       "</style>\n",
       "<table border=\"1\" class=\"dataframe\">\n",
       "  <thead>\n",
       "    <tr style=\"text-align: right;\">\n",
       "      <th></th>\n",
       "      <th>unique_elements_in_train</th>\n",
       "      <th>unique_elements_in_test</th>\n",
       "      <th>New_elements_in_test</th>\n",
       "      <th>percentage_of_test</th>\n",
       "    </tr>\n",
       "  </thead>\n",
       "  <tbody>\n",
       "    <tr>\n",
       "      <th>ip</th>\n",
       "      <td>273448</td>\n",
       "      <td>93936</td>\n",
       "      <td>55781</td>\n",
       "      <td>59.381920</td>\n",
       "    </tr>\n",
       "    <tr>\n",
       "      <th>app</th>\n",
       "      <td>699</td>\n",
       "      <td>417</td>\n",
       "      <td>25</td>\n",
       "      <td>5.995204</td>\n",
       "    </tr>\n",
       "    <tr>\n",
       "      <th>device</th>\n",
       "      <td>3427</td>\n",
       "      <td>1985</td>\n",
       "      <td>331</td>\n",
       "      <td>16.675063</td>\n",
       "    </tr>\n",
       "    <tr>\n",
       "      <th>os</th>\n",
       "      <td>773</td>\n",
       "      <td>395</td>\n",
       "      <td>58</td>\n",
       "      <td>14.683544</td>\n",
       "    </tr>\n",
       "    <tr>\n",
       "      <th>channel</th>\n",
       "      <td>202</td>\n",
       "      <td>178</td>\n",
       "      <td>0</td>\n",
       "      <td>0.000000</td>\n",
       "    </tr>\n",
       "  </tbody>\n",
       "</table>\n",
       "</div>"
      ],
      "text/plain": [
       "         unique_elements_in_train  unique_elements_in_test  \\\n",
       "ip                         273448                    93936   \n",
       "app                           699                      417   \n",
       "device                       3427                     1985   \n",
       "os                            773                      395   \n",
       "channel                       202                      178   \n",
       "\n",
       "         New_elements_in_test  percentage_of_test  \n",
       "ip                      55781           59.381920  \n",
       "app                        25            5.995204  \n",
       "device                    331           16.675063  \n",
       "os                         58           14.683544  \n",
       "channel                     0            0.000000  "
      ]
     },
     "execution_count": 70,
     "metadata": {},
     "output_type": "execute_result"
    }
   ],
   "source": [
    "## comparing test and train data sets\n",
    "feats = [\"ip\", \"app\", \"device\", \"os\", \"channel\"]\n",
    "summary_df = pd.DataFrame(index= feats, columns=[\"unique_elements_in_train\", \"unique_elements_in_test\",\n",
    "                                                \"New_elements_in_test\"])\n",
    "for f in feats:\n",
    "    summary_df.loc[f, \"unique_elements_in_train\"] = train_2[f].nunique()\n",
    "    summary_df.loc[f, \"unique_elements_in_test\"] = test[f].nunique()\n",
    "    summary_df.loc[f, \"New_elements_in_test\"] = len(set(test[f]) - set(train_2[f]))\n",
    "    \n",
    "summary_df[\"percentage_of_test\"] = summary_df[\"New_elements_in_test\"]*100/summary_df[\"unique_elements_in_test\"]\n",
    "summary_df"
   ]
  },
  {
   "cell_type": "markdown",
   "metadata": {},
   "source": [
    "### I think we can safely remove the 6th Nov 2017 rows"
   ]
  },
  {
   "cell_type": "markdown",
   "metadata": {},
   "source": [
    "#### Intraday comparision"
   ]
  },
  {
   "cell_type": "code",
   "execution_count": 77,
   "metadata": {},
   "outputs": [],
   "source": [
    "train_7 = train[train.click_day == 7]"
   ]
  },
  {
   "cell_type": "code",
   "execution_count": 81,
   "metadata": {},
   "outputs": [],
   "source": [
    "temp = train_7[[\"click_hour\", \"is_attributed\"]].groupby(\"click_hour\").mean().reset_index()"
   ]
  },
  {
   "cell_type": "code",
   "execution_count": 82,
   "metadata": {},
   "outputs": [
    {
     "data": {
      "image/png": "[encoded data removed]",
      "text/plain": [
       "<Figure size 432x288 with 1 Axes>"
      ]
     },
     "metadata": {},
     "output_type": "display_data"
    }
   ],
   "source": [
    "plt.figure()\n",
    "plt.plot(temp.click_hour, temp.is_attributed)\n",
    "plt.show()"
   ]
  },
  {
   "cell_type": "code",
   "execution_count": 88,
   "metadata": {},
   "outputs": [
    {
     "data": {
      "image/png": "[encoded data removed]",
      "text/plain": [
       "<Figure size 432x288 with 1 Axes>"
      ]
     },
     "metadata": {},
     "output_type": "display_data"
    }
   ],
   "source": [
    "train_8 = train[train.click_day == 8]\n",
    "temp = train_8[[\"click_hour\", \"is_attributed\"]].groupby(\"click_hour\").mean().reset_index()\n",
    "temp1 = train_9[[\"click_hour\", \"is_attributed\"]].groupby(\"click_hour\").mean().reset_index()\n",
    "temp2 = train_7[[\"click_hour\", \"is_attributed\"]].groupby(\"click_hour\").mean().reset_index()\n",
    "\n",
    "\n",
    "plt.figure()\n",
    "plt.plot(temp.click_hour, temp.is_attributed, label = \"day - 8\")\n",
    "plt.plot(temp1.click_hour, temp1.is_attributed, label = \"day - 9\")\n",
    "plt.plot(temp2.click_hour, temp2.is_attributed, label = \"day - 7\")\n",
    "plt.legend()\n",
    "plt.show()"
   ]
  },
  {
   "cell_type": "code",
   "execution_count": 97,
   "metadata": {},
   "outputs": [
    {
     "data": {
      "image/png": "[encoded data removed]",
      "text/plain": [
       "<Figure size 432x288 with 1 Axes>"
      ]
     },
     "metadata": {},
     "output_type": "display_data"
    }
   ],
   "source": [
    "train_7_hour8 = train_7[train_7.click_hour == 8]\n",
    "temp = train_7_hour8[[\"click_minute\", \"is_attributed\"]].groupby(\"click_minute\").mean().reset_index()\n",
    "\n",
    "train_7_hour8 = train_7[train_7.click_hour == 12]\n",
    "temp1 = train_7_hour8[[\"click_minute\", \"is_attributed\"]].groupby(\"click_minute\").mean().reset_index()\n",
    "\n",
    "train_7_hour8 = train_7[train_7.click_hour == 3]\n",
    "temp2 = train_7_hour8[[\"click_minute\", \"is_attributed\"]].groupby(\"click_minute\").mean().reset_index()\n",
    "\n",
    "train_7_hour8 = train_7[train_7.click_hour == 15]\n",
    "temp3 = train_7_hour8[[\"click_minute\", \"is_attributed\"]].groupby(\"click_minute\").mean().reset_index()\n",
    "\n",
    "train_7_hour8 = train_7[train_7.click_hour == 16]\n",
    "temp4 = train_7_hour8[[\"click_minute\", \"is_attributed\"]].groupby(\"click_minute\").mean().reset_index()\n",
    "\n",
    "plt.figure()\n",
    "plt.plot(temp.click_minute, temp.is_attributed, label =\"hour - 8\")\n",
    "#plt.plot(temp1.click_minute, temp1.is_attributed, label =\"hour - 12\")\n",
    "#plt.plot(temp2.click_minute, temp2.is_attributed, label =\"hour - 3\")\n",
    "plt.plot(temp3.click_minute, temp3.is_attributed, label =\"hour - 15\")\n",
    "plt.plot(temp4.click_minute, temp4.is_attributed, label =\"hour - 16\")\n",
    "plt.legend()\n",
    "plt.show()"
   ]
  },
  {
   "cell_type": "code",
   "execution_count": 100,
   "metadata": {},
   "outputs": [],
   "source": [
    "def plot_attribute(df_data, filter_var, filter_value, group_var):\n",
    "    temp = df_data[df_data[filter_var] == filter_value]\n",
    "    \n",
    "    temp = temp[[group_var, \"is_attributed\"]].groupby(group_var).mean().reset_index()\n",
    "    \n",
    "    return temp"
   ]
  },
  {
   "cell_type": "code",
   "execution_count": 107,
   "metadata": {},
   "outputs": [
    {
     "data": {
      "image/png": "[encoded data removed]",
      "text/plain": [
       "<Figure size 432x288 with 1 Axes>"
      ]
     },
     "metadata": {},
     "output_type": "display_data"
    }
   ],
   "source": [
    "temp = plot_attribute(train, \"click_day\", 7, \"app\")\n",
    "plt.figure()\n",
    "plt.plot(temp[\"app\"], temp[\"is_attributed\"], label = \"day - 7\")\n",
    "\n",
    "temp = plot_attribute(train, \"click_day\", 8, \"app\")\n",
    "plt.plot(temp[\"app\"], temp[\"is_attributed\"], label = \"day - 8\")\n",
    "\n",
    "# temp = plot_attribute(train, \"click_day\", 9, \"app\")\n",
    "# plt.plot(temp[\"app\"], temp[\"is_attributed\"], label = \"day - 9\")\n",
    "\n",
    "plt.legend()\n",
    "plt.show()"
   ]
  },
  {
   "cell_type": "code",
   "execution_count": 105,
   "metadata": {},
   "outputs": [
    {
     "data": {
      "image/png": "[encoded data removed]",
      "text/plain": [
       "<Figure size 432x288 with 1 Axes>"
      ]
     },
     "metadata": {},
     "output_type": "display_data"
    }
   ],
   "source": [
    "temp = plot_attribute(train, \"click_day\", 7, \"channel\")\n",
    "plt.figure()\n",
    "plt.plot(temp[\"channel\"], temp[\"is_attributed\"],'.' ,label = \"day - 7\")\n",
    "\n",
    "temp = plot_attribute(train, \"click_day\", 8, \"channel\")\n",
    "plt.plot(temp[\"channel\"], temp[\"is_attributed\"], '.',label = \"day - 8\")\n",
    "\n",
    "# temp = plot_attribute(train, \"click_day\", 9, \"app\")\n",
    "# plt.plot(temp[\"app\"], temp[\"is_attributed\"], label = \"day - 9\")\n",
    "\n",
    "plt.legend()\n",
    "plt.show()"
   ]
  }
 ],
 "metadata": {
  "kernelspec": {
   "display_name": "Python 3",
   "language": "python",
   "name": "python3"
  },
  "language_info": {
   "codemirror_mode": {
    "name": "ipython",
    "version": 3
   },
   "file_extension": ".py",
   "mimetype": "text/x-python",
   "name": "python",
   "nbconvert_exporter": "python",
   "pygments_lexer": "ipython3",
   "version": "3.6.4"
  }
 },
 "nbformat": 4,
 "nbformat_minor": 2
}
