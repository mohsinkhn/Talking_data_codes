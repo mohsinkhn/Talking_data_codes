{
 "cells": [
  {
   "cell_type": "code",
   "execution_count": 1,
   "metadata": {},
   "outputs": [
    {
     "data": {
      "text/plain": [
       "0"
      ]
     },
     "execution_count": 1,
     "metadata": {},
     "output_type": "execute_result"
    }
   ],
   "source": [
    "import pandas  as pd\n",
    "import numpy as np\n",
    "\n",
    "import matplotlib.pyplot as plt\n",
    "import seaborn as sns\n",
    "\n",
    "import gc\n",
    "gc.collect()"
   ]
  },
  {
   "cell_type": "code",
   "execution_count": 2,
   "metadata": {},
   "outputs": [],
   "source": [
    "train = pd.read_csv(\"../input/train.csv\", dtype = {\n",
    "        'ip'            : 'uint32',\n",
    "        'app'           : 'uint16',\n",
    "        'device'        : 'uint16',\n",
    "        'os'            : 'uint16',\n",
    "        'channel'       : 'uint16',\n",
    "        'is_attributed' : 'uint8',\n",
    "        'click_id'      : 'uint32'\n",
    "        }, skiprows = list(range(1,150000000)))"
   ]
  },
  {
   "cell_type": "code",
   "execution_count": 3,
   "metadata": {},
   "outputs": [
    {
     "data": {
      "text/html": [
       "<div>\n",
       "<style scoped>\n",
       "    .dataframe tbody tr th:only-of-type {\n",
       "        vertical-align: middle;\n",
       "    }\n",
       "\n",
       "    .dataframe tbody tr th {\n",
       "        vertical-align: top;\n",
       "    }\n",
       "\n",
       "    .dataframe thead th {\n",
       "        text-align: right;\n",
       "    }\n",
       "</style>\n",
       "<table border=\"1\" class=\"dataframe\">\n",
       "  <thead>\n",
       "    <tr style=\"text-align: right;\">\n",
       "      <th></th>\n",
       "      <th>ip</th>\n",
       "      <th>app</th>\n",
       "      <th>device</th>\n",
       "      <th>os</th>\n",
       "      <th>channel</th>\n",
       "      <th>click_time</th>\n",
       "      <th>attributed_time</th>\n",
       "      <th>is_attributed</th>\n",
       "    </tr>\n",
       "  </thead>\n",
       "  <tbody>\n",
       "    <tr>\n",
       "      <th>0</th>\n",
       "      <td>156608</td>\n",
       "      <td>3</td>\n",
       "      <td>1</td>\n",
       "      <td>10</td>\n",
       "      <td>173</td>\n",
       "      <td>2017-11-09 05:19:45</td>\n",
       "      <td>NaN</td>\n",
       "      <td>0</td>\n",
       "    </tr>\n",
       "    <tr>\n",
       "      <th>1</th>\n",
       "      <td>111186</td>\n",
       "      <td>12</td>\n",
       "      <td>1</td>\n",
       "      <td>22</td>\n",
       "      <td>178</td>\n",
       "      <td>2017-11-09 05:19:45</td>\n",
       "      <td>NaN</td>\n",
       "      <td>0</td>\n",
       "    </tr>\n",
       "    <tr>\n",
       "      <th>2</th>\n",
       "      <td>143839</td>\n",
       "      <td>12</td>\n",
       "      <td>1</td>\n",
       "      <td>17</td>\n",
       "      <td>178</td>\n",
       "      <td>2017-11-09 05:19:45</td>\n",
       "      <td>NaN</td>\n",
       "      <td>0</td>\n",
       "    </tr>\n",
       "    <tr>\n",
       "      <th>3</th>\n",
       "      <td>87609</td>\n",
       "      <td>18</td>\n",
       "      <td>1</td>\n",
       "      <td>19</td>\n",
       "      <td>107</td>\n",
       "      <td>2017-11-09 05:19:45</td>\n",
       "      <td>NaN</td>\n",
       "      <td>0</td>\n",
       "    </tr>\n",
       "    <tr>\n",
       "      <th>4</th>\n",
       "      <td>123924</td>\n",
       "      <td>2</td>\n",
       "      <td>1</td>\n",
       "      <td>25</td>\n",
       "      <td>469</td>\n",
       "      <td>2017-11-09 05:19:45</td>\n",
       "      <td>NaN</td>\n",
       "      <td>0</td>\n",
       "    </tr>\n",
       "  </tbody>\n",
       "</table>\n",
       "</div>"
      ],
      "text/plain": [
       "       ip  app  device  os  channel           click_time attributed_time  \\\n",
       "0  156608    3       1  10      173  2017-11-09 05:19:45             NaN   \n",
       "1  111186   12       1  22      178  2017-11-09 05:19:45             NaN   \n",
       "2  143839   12       1  17      178  2017-11-09 05:19:45             NaN   \n",
       "3   87609   18       1  19      107  2017-11-09 05:19:45             NaN   \n",
       "4  123924    2       1  25      469  2017-11-09 05:19:45             NaN   \n",
       "\n",
       "   is_attributed  \n",
       "0              0  \n",
       "1              0  \n",
       "2              0  \n",
       "3              0  \n",
       "4              0  "
      ]
     },
     "execution_count": 3,
     "metadata": {},
     "output_type": "execute_result"
    }
   ],
   "source": [
    "train.head()"
   ]
  },
  {
   "cell_type": "code",
   "execution_count": 4,
   "metadata": {},
   "outputs": [
    {
     "data": {
      "text/plain": [
       "0    0.997474\n",
       "1    0.002526\n",
       "Name: is_attributed, dtype: float64"
      ]
     },
     "execution_count": 4,
     "metadata": {},
     "output_type": "execute_result"
    }
   ],
   "source": [
    "train.is_attributed.value_counts(normalize=True)"
   ]
  },
  {
   "cell_type": "code",
   "execution_count": 5,
   "metadata": {},
   "outputs": [
    {
     "data": {
      "text/plain": [
       "(34903891, 8)"
      ]
     },
     "execution_count": 5,
     "metadata": {},
     "output_type": "execute_result"
    }
   ],
   "source": [
    "train.shape"
   ]
  },
  {
   "cell_type": "code",
   "execution_count": 6,
   "metadata": {},
   "outputs": [],
   "source": [
    "train['hourofday'] = pd.to_datetime(train[\"click_time\"]).dt.hour"
   ]
  },
  {
   "cell_type": "code",
   "execution_count": 7,
   "metadata": {},
   "outputs": [],
   "source": [
    "import lightgbm as lgb\n",
    "from sklearn.metrics import *\n",
    "from sklearn.model_selection import *"
   ]
  },
  {
   "cell_type": "code",
   "execution_count": 8,
   "metadata": {},
   "outputs": [],
   "source": [
    "feats = ['ip', 'app', 'device', 'os', 'channel', 'hourofday']\n",
    "X = train[feats]\n",
    "y = train.is_attributed"
   ]
  },
  {
   "cell_type": "code",
   "execution_count": 9,
   "metadata": {},
   "outputs": [],
   "source": [
    "del train"
   ]
  },
  {
   "cell_type": "code",
   "execution_count": 10,
   "metadata": {},
   "outputs": [],
   "source": [
    "y = y.astype(np.uint8)"
   ]
  },
  {
   "cell_type": "code",
   "execution_count": 11,
   "metadata": {},
   "outputs": [],
   "source": [
    "X[\"hourofday\"] = X[\"hourofday\"].astype(\"uint8\")"
   ]
  },
  {
   "cell_type": "code",
   "execution_count": 24,
   "metadata": {},
   "outputs": [],
   "source": [
    "cvlist1 = list(StratifiedKFold(5, random_state=1).split(X, y))\n",
    "cvlist2 = list(StratifiedShuffleSplit(3, test_size=0.1, random_state=1).split(X, y))\n",
    "cvlist3 = list(StratifiedShuffleSplit(3, test_size=0.1, random_state=2).split(X, y))\n",
    "cvlist4 = list(StratifiedShuffleSplit(3, test_size=0.05, random_state=3).split(X, y))"
   ]
  },
  {
   "cell_type": "code",
   "execution_count": 32,
   "metadata": {},
   "outputs": [],
   "source": [
    "model = lgb.LGBMClassifier(num_leaves=255, n_jobs=-1, n_estimators=500, subsample=0.7, colsample_bytree=0.7,\n",
    "                           verbose=10, device=\"gpu\", num_bins=31)"
   ]
  },
  {
   "cell_type": "code",
   "execution_count": 30,
   "metadata": {},
   "outputs": [],
   "source": [
    "from utils import outoffold_crossvalidator, shuffle_crossvalidator"
   ]
  },
  {
   "cell_type": "code",
   "execution_count": 33,
   "metadata": {},
   "outputs": [
    {
     "name": "stdout",
     "output_type": "stream",
     "text": [
      "Training until validation scores don't improve for 50 rounds.\n",
      "[10]\tvalid_0's auc: 0.931276\n",
      "[20]\tvalid_0's auc: 0.929621\n",
      "[30]\tvalid_0's auc: 0.9376\n",
      "[40]\tvalid_0's auc: 0.945643\n",
      "[50]\tvalid_0's auc: 0.948361\n",
      "[60]\tvalid_0's auc: 0.948255\n",
      "[70]\tvalid_0's auc: 0.949129\n",
      "[80]\tvalid_0's auc: 0.95\n",
      "[90]\tvalid_0's auc: 0.949851\n",
      "[100]\tvalid_0's auc: 0.950008\n",
      "[110]\tvalid_0's auc: 0.949593\n",
      "[120]\tvalid_0's auc: 0.949201\n",
      "[130]\tvalid_0's auc: 0.948441\n",
      "[140]\tvalid_0's auc: 0.948557\n",
      "Early stopping, best iteration is:\n",
      "[99]\tvalid_0's auc: 0.950244\n",
      "Score for this fold is  0.9502438775533375\n",
      "Training until validation scores don't improve for 50 rounds.\n",
      "[10]\tvalid_0's auc: 0.910488\n",
      "[20]\tvalid_0's auc: 0.91543\n",
      "[30]\tvalid_0's auc: 0.924364\n",
      "[40]\tvalid_0's auc: 0.931458\n",
      "[50]\tvalid_0's auc: 0.931848\n",
      "[60]\tvalid_0's auc: 0.931307\n",
      "[70]\tvalid_0's auc: 0.931392\n",
      "[80]\tvalid_0's auc: 0.932515\n",
      "[90]\tvalid_0's auc: 0.933182\n",
      "[100]\tvalid_0's auc: 0.93305\n",
      "[110]\tvalid_0's auc: 0.93279\n",
      "[120]\tvalid_0's auc: 0.932774\n",
      "[130]\tvalid_0's auc: 0.932508\n",
      "[140]\tvalid_0's auc: 0.932253\n",
      "[150]\tvalid_0's auc: 0.931342\n",
      "Early stopping, best iteration is:\n",
      "[106]\tvalid_0's auc: 0.933271\n",
      "Score for this fold is  0.9332706834611404\n",
      "Training until validation scores don't improve for 50 rounds.\n",
      "[10]\tvalid_0's auc: 0.914098\n",
      "[20]\tvalid_0's auc: 0.916838\n",
      "[30]\tvalid_0's auc: 0.923215\n",
      "[40]\tvalid_0's auc: 0.93103\n",
      "[50]\tvalid_0's auc: 0.931307\n",
      "[60]\tvalid_0's auc: 0.932603\n",
      "[70]\tvalid_0's auc: 0.933973\n",
      "[80]\tvalid_0's auc: 0.934242\n",
      "[90]\tvalid_0's auc: 0.931807\n",
      "[100]\tvalid_0's auc: 0.930624\n",
      "[110]\tvalid_0's auc: 0.93018\n",
      "Early stopping, best iteration is:\n",
      "[66]\tvalid_0's auc: 0.935349\n",
      "Score for this fold is  0.935349091123402\n",
      "Training until validation scores don't improve for 50 rounds.\n",
      "[10]\tvalid_0's auc: 0.926752\n",
      "[20]\tvalid_0's auc: 0.934434\n",
      "[30]\tvalid_0's auc: 0.940127\n",
      "[40]\tvalid_0's auc: 0.942343\n",
      "[50]\tvalid_0's auc: 0.946222\n",
      "[60]\tvalid_0's auc: 0.946197\n",
      "[70]\tvalid_0's auc: 0.942803\n",
      "[80]\tvalid_0's auc: 0.944297\n",
      "[90]\tvalid_0's auc: 0.94727\n",
      "[100]\tvalid_0's auc: 0.948824\n",
      "[110]\tvalid_0's auc: 0.947571\n",
      "[120]\tvalid_0's auc: 0.946448\n",
      "[130]\tvalid_0's auc: 0.946635\n",
      "[140]\tvalid_0's auc: 0.947724\n",
      "[150]\tvalid_0's auc: 0.946437\n",
      "Early stopping, best iteration is:\n",
      "[107]\tvalid_0's auc: 0.949344\n",
      "Score for this fold is  0.9493445041420107\n",
      "Training until validation scores don't improve for 50 rounds.\n",
      "[10]\tvalid_0's auc: 0.942175\n",
      "[20]\tvalid_0's auc: 0.913259\n",
      "[30]\tvalid_0's auc: 0.927437\n",
      "[40]\tvalid_0's auc: 0.938516\n",
      "[50]\tvalid_0's auc: 0.940975\n",
      "[60]\tvalid_0's auc: 0.942474\n",
      "Early stopping, best iteration is:\n",
      "[11]\tvalid_0's auc: 0.952195\n",
      "Score for this fold is  0.9521947834183543\n",
      "Overall score on 10 fold CV is 0.8900159565507156\n",
      "CPU times: user 4h 23min 38s, sys: 4min 57s, total: 4h 28min 35s\n",
      "Wall time: 23min 54s\n"
     ]
    },
    {
     "data": {
      "text/plain": [
       "(array([2.78518357e-04, 1.37839076e-04, 1.16299775e-04, ...,\n",
       "        1.63612598e-01, 1.62369801e-01, 1.62494824e-01]),\n",
       " array([0, 0, 0, ..., 0, 0, 0], dtype=uint8),\n",
       " [])"
      ]
     },
     "execution_count": 33,
     "metadata": {},
     "output_type": "execute_result"
    }
   ],
   "source": [
    "%%time\n",
    "outoffold_crossvalidator(model, X, y, cvlist=cvlist1)"
   ]
  },
  {
   "cell_type": "code",
   "execution_count": 15,
   "metadata": {},
   "outputs": [
    {
     "name": "stdout",
     "output_type": "stream",
     "text": [
      "Training until validation scores don't improve for 50 rounds.\n",
      "[10]\tvalid_0's auc: 0.896306\n",
      "[20]\tvalid_0's auc: 0.913052\n",
      "[30]\tvalid_0's auc: 0.911174\n",
      "[40]\tvalid_0's auc: 0.919046\n",
      "[50]\tvalid_0's auc: 0.944434\n",
      "[60]\tvalid_0's auc: 0.952046\n",
      "[70]\tvalid_0's auc: 0.955266\n",
      "[80]\tvalid_0's auc: 0.956759\n",
      "[90]\tvalid_0's auc: 0.956643\n",
      "[100]\tvalid_0's auc: 0.956805\n",
      "[110]\tvalid_0's auc: 0.957305\n",
      "[120]\tvalid_0's auc: 0.957728\n",
      "[130]\tvalid_0's auc: 0.957786\n",
      "[140]\tvalid_0's auc: 0.95765\n",
      "[150]\tvalid_0's auc: 0.957577\n",
      "[160]\tvalid_0's auc: 0.957648\n",
      "[170]\tvalid_0's auc: 0.957555\n",
      "Early stopping, best iteration is:\n",
      "[124]\tvalid_0's auc: 0.957864\n",
      "Score for this fold is  0.9578640504704719\n",
      "Training until validation scores don't improve for 50 rounds.\n",
      "[10]\tvalid_0's auc: 0.898151\n",
      "[20]\tvalid_0's auc: 0.915149\n",
      "[30]\tvalid_0's auc: 0.91087\n",
      "[40]\tvalid_0's auc: 0.931119\n",
      "[50]\tvalid_0's auc: 0.945237\n",
      "[60]\tvalid_0's auc: 0.950787\n",
      "[70]\tvalid_0's auc: 0.951632\n",
      "[80]\tvalid_0's auc: 0.95163\n",
      "[90]\tvalid_0's auc: 0.952805\n",
      "[100]\tvalid_0's auc: 0.952908\n",
      "[110]\tvalid_0's auc: 0.952629\n",
      "[120]\tvalid_0's auc: 0.952532\n",
      "[130]\tvalid_0's auc: 0.952838\n",
      "[140]\tvalid_0's auc: 0.952971\n",
      "Early stopping, best iteration is:\n",
      "[97]\tvalid_0's auc: 0.95335\n",
      "Score for this fold is  0.9533499733480517\n",
      "Training until validation scores don't improve for 50 rounds.\n",
      "[10]\tvalid_0's auc: 0.907305\n",
      "[20]\tvalid_0's auc: 0.920869\n",
      "[30]\tvalid_0's auc: 0.919669\n",
      "[40]\tvalid_0's auc: 0.921005\n",
      "[50]\tvalid_0's auc: 0.946926\n",
      "[60]\tvalid_0's auc: 0.953801\n",
      "[70]\tvalid_0's auc: 0.955355\n",
      "[80]\tvalid_0's auc: 0.955748\n",
      "[90]\tvalid_0's auc: 0.95722\n",
      "[100]\tvalid_0's auc: 0.955347\n",
      "[110]\tvalid_0's auc: 0.954785\n",
      "[120]\tvalid_0's auc: 0.953681\n",
      "[130]\tvalid_0's auc: 0.953178\n",
      "[140]\tvalid_0's auc: 0.952928\n",
      "Early stopping, best iteration is:\n",
      "[96]\tvalid_0's auc: 0.95775\n",
      "Score for this fold is  0.9577503120234114\n",
      "Training until validation scores don't improve for 50 rounds.\n",
      "[10]\tvalid_0's auc: 0.920677\n",
      "[20]\tvalid_0's auc: 0.932038\n",
      "[30]\tvalid_0's auc: 0.929317\n",
      "[40]\tvalid_0's auc: 0.929634\n",
      "[50]\tvalid_0's auc: 0.950693\n",
      "[60]\tvalid_0's auc: 0.953036\n",
      "[70]\tvalid_0's auc: 0.950456\n",
      "[80]\tvalid_0's auc: 0.953419\n",
      "[90]\tvalid_0's auc: 0.95551\n",
      "[100]\tvalid_0's auc: 0.956342\n",
      "[110]\tvalid_0's auc: 0.955518\n",
      "[120]\tvalid_0's auc: 0.956103\n",
      "[130]\tvalid_0's auc: 0.955944\n",
      "[140]\tvalid_0's auc: 0.955959\n",
      "Early stopping, best iteration is:\n",
      "[99]\tvalid_0's auc: 0.957354\n",
      "Score for this fold is  0.9573542436103644\n",
      "Training until validation scores don't improve for 50 rounds.\n",
      "[10]\tvalid_0's auc: 0.931219\n",
      "[20]\tvalid_0's auc: 0.945883\n",
      "[30]\tvalid_0's auc: 0.943835\n",
      "[40]\tvalid_0's auc: 0.946346\n",
      "[50]\tvalid_0's auc: 0.967172\n",
      "[60]\tvalid_0's auc: 0.968344\n",
      "[70]\tvalid_0's auc: 0.968888\n",
      "[80]\tvalid_0's auc: 0.96932\n",
      "[90]\tvalid_0's auc: 0.971074\n",
      "[100]\tvalid_0's auc: 0.971538\n",
      "[110]\tvalid_0's auc: 0.97241\n",
      "[120]\tvalid_0's auc: 0.972782\n",
      "[130]\tvalid_0's auc: 0.973162\n",
      "[140]\tvalid_0's auc: 0.973405\n",
      "[150]\tvalid_0's auc: 0.973597\n",
      "[160]\tvalid_0's auc: 0.973576\n",
      "[170]\tvalid_0's auc: 0.973505\n",
      "[180]\tvalid_0's auc: 0.973629\n",
      "[190]\tvalid_0's auc: 0.973263\n",
      "[200]\tvalid_0's auc: 0.973259\n",
      "[210]\tvalid_0's auc: 0.973219\n",
      "Early stopping, best iteration is:\n",
      "[168]\tvalid_0's auc: 0.973822\n",
      "Score for this fold is  0.9738215698333849\n",
      "Overall score on 10 fold CV is 0.9598282849448405\n",
      "CPU times: user 5h 7min 7s, sys: 6min 47s, total: 5h 13min 55s\n",
      "Wall time: 29min 4s\n"
     ]
    },
    {
     "data": {
      "text/plain": [
       "(array([3.15135271e-04, 1.98850257e-04, 1.49126886e-04, ...,\n",
       "        6.27803027e-04, 4.70937077e-05, 6.11750926e-04]),\n",
       " array([0, 0, 0, ..., 0, 0, 0], dtype=uint8),\n",
       " [])"
      ]
     },
     "execution_count": 15,
     "metadata": {},
     "output_type": "execute_result"
    }
   ],
   "source": [
    "%%time\n",
    "outoffold_crossvalidator(model, X, y, cvlist=cvlist1)"
   ]
  },
  {
   "cell_type": "code",
   "execution_count": 16,
   "metadata": {},
   "outputs": [
    {
     "name": "stdout",
     "output_type": "stream",
     "text": [
      "Training until validation scores don't improve for 50 rounds.\n",
      "[10]\tvalid_0's auc: 0.912498\n",
      "[20]\tvalid_0's auc: 0.923586\n",
      "[30]\tvalid_0's auc: 0.920692\n",
      "[40]\tvalid_0's auc: 0.932885\n",
      "[50]\tvalid_0's auc: 0.951149\n",
      "[60]\tvalid_0's auc: 0.957935\n",
      "[70]\tvalid_0's auc: 0.960812\n",
      "[80]\tvalid_0's auc: 0.962522\n",
      "[90]\tvalid_0's auc: 0.963111\n",
      "[100]\tvalid_0's auc: 0.964293\n",
      "[110]\tvalid_0's auc: 0.964707\n",
      "[120]\tvalid_0's auc: 0.965026\n",
      "[130]\tvalid_0's auc: 0.965172\n",
      "[140]\tvalid_0's auc: 0.965439\n",
      "[150]\tvalid_0's auc: 0.965488\n",
      "[160]\tvalid_0's auc: 0.965769\n",
      "[170]\tvalid_0's auc: 0.965886\n",
      "[180]\tvalid_0's auc: 0.965819\n",
      "[190]\tvalid_0's auc: 0.966059\n",
      "[200]\tvalid_0's auc: 0.96599\n",
      "[210]\tvalid_0's auc: 0.965815\n",
      "[220]\tvalid_0's auc: 0.965359\n",
      "[230]\tvalid_0's auc: 0.965186\n",
      "Early stopping, best iteration is:\n",
      "[185]\tvalid_0's auc: 0.966109\n",
      "Score for this fold is  0.9661093545169657\n",
      "Training until validation scores don't improve for 50 rounds.\n",
      "[10]\tvalid_0's auc: 0.911795\n",
      "[20]\tvalid_0's auc: 0.924858\n",
      "[30]\tvalid_0's auc: 0.922706\n",
      "[40]\tvalid_0's auc: 0.933917\n",
      "[50]\tvalid_0's auc: 0.956354\n",
      "[60]\tvalid_0's auc: 0.960013\n",
      "[70]\tvalid_0's auc: 0.962254\n",
      "[80]\tvalid_0's auc: 0.963611\n",
      "[90]\tvalid_0's auc: 0.964427\n",
      "[100]\tvalid_0's auc: 0.96505\n",
      "[110]\tvalid_0's auc: 0.965541\n",
      "[120]\tvalid_0's auc: 0.966018\n",
      "[130]\tvalid_0's auc: 0.96625\n",
      "[140]\tvalid_0's auc: 0.966192\n",
      "[150]\tvalid_0's auc: 0.96601\n",
      "[160]\tvalid_0's auc: 0.965962\n",
      "[170]\tvalid_0's auc: 0.965858\n",
      "[180]\tvalid_0's auc: 0.965913\n",
      "Early stopping, best iteration is:\n",
      "[132]\tvalid_0's auc: 0.966305\n",
      "Score for this fold is  0.9663054141738256\n",
      "Training until validation scores don't improve for 50 rounds.\n",
      "[10]\tvalid_0's auc: 0.911675\n",
      "[20]\tvalid_0's auc: 0.926812\n",
      "[30]\tvalid_0's auc: 0.922733\n",
      "[40]\tvalid_0's auc: 0.931571\n",
      "[50]\tvalid_0's auc: 0.952946\n",
      "[60]\tvalid_0's auc: 0.95877\n",
      "[70]\tvalid_0's auc: 0.962008\n",
      "[80]\tvalid_0's auc: 0.963246\n",
      "[90]\tvalid_0's auc: 0.964461\n",
      "[100]\tvalid_0's auc: 0.965379\n",
      "[110]\tvalid_0's auc: 0.966087\n",
      "[120]\tvalid_0's auc: 0.966446\n",
      "[130]\tvalid_0's auc: 0.966959\n",
      "[140]\tvalid_0's auc: 0.966893\n",
      "[150]\tvalid_0's auc: 0.966674\n",
      "[160]\tvalid_0's auc: 0.966974\n",
      "[170]\tvalid_0's auc: 0.96719\n",
      "[180]\tvalid_0's auc: 0.967296\n",
      "[190]\tvalid_0's auc: 0.967403\n",
      "[200]\tvalid_0's auc: 0.967362\n",
      "[210]\tvalid_0's auc: 0.967322\n",
      "[220]\tvalid_0's auc: 0.967161\n",
      "[230]\tvalid_0's auc: 0.967102\n",
      "[240]\tvalid_0's auc: 0.966976\n",
      "Early stopping, best iteration is:\n",
      "[193]\tvalid_0's auc: 0.967429\n",
      "Score for this fold is  0.9674294945153307\n",
      "Overall score on 10 fold CV is 0.9665788034384244\n",
      "CPU times: user 3h 17min 23s, sys: 4min 19s, total: 3h 21min 43s\n",
      "Wall time: 15min 39s\n"
     ]
    },
    {
     "data": {
      "text/plain": [
       "(array([3.85477169e-04, 8.79651385e-05, 8.46851862e-04, ...,\n",
       "        3.22501242e-03, 1.35301086e-04, 8.70125782e-05]),\n",
       " array([0, 0, 0, ..., 0, 0, 0], dtype=uint8),\n",
       " [])"
      ]
     },
     "execution_count": 16,
     "metadata": {},
     "output_type": "execute_result"
    }
   ],
   "source": [
    "%%time\n",
    "shuffle_crossvalidator(model, X, y, cvlist=cvlist2)\n"
   ]
  },
  {
   "cell_type": "code",
   "execution_count": 22,
   "metadata": {},
   "outputs": [
    {
     "data": {
      "text/plain": [
       "12"
      ]
     },
     "execution_count": 22,
     "metadata": {},
     "output_type": "execute_result"
    }
   ],
   "source": [
    "gc.collect()"
   ]
  },
  {
   "cell_type": "code",
   "execution_count": 17,
   "metadata": {},
   "outputs": [
    {
     "name": "stdout",
     "output_type": "stream",
     "text": [
      "Training until validation scores don't improve for 50 rounds.\n",
      "[10]\tvalid_0's auc: 0.908707\n",
      "[20]\tvalid_0's auc: 0.921661\n",
      "[30]\tvalid_0's auc: 0.918983\n",
      "[40]\tvalid_0's auc: 0.929263\n",
      "[50]\tvalid_0's auc: 0.952492\n",
      "[60]\tvalid_0's auc: 0.957141\n",
      "[70]\tvalid_0's auc: 0.959453\n",
      "[80]\tvalid_0's auc: 0.961588\n",
      "[90]\tvalid_0's auc: 0.963215\n",
      "[100]\tvalid_0's auc: 0.963839\n",
      "[110]\tvalid_0's auc: 0.964578\n",
      "[120]\tvalid_0's auc: 0.96468\n",
      "[130]\tvalid_0's auc: 0.964894\n",
      "[140]\tvalid_0's auc: 0.965232\n",
      "[150]\tvalid_0's auc: 0.96543\n",
      "[160]\tvalid_0's auc: 0.965472\n",
      "[170]\tvalid_0's auc: 0.965618\n",
      "[180]\tvalid_0's auc: 0.965731\n",
      "[190]\tvalid_0's auc: 0.965642\n",
      "[200]\tvalid_0's auc: 0.965664\n",
      "[210]\tvalid_0's auc: 0.965417\n",
      "[220]\tvalid_0's auc: 0.965377\n",
      "Early stopping, best iteration is:\n",
      "[178]\tvalid_0's auc: 0.965739\n",
      "Score for this fold is  0.9657390948104712\n",
      "Training until validation scores don't improve for 50 rounds.\n",
      "[10]\tvalid_0's auc: 0.907206\n",
      "[20]\tvalid_0's auc: 0.922004\n",
      "[30]\tvalid_0's auc: 0.917741\n",
      "[40]\tvalid_0's auc: 0.926686\n",
      "[50]\tvalid_0's auc: 0.950154\n",
      "[60]\tvalid_0's auc: 0.955899\n",
      "[70]\tvalid_0's auc: 0.958177\n",
      "[80]\tvalid_0's auc: 0.95938\n",
      "[90]\tvalid_0's auc: 0.960525\n",
      "[100]\tvalid_0's auc: 0.961002\n",
      "[110]\tvalid_0's auc: 0.961493\n",
      "[120]\tvalid_0's auc: 0.961945\n",
      "[130]\tvalid_0's auc: 0.962275\n",
      "[140]\tvalid_0's auc: 0.962591\n",
      "[150]\tvalid_0's auc: 0.963009\n",
      "[160]\tvalid_0's auc: 0.963198\n",
      "[170]\tvalid_0's auc: 0.963213\n",
      "[180]\tvalid_0's auc: 0.963145\n",
      "[190]\tvalid_0's auc: 0.962963\n",
      "[200]\tvalid_0's auc: 0.962736\n",
      "[210]\tvalid_0's auc: 0.96235\n",
      "Early stopping, best iteration is:\n",
      "[163]\tvalid_0's auc: 0.963318\n",
      "Score for this fold is  0.9633182576943236\n",
      "Training until validation scores don't improve for 50 rounds.\n",
      "[10]\tvalid_0's auc: 0.910081\n",
      "[20]\tvalid_0's auc: 0.923367\n",
      "[30]\tvalid_0's auc: 0.920722\n",
      "[40]\tvalid_0's auc: 0.929009\n",
      "[50]\tvalid_0's auc: 0.949254\n",
      "[60]\tvalid_0's auc: 0.957012\n",
      "[70]\tvalid_0's auc: 0.960132\n",
      "[80]\tvalid_0's auc: 0.961492\n",
      "[90]\tvalid_0's auc: 0.962105\n",
      "[100]\tvalid_0's auc: 0.96336\n",
      "[110]\tvalid_0's auc: 0.964018\n",
      "[120]\tvalid_0's auc: 0.964678\n",
      "[130]\tvalid_0's auc: 0.965163\n",
      "[140]\tvalid_0's auc: 0.965382\n",
      "[150]\tvalid_0's auc: 0.965436\n",
      "[160]\tvalid_0's auc: 0.965626\n",
      "[170]\tvalid_0's auc: 0.965906\n",
      "[180]\tvalid_0's auc: 0.965836\n",
      "[190]\tvalid_0's auc: 0.965912\n",
      "[200]\tvalid_0's auc: 0.965839\n",
      "[210]\tvalid_0's auc: 0.965786\n",
      "[220]\tvalid_0's auc: 0.965643\n",
      "[230]\tvalid_0's auc: 0.965484\n",
      "[240]\tvalid_0's auc: 0.964709\n",
      "Early stopping, best iteration is:\n",
      "[190]\tvalid_0's auc: 0.965912\n",
      "Score for this fold is  0.9659116671130112\n",
      "Overall score on 10 fold CV is 0.964989806233648\n",
      "CPU times: user 3h 1min 52s, sys: 3min 28s, total: 3h 5min 20s\n",
      "Wall time: 13min 39s\n"
     ]
    },
    {
     "data": {
      "text/plain": [
       "(array([2.13065300e-05, 1.45808224e-04, 1.59388386e-04, ...,\n",
       "        1.05504045e-04, 3.15976415e-02, 2.13740374e-03]),\n",
       " array([0, 0, 0, ..., 0, 0, 0], dtype=uint8),\n",
       " [])"
      ]
     },
     "execution_count": 17,
     "metadata": {},
     "output_type": "execute_result"
    }
   ],
   "source": [
    "%%time\n",
    "shuffle_crossvalidator(model, X, y, cvlist=cvlist3)"
   ]
  },
  {
   "cell_type": "code",
   "execution_count": 24,
   "metadata": {},
   "outputs": [
    {
     "data": {
      "text/plain": [
       "90"
      ]
     },
     "execution_count": 24,
     "metadata": {},
     "output_type": "execute_result"
    }
   ],
   "source": [
    "gc.collect()"
   ]
  },
  {
   "cell_type": "code",
   "execution_count": 18,
   "metadata": {},
   "outputs": [
    {
     "name": "stdout",
     "output_type": "stream",
     "text": [
      "Training until validation scores don't improve for 50 rounds.\n",
      "[10]\tvalid_0's auc: 0.911843\n",
      "[20]\tvalid_0's auc: 0.926513\n",
      "[30]\tvalid_0's auc: 0.919804\n",
      "[40]\tvalid_0's auc: 0.928962\n",
      "[50]\tvalid_0's auc: 0.954111\n",
      "[60]\tvalid_0's auc: 0.960581\n",
      "[70]\tvalid_0's auc: 0.962846\n",
      "[80]\tvalid_0's auc: 0.963472\n",
      "[90]\tvalid_0's auc: 0.964259\n",
      "[100]\tvalid_0's auc: 0.965372\n",
      "[110]\tvalid_0's auc: 0.966142\n",
      "[120]\tvalid_0's auc: 0.96655\n",
      "[130]\tvalid_0's auc: 0.966758\n",
      "[140]\tvalid_0's auc: 0.966968\n",
      "[150]\tvalid_0's auc: 0.967099\n",
      "[160]\tvalid_0's auc: 0.966332\n",
      "[170]\tvalid_0's auc: 0.966612\n",
      "[180]\tvalid_0's auc: 0.966724\n",
      "[190]\tvalid_0's auc: 0.966887\n",
      "[200]\tvalid_0's auc: 0.96699\n",
      "[210]\tvalid_0's auc: 0.967035\n",
      "[220]\tvalid_0's auc: 0.96787\n",
      "[230]\tvalid_0's auc: 0.96779\n",
      "[240]\tvalid_0's auc: 0.967439\n",
      "[250]\tvalid_0's auc: 0.967326\n",
      "[260]\tvalid_0's auc: 0.967302\n",
      "Early stopping, best iteration is:\n",
      "[215]\tvalid_0's auc: 0.967936\n",
      "Score for this fold is  0.9679360542269096\n",
      "Training until validation scores don't improve for 50 rounds.\n",
      "[10]\tvalid_0's auc: 0.91471\n",
      "[20]\tvalid_0's auc: 0.929102\n",
      "[30]\tvalid_0's auc: 0.925351\n",
      "[40]\tvalid_0's auc: 0.935346\n",
      "[50]\tvalid_0's auc: 0.95455\n",
      "[60]\tvalid_0's auc: 0.959717\n",
      "[70]\tvalid_0's auc: 0.962389\n",
      "[80]\tvalid_0's auc: 0.963302\n",
      "[90]\tvalid_0's auc: 0.96439\n",
      "[100]\tvalid_0's auc: 0.965094\n",
      "[110]\tvalid_0's auc: 0.965529\n",
      "[120]\tvalid_0's auc: 0.965886\n",
      "[130]\tvalid_0's auc: 0.965984\n",
      "[140]\tvalid_0's auc: 0.966127\n",
      "[150]\tvalid_0's auc: 0.966429\n",
      "[160]\tvalid_0's auc: 0.966579\n",
      "[170]\tvalid_0's auc: 0.966825\n",
      "[180]\tvalid_0's auc: 0.96689\n",
      "[190]\tvalid_0's auc: 0.966828\n",
      "[200]\tvalid_0's auc: 0.966695\n",
      "[210]\tvalid_0's auc: 0.966651\n",
      "[220]\tvalid_0's auc: 0.965104\n",
      "[230]\tvalid_0's auc: 0.96504\n",
      "[240]\tvalid_0's auc: 0.965155\n",
      "Early stopping, best iteration is:\n",
      "[194]\tvalid_0's auc: 0.966899\n",
      "Score for this fold is  0.9668990627110107\n",
      "Training until validation scores don't improve for 50 rounds.\n",
      "[10]\tvalid_0's auc: 0.910171\n",
      "[20]\tvalid_0's auc: 0.925343\n",
      "[30]\tvalid_0's auc: 0.922157\n",
      "[40]\tvalid_0's auc: 0.932334\n",
      "[50]\tvalid_0's auc: 0.950714\n",
      "[60]\tvalid_0's auc: 0.95787\n",
      "[70]\tvalid_0's auc: 0.960701\n",
      "[80]\tvalid_0's auc: 0.962133\n",
      "[90]\tvalid_0's auc: 0.962515\n",
      "[100]\tvalid_0's auc: 0.962815\n",
      "[110]\tvalid_0's auc: 0.964046\n",
      "[120]\tvalid_0's auc: 0.963955\n",
      "[130]\tvalid_0's auc: 0.964188\n",
      "[140]\tvalid_0's auc: 0.963867\n",
      "[150]\tvalid_0's auc: 0.963787\n",
      "[160]\tvalid_0's auc: 0.963745\n",
      "[170]\tvalid_0's auc: 0.963632\n",
      "Early stopping, best iteration is:\n",
      "[126]\tvalid_0's auc: 0.964333\n",
      "Score for this fold is  0.9643327053183234\n",
      "Overall score on 10 fold CV is 0.9664033151877507\n",
      "CPU times: user 2h 20min 38s, sys: 2min 21s, total: 2h 23min\n",
      "Wall time: 9min 27s\n"
     ]
    },
    {
     "data": {
      "text/plain": [
       "(array([1.12160105e-04, 2.32372735e-04, 1.93416968e-04, ...,\n",
       "        8.43843116e-05, 3.11282131e-04, 1.06465201e-04]),\n",
       " array([0, 0, 0, ..., 0, 0, 0], dtype=uint8),\n",
       " [])"
      ]
     },
     "execution_count": 18,
     "metadata": {},
     "output_type": "execute_result"
    }
   ],
   "source": [
    "%%time\n",
    "shuffle_crossvalidator(model, X, y, cvlist=cvlist4)"
   ]
  },
  {
   "cell_type": "code",
   "execution_count": 19,
   "metadata": {},
   "outputs": [
    {
     "data": {
      "text/plain": [
       "(34903891, 6)"
      ]
     },
     "execution_count": 19,
     "metadata": {},
     "output_type": "execute_result"
    }
   ],
   "source": [
    "X.shape"
   ]
  },
  {
   "cell_type": "code",
   "execution_count": null,
   "metadata": {},
   "outputs": [],
   "source": []
  }
 ],
 "metadata": {
  "kernelspec": {
   "display_name": "Python 3",
   "language": "python",
   "name": "python3"
  },
  "language_info": {
   "codemirror_mode": {
    "name": "ipython",
    "version": 3
   },
   "file_extension": ".py",
   "mimetype": "text/x-python",
   "name": "python",
   "nbconvert_exporter": "python",
   "pygments_lexer": "ipython3",
   "version": "3.6.4"
  }
 },
 "nbformat": 4,
 "nbformat_minor": 2
}
