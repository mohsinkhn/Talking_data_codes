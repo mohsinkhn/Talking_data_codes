{
 "cells": [
  {
   "cell_type": "code",
   "execution_count": 1,
   "metadata": {},
   "outputs": [],
   "source": [
    "import pandas as pd\n",
    "import numpy as  np\n",
    "\n",
    "from TargetEncoderv2 import TargetEncoder\n",
    "from FeatureSelector import FeatureSelector\n",
    "\n",
    "from sklearn.metrics import *\n",
    "from sklearn.model_selection import *\n",
    "\n",
    "import lightgbm as lgb"
   ]
  },
  {
   "cell_type": "code",
   "execution_count": 3,
   "metadata": {},
   "outputs": [],
   "source": [
    "dtypes = dtype = {\n",
    "        'ip'            : 'uint32',\n",
    "        'app'           : 'uint16',\n",
    "        'device'        : 'uint16',\n",
    "        'os'            : 'uint16',\n",
    "        'channel'       : 'uint16',\n",
    "        'is_attributed' : 'uint8',\n",
    "        'click_id'      : 'uint32'\n",
    "        }\n",
    "\n",
    "train = pd.read_csv(\"../input/train.csv\", skiprows = list(range(1,180000000)))"
   ]
  },
  {
   "cell_type": "code",
   "execution_count": 4,
   "metadata": {},
   "outputs": [],
   "source": [
    "#Get hour information\n",
    "train[\"click_time\"] = pd.to_datetime(train[\"click_time\"])\n",
    "train[\"hourofday\"] = train[\"click_time\"].dt.hour\n",
    "train[\"minuteofhour\"] = train[\"click_time\"].dt.minute"
   ]
  },
  {
   "cell_type": "code",
   "execution_count": 5,
   "metadata": {},
   "outputs": [],
   "source": [
    "from utils import outoffold_crossvalidator, shuffle_crossvalidator\n",
    "cvlist1 = list(StratifiedShuffleSplit(1, test_size=0.05, random_state=3).split(train, train.is_attributed))\n"
   ]
  },
  {
   "cell_type": "code",
   "execution_count": 6,
   "metadata": {},
   "outputs": [],
   "source": [
    "model = lgb.LGBMClassifier(num_leaves=31, n_jobs=-1, n_estimators=500, subsample=0.9, colsample_bytree=0.95,\n",
    "                           verbose=10)"
   ]
  },
  {
   "cell_type": "code",
   "execution_count": 7,
   "metadata": {},
   "outputs": [
    {
     "name": "stdout",
     "output_type": "stream",
     "text": [
      "Training until validation scores don't improve for 50 rounds.\n",
      "[10]\tvalid_0's auc: 0.94111\n",
      "[20]\tvalid_0's auc: 0.952215\n",
      "[30]\tvalid_0's auc: 0.959681\n",
      "[40]\tvalid_0's auc: 0.958289\n",
      "[50]\tvalid_0's auc: 0.963395\n",
      "[60]\tvalid_0's auc: 0.964866\n",
      "[70]\tvalid_0's auc: 0.971027\n",
      "[80]\tvalid_0's auc: 0.971958\n",
      "[90]\tvalid_0's auc: 0.968427\n",
      "[100]\tvalid_0's auc: 0.966795\n",
      "[110]\tvalid_0's auc: 0.969336\n",
      "[120]\tvalid_0's auc: 0.966441\n",
      "[130]\tvalid_0's auc: 0.967411\n",
      "Early stopping, best iteration is:\n",
      "[89]\tvalid_0's auc: 0.97274\n",
      "Score for this fold is  0.9727400686830405\n",
      "Overall score on 10 fold CV is 0.9727400686830405\n",
      "CPU times: user 3min 5s, sys: 3.24 s, total: 3min 8s\n",
      "Wall time: 36.9 s\n"
     ]
    }
   ],
   "source": [
    "%%time\n",
    "features = ['ip', 'app', 'device', 'os', 'channel', 'hourofday']\n",
    "shuffle_crossvalidator(model, train[features], train.is_attributed, cvlist=cvlist1)"
   ]
  },
  {
   "cell_type": "code",
   "execution_count": 8,
   "metadata": {},
   "outputs": [
    {
     "name": "stdout",
     "output_type": "stream",
     "text": [
      "device_cnt\n",
      "CPU times: user 315 ms, sys: 367 ms, total: 682 ms\n",
      "Wall time: 684 ms\n"
     ]
    }
   ],
   "source": [
    "%%time\n",
    "cnt_enc = TargetEncoder(cols=['device'], targetcol='is_attributed', func='count', cname='device_cnt', add_to_orig=True)\n",
    "train = cnt_enc.fit_transform(train)"
   ]
  },
  {
   "cell_type": "code",
   "execution_count": 9,
   "metadata": {},
   "outputs": [
    {
     "name": "stdout",
     "output_type": "stream",
     "text": [
      "os_cnt\n",
      "CPU times: user 326 ms, sys: 419 ms, total: 745 ms\n",
      "Wall time: 746 ms\n"
     ]
    }
   ],
   "source": [
    "%%time\n",
    "cnt_enc = TargetEncoder(cols=['os'], targetcol='is_attributed', func='count', cname='os_cnt', add_to_orig=True)\n",
    "train = cnt_enc.fit_transform(train)"
   ]
  },
  {
   "cell_type": "code",
   "execution_count": 10,
   "metadata": {},
   "outputs": [
    {
     "name": "stdout",
     "output_type": "stream",
     "text": [
      "ip_cnt\n",
      "CPU times: user 493 ms, sys: 463 ms, total: 956 ms\n",
      "Wall time: 955 ms\n"
     ]
    }
   ],
   "source": [
    "%%time\n",
    "cnt_enc = TargetEncoder(cols=['ip'], targetcol='is_attributed', func='count', cname='ip_cnt', add_to_orig=True)\n",
    "train = cnt_enc.fit_transform(train)"
   ]
  },
  {
   "cell_type": "code",
   "execution_count": 11,
   "metadata": {},
   "outputs": [
    {
     "name": "stdout",
     "output_type": "stream",
     "text": [
      "app_cnt\n",
      "CPU times: user 402 ms, sys: 435 ms, total: 838 ms\n",
      "Wall time: 837 ms\n"
     ]
    }
   ],
   "source": [
    "%%time\n",
    "cnt_enc = TargetEncoder(cols=['app'], targetcol='is_attributed', func='count', cname='app_cnt', add_to_orig=True)\n",
    "train = cnt_enc.fit_transform(train)"
   ]
  },
  {
   "cell_type": "code",
   "execution_count": 12,
   "metadata": {},
   "outputs": [
    {
     "name": "stdout",
     "output_type": "stream",
     "text": [
      "channel_cnt\n",
      "CPU times: user 407 ms, sys: 447 ms, total: 854 ms\n",
      "Wall time: 852 ms\n"
     ]
    }
   ],
   "source": [
    "%%time\n",
    "cnt_enc = TargetEncoder(cols=['channel'], targetcol='is_attributed', func='count', cname='channel_cnt', add_to_orig=True)\n",
    "train = cnt_enc.fit_transform(train)"
   ]
  },
  {
   "cell_type": "code",
   "execution_count": 13,
   "metadata": {},
   "outputs": [
    {
     "data": {
      "text/plain": [
       "168"
      ]
     },
     "execution_count": 13,
     "metadata": {},
     "output_type": "execute_result"
    }
   ],
   "source": [
    "import gc\n",
    "gc.collect()"
   ]
  },
  {
   "cell_type": "code",
   "execution_count": 14,
   "metadata": {},
   "outputs": [
    {
     "name": "stdout",
     "output_type": "stream",
     "text": [
      "Training until validation scores don't improve for 50 rounds.\n",
      "[10]\tvalid_0's auc: 0.958268\n",
      "[20]\tvalid_0's auc: 0.9583\n",
      "[30]\tvalid_0's auc: 0.958404\n",
      "[40]\tvalid_0's auc: 0.958547\n",
      "[50]\tvalid_0's auc: 0.965631\n",
      "[60]\tvalid_0's auc: 0.967952\n",
      "[70]\tvalid_0's auc: 0.974811\n",
      "[80]\tvalid_0's auc: 0.97342\n",
      "[90]\tvalid_0's auc: 0.973771\n",
      "[100]\tvalid_0's auc: 0.975475\n",
      "[110]\tvalid_0's auc: 0.975069\n",
      "[120]\tvalid_0's auc: 0.975564\n",
      "[130]\tvalid_0's auc: 0.975716\n",
      "[140]\tvalid_0's auc: 0.976532\n",
      "[150]\tvalid_0's auc: 0.977094\n",
      "[160]\tvalid_0's auc: 0.977258\n",
      "[170]\tvalid_0's auc: 0.976941\n",
      "[180]\tvalid_0's auc: 0.97906\n",
      "[190]\tvalid_0's auc: 0.979173\n",
      "[200]\tvalid_0's auc: 0.978511\n",
      "[210]\tvalid_0's auc: 0.977294\n",
      "[220]\tvalid_0's auc: 0.976513\n",
      "[230]\tvalid_0's auc: 0.976898\n",
      "Early stopping, best iteration is:\n",
      "[184]\tvalid_0's auc: 0.979384\n",
      "Score for this fold is  0.9793835741392436\n",
      "Overall score on 10 fold CV is 0.9793835741392436\n",
      "CPU times: user 5min 13s, sys: 1.01 s, total: 5min 14s\n",
      "Wall time: 27.6 s\n"
     ]
    }
   ],
   "source": [
    "%%time\n",
    "features = ['ip', 'app', 'device', 'os', 'channel', 'device_cnt', 'ip_cnt', 'os_cnt', 'ip_cnt', 'app_cnt', 'channel_cnt', \n",
    "            'hourofday', 'minuteofhour']\n",
    "shuffle_crossvalidator(model, train[features], train.is_attributed, cvlist=cvlist1)"
   ]
  },
  {
   "cell_type": "code",
   "execution_count": 15,
   "metadata": {},
   "outputs": [],
   "source": [
    "#train[\"hour_sine\"] = np.sin((train[\"hourofday\"] + train['minuteofhour']/60.0)/24 * 2* np.pi)\n",
    "#train[\"hour_cosine\"] = np.cos((train[\"hourofday\"] + train['minuteofhour']/60.0)/24 * 2* np.pi)"
   ]
  },
  {
   "cell_type": "code",
   "execution_count": 16,
   "metadata": {},
   "outputs": [
    {
     "name": "stdout",
     "output_type": "stream",
     "text": [
      "CPU times: user 3 µs, sys: 0 ns, total: 3 µs\n",
      "Wall time: 5.48 µs\n"
     ]
    }
   ],
   "source": [
    "%%time\n",
    "#features = ['ip', 'app', 'device', 'os', 'channel', 'device_cnt', 'ip_cnt', 'os_cnt', 'ip_cnt', 'app_cnt', 'channel_cnt', \n",
    "#            'hourofday', 'minuteofhour', 'hour_sine', 'hour_cosine']\n",
    "#shuffle_crossvalidator(model, train[features], train.is_attributed, cvlist=cvlist1)"
   ]
  },
  {
   "cell_type": "code",
   "execution_count": 17,
   "metadata": {},
   "outputs": [
    {
     "name": "stdout",
     "output_type": "stream",
     "text": [
      "device_hour_cnt\n",
      "ip_hour_cnt\n",
      "channel_hour_cnt\n",
      "os_hour_cnt\n",
      "app_hour_cnt\n",
      "CPU times: user 3.12 s, sys: 2.91 s, total: 6.04 s\n",
      "Wall time: 6.05 s\n"
     ]
    }
   ],
   "source": [
    "%%time\n",
    "cnt_enc = TargetEncoder(cols=['device', 'hourofday'], targetcol='is_attributed', func='count', cname='device_hour_cnt', add_to_orig=True)\n",
    "train = cnt_enc.fit_transform(train)\n",
    "cnt_enc = TargetEncoder(cols=['ip', 'hourofday'], targetcol='is_attributed', func='count', cname='ip_hour_cnt', add_to_orig=True)\n",
    "train = cnt_enc.fit_transform(train)\n",
    "cnt_enc = TargetEncoder(cols=['channel', 'hourofday'], targetcol='is_attributed', func='count', cname='channel_hour_cnt', add_to_orig=True)\n",
    "train = cnt_enc.fit_transform(train)\n",
    "cnt_enc = TargetEncoder(cols=['os', 'hourofday'], targetcol='is_attributed', func='count', cname='os_hour_cnt', add_to_orig=True)\n",
    "train = cnt_enc.fit_transform(train)\n",
    "cnt_enc = TargetEncoder(cols=['app','hourofday'], targetcol='is_attributed', func='count', cname='app_hour_cnt', add_to_orig=True)\n",
    "train = cnt_enc.fit_transform(train)"
   ]
  },
  {
   "cell_type": "code",
   "execution_count": 18,
   "metadata": {},
   "outputs": [
    {
     "name": "stdout",
     "output_type": "stream",
     "text": [
      "Training until validation scores don't improve for 50 rounds.\n",
      "[10]\tvalid_0's auc: 0.958227\n",
      "[20]\tvalid_0's auc: 0.958346\n",
      "[30]\tvalid_0's auc: 0.958399\n",
      "[40]\tvalid_0's auc: 0.958466\n",
      "[50]\tvalid_0's auc: 0.965409\n",
      "[60]\tvalid_0's auc: 0.967919\n",
      "[70]\tvalid_0's auc: 0.974036\n",
      "[80]\tvalid_0's auc: 0.973885\n",
      "[90]\tvalid_0's auc: 0.974415\n",
      "[100]\tvalid_0's auc: 0.97577\n",
      "[110]\tvalid_0's auc: 0.975742\n",
      "[120]\tvalid_0's auc: 0.975422\n",
      "[130]\tvalid_0's auc: 0.975511\n",
      "[140]\tvalid_0's auc: 0.975432\n",
      "[150]\tvalid_0's auc: 0.975632\n",
      "Early stopping, best iteration is:\n",
      "[109]\tvalid_0's auc: 0.976189\n",
      "Score for this fold is  0.9761886342337923\n",
      "Overall score on 10 fold CV is 0.9761886342337923\n",
      "CPU times: user 4min 18s, sys: 891 ms, total: 4min 19s\n",
      "Wall time: 23.4 s\n"
     ]
    }
   ],
   "source": [
    "%%time\n",
    "features = ['ip', 'app', 'device', 'os', 'channel', 'device_cnt', 'ip_cnt', 'os_cnt', 'ip_cnt', 'app_cnt', 'channel_cnt', \n",
    "            'hourofday', 'minuteofhour', 'device_hour_cnt','ip_hour_cnt', 'channel_hour_cnt','os_hour_cnt','app_hour_cnt' ]\n",
    "shuffle_crossvalidator(model, train[features], train.is_attributed, cvlist=cvlist1)"
   ]
  },
  {
   "cell_type": "code",
   "execution_count": 19,
   "metadata": {},
   "outputs": [
    {
     "name": "stdout",
     "output_type": "stream",
     "text": [
      "hour_cnt\n"
     ]
    }
   ],
   "source": [
    "cnt_enc = TargetEncoder(cols=['hourofday'], targetcol='is_attributed', func='count', cname='hour_cnt', add_to_orig=True)\n",
    "train = cnt_enc.fit_transform(train)"
   ]
  },
  {
   "cell_type": "code",
   "execution_count": 20,
   "metadata": {},
   "outputs": [],
   "source": [
    "train[\"device_hour_cntphour\"] = train[\"device_hour_cnt\"]/train[\"hour_cnt\"]\n",
    "train[\"os_hour_cntphour\"] = train[\"os_hour_cnt\"]/train[\"hour_cnt\"]\n",
    "train[\"app_hour_cntphour\"] = train[\"app_hour_cnt\"]/train[\"hour_cnt\"]\n",
    "train[\"ip_hour_cntphour\"] = train[\"ip_hour_cnt\"]/train[\"hour_cnt\"]\n",
    "train[\"channel_hour_cntphour\"] = train[\"channel_hour_cnt\"]/train[\"hour_cnt\"]"
   ]
  },
  {
   "cell_type": "code",
   "execution_count": 21,
   "metadata": {},
   "outputs": [
    {
     "data": {
      "text/plain": [
       "95"
      ]
     },
     "execution_count": 21,
     "metadata": {},
     "output_type": "execute_result"
    }
   ],
   "source": [
    "import gc\n",
    "gc.collect()"
   ]
  },
  {
   "cell_type": "code",
   "execution_count": 22,
   "metadata": {},
   "outputs": [
    {
     "data": {
      "text/plain": [
       "35"
      ]
     },
     "execution_count": 22,
     "metadata": {},
     "output_type": "execute_result"
    }
   ],
   "source": [
    "#del train[\"hour_sine\"]\n",
    "#del train[\"hour_cosine\"]\n",
    "del train[\"device_hour_cnt\"]\n",
    "#gc.collect()\n",
    "del train[\"os_hour_cnt\"]\n",
    "del train[\"app_hour_cnt\"]\n",
    "del train[\"ip_hour_cnt\"]\n",
    "del train[\"channel_hour_cnt\"]\n",
    "gc.collect()"
   ]
  },
  {
   "cell_type": "code",
   "execution_count": 23,
   "metadata": {},
   "outputs": [],
   "source": [
    "for col in ['device_cnt', 'ip_cnt', 'os_cnt', 'ip_cnt', 'app_cnt', 'channel_cnt']:\n",
    "    train[col] = train[col].astype(np.uint32)"
   ]
  },
  {
   "cell_type": "code",
   "execution_count": 24,
   "metadata": {},
   "outputs": [
    {
     "name": "stdout",
     "output_type": "stream",
     "text": [
      "Training until validation scores don't improve for 50 rounds.\n",
      "[10]\tvalid_0's auc: 0.958065\n",
      "[20]\tvalid_0's auc: 0.958338\n",
      "[30]\tvalid_0's auc: 0.958422\n",
      "[40]\tvalid_0's auc: 0.958535\n",
      "[50]\tvalid_0's auc: 0.965617\n",
      "[60]\tvalid_0's auc: 0.968082\n",
      "[70]\tvalid_0's auc: 0.977396\n",
      "[80]\tvalid_0's auc: 0.975525\n",
      "[90]\tvalid_0's auc: 0.973612\n",
      "[100]\tvalid_0's auc: 0.973877\n",
      "[110]\tvalid_0's auc: 0.975654\n",
      "[120]\tvalid_0's auc: 0.97327\n",
      "Early stopping, best iteration is:\n",
      "[70]\tvalid_0's auc: 0.977396\n",
      "Score for this fold is  0.9773956357844454\n",
      "Overall score on 10 fold CV is 0.9773956357844454\n"
     ]
    },
    {
     "data": {
      "text/plain": [
       "(array([0.00051696, 0.00116252, 0.00053777, ..., 0.00051215, 0.00053777,\n",
       "        0.00053777]), array([0, 0, 0, ..., 0, 0, 0]), [])"
      ]
     },
     "execution_count": 24,
     "metadata": {},
     "output_type": "execute_result"
    }
   ],
   "source": [
    "features = ['ip', 'app', 'device', 'os', 'channel', 'device_cnt', 'ip_cnt', 'os_cnt', 'ip_cnt', 'app_cnt', 'channel_cnt', \n",
    "            'hourofday', 'minuteofhour', 'hour_cnt','device_hour_cntphour','ip_hour_cntphour', 'channel_hour_cntphour',\n",
    "            'os_hour_cntphour','app_hour_cntphour' ]\n",
    "shuffle_crossvalidator(model, train[features], train.is_attributed, cvlist=cvlist1)"
   ]
  },
  {
   "cell_type": "code",
   "execution_count": 25,
   "metadata": {},
   "outputs": [
    {
     "data": {
      "text/plain": [
       "0"
      ]
     },
     "execution_count": 25,
     "metadata": {},
     "output_type": "execute_result"
    }
   ],
   "source": [
    "gc.collect()"
   ]
  },
  {
   "cell_type": "code",
   "execution_count": 26,
   "metadata": {},
   "outputs": [
    {
     "data": {
      "text/plain": [
       "35"
      ]
     },
     "execution_count": 26,
     "metadata": {},
     "output_type": "execute_result"
    }
   ],
   "source": [
    "del train[\"device_hour_cntphour\"]\n",
    "#gc.collect()\n",
    "del train[\"os_hour_cntphour\"]\n",
    "del train[\"app_hour_cntphour\"]\n",
    "del train[\"ip_hour_cntphour\"]\n",
    "del train[\"channel_hour_cntphour\"]\n",
    "gc.collect()"
   ]
  },
  {
   "cell_type": "code",
   "execution_count": 27,
   "metadata": {},
   "outputs": [],
   "source": [
    "cvfolds = 10\n",
    "def cvFeatureGeneration(df, folds=cvfolds, cols=None, targetcol='is_attributed', func='mean', cname=None):\n",
    "    cvlist = StratifiedKFold(folds, random_state=1).split(df, df[targetcol])\n",
    "    enc = TargetEncoder(cols=cols, targetcol=targetcol, func=func, cname=cname, add_to_orig=False)\n",
    "    df[cname] = cross_val_predict(enc, df, df[targetcol], cv=cvlist, method='transform', verbose=1, pre_dispatch=None)\n",
    "    return df"
   ]
  },
  {
   "cell_type": "code",
   "execution_count": 28,
   "metadata": {},
   "outputs": [
    {
     "name": "stdout",
     "output_type": "stream",
     "text": [
      "device_mean\n"
     ]
    },
    {
     "data": {
      "text/plain": [
       "array([0.00111339, 0.00111339, 0.00111339, ..., 0.00111339, 0.00111339,\n",
       "       0.00111339])"
      ]
     },
     "execution_count": 28,
     "metadata": {},
     "output_type": "execute_result"
    }
   ],
   "source": [
    "enc = TargetEncoder(cols=['device'], targetcol='is_attributed', func='mean', cname='device_mean', add_to_orig=False)\n",
    "enc.fit_transform(train)"
   ]
  },
  {
   "cell_type": "code",
   "execution_count": 29,
   "metadata": {},
   "outputs": [
    {
     "name": "stdout",
     "output_type": "stream",
     "text": [
      "device_mean\n",
      "device_mean\n",
      "device_mean\n",
      "device_mean\n",
      "device_mean\n",
      "device_mean\n",
      "device_mean\n",
      "device_mean\n",
      "device_mean\n",
      "device_mean\n"
     ]
    },
    {
     "name": "stderr",
     "output_type": "stream",
     "text": [
      "[Parallel(n_jobs=1)]: Done  10 out of  10 | elapsed:    4.4s finished\n"
     ]
    }
   ],
   "source": [
    "train = cvFeatureGeneration(train, folds=10, cols=['device'], cname='device_mean')"
   ]
  },
  {
   "cell_type": "code",
   "execution_count": 30,
   "metadata": {},
   "outputs": [
    {
     "name": "stdout",
     "output_type": "stream",
     "text": [
      "app_mean\n",
      "app_mean\n",
      "app_mean\n",
      "app_mean\n",
      "app_mean\n",
      "app_mean\n",
      "app_mean\n",
      "app_mean\n",
      "app_mean\n",
      "app_mean\n"
     ]
    },
    {
     "name": "stderr",
     "output_type": "stream",
     "text": [
      "[Parallel(n_jobs=1)]: Done  10 out of  10 | elapsed:    4.6s finished\n"
     ]
    },
    {
     "name": "stdout",
     "output_type": "stream",
     "text": [
      "os_mean\n",
      "os_mean\n",
      "os_mean\n",
      "os_mean\n",
      "os_mean\n",
      "os_mean\n",
      "os_mean\n",
      "os_mean\n",
      "os_mean\n",
      "os_mean\n"
     ]
    },
    {
     "name": "stderr",
     "output_type": "stream",
     "text": [
      "[Parallel(n_jobs=1)]: Done  10 out of  10 | elapsed:    4.5s finished\n"
     ]
    },
    {
     "name": "stdout",
     "output_type": "stream",
     "text": [
      "ip_mean\n",
      "ip_mean\n",
      "ip_mean\n",
      "ip_mean\n",
      "ip_mean\n",
      "ip_mean\n",
      "ip_mean\n",
      "ip_mean\n",
      "ip_mean\n",
      "ip_mean\n"
     ]
    },
    {
     "name": "stderr",
     "output_type": "stream",
     "text": [
      "[Parallel(n_jobs=1)]: Done  10 out of  10 | elapsed:    5.4s finished\n"
     ]
    },
    {
     "name": "stdout",
     "output_type": "stream",
     "text": [
      "channel_mean\n",
      "channel_mean\n",
      "channel_mean\n",
      "channel_mean\n",
      "channel_mean\n",
      "channel_mean\n",
      "channel_mean\n",
      "channel_mean\n",
      "channel_mean\n",
      "channel_mean\n"
     ]
    },
    {
     "name": "stderr",
     "output_type": "stream",
     "text": [
      "[Parallel(n_jobs=1)]: Done  10 out of  10 | elapsed:    4.6s finished\n"
     ]
    }
   ],
   "source": [
    "train = cvFeatureGeneration(train, folds=10, cols=['app'], cname='app_mean')\n",
    "train = cvFeatureGeneration(train, folds=10, cols=['os'], cname='os_mean')\n",
    "train = cvFeatureGeneration(train, folds=10, cols=['ip'], cname='ip_mean')\n",
    "train = cvFeatureGeneration(train, folds=10, cols=['channel'], cname='channel_mean')"
   ]
  },
  {
   "cell_type": "code",
   "execution_count": 31,
   "metadata": {},
   "outputs": [
    {
     "name": "stdout",
     "output_type": "stream",
     "text": [
      "Training until validation scores don't improve for 50 rounds.\n",
      "[10]\tvalid_0's auc: 0.953734\n",
      "[20]\tvalid_0's auc: 0.956103\n",
      "[30]\tvalid_0's auc: 0.958373\n",
      "[40]\tvalid_0's auc: 0.966972\n",
      "[50]\tvalid_0's auc: 0.970282\n",
      "[60]\tvalid_0's auc: 0.969002\n",
      "[70]\tvalid_0's auc: 0.977659\n",
      "[80]\tvalid_0's auc: 0.979337\n",
      "[90]\tvalid_0's auc: 0.980827\n",
      "[100]\tvalid_0's auc: 0.984167\n",
      "[110]\tvalid_0's auc: 0.983541\n",
      "[120]\tvalid_0's auc: 0.983481\n",
      "[130]\tvalid_0's auc: 0.982149\n",
      "[140]\tvalid_0's auc: 0.978803\n",
      "Early stopping, best iteration is:\n",
      "[99]\tvalid_0's auc: 0.985016\n",
      "Score for this fold is  0.9850160360787554\n",
      "Overall score on 10 fold CV is 0.9850160360787554\n"
     ]
    },
    {
     "data": {
      "text/plain": [
       "(array([5.55385955e-05, 4.63104522e-04, 6.79810340e-05, ...,\n",
       "        5.71826557e-05, 7.03866988e-05, 8.48909740e-05]),\n",
       " array([0, 0, 0, ..., 0, 0, 0]),\n",
       " [])"
      ]
     },
     "execution_count": 31,
     "metadata": {},
     "output_type": "execute_result"
    }
   ],
   "source": [
    "features = ['ip', 'app', 'device', 'os', 'channel', 'device_cnt', 'ip_cnt', 'os_cnt', 'ip_cnt', 'app_cnt', 'channel_cnt', \n",
    "            'hourofday', 'minuteofhour', 'hour_cnt','device_mean','os_mean', 'app_mean',\n",
    "            'ip_mean','channel_mean' ]\n",
    "shuffle_crossvalidator(model, train[features], train.is_attributed, cvlist=cvlist1)"
   ]
  },
  {
   "cell_type": "code",
   "execution_count": 32,
   "metadata": {},
   "outputs": [
    {
     "name": "stdout",
     "output_type": "stream",
     "text": [
      "device_hour_mean\n",
      "device_hour_mean\n",
      "device_hour_mean\n",
      "device_hour_mean\n",
      "device_hour_mean\n",
      "device_hour_mean\n",
      "device_hour_mean\n",
      "device_hour_mean\n",
      "device_hour_mean\n",
      "device_hour_mean\n"
     ]
    },
    {
     "name": "stderr",
     "output_type": "stream",
     "text": [
      "[Parallel(n_jobs=1)]: Done  10 out of  10 | elapsed:    6.0s finished\n"
     ]
    },
    {
     "name": "stdout",
     "output_type": "stream",
     "text": [
      "app_hour_mean\n",
      "app_hour_mean\n",
      "app_hour_mean\n",
      "app_hour_mean\n",
      "app_hour_mean\n",
      "app_hour_mean\n",
      "app_hour_mean\n",
      "app_hour_mean\n",
      "app_hour_mean\n",
      "app_hour_mean\n"
     ]
    },
    {
     "name": "stderr",
     "output_type": "stream",
     "text": [
      "[Parallel(n_jobs=1)]: Done  10 out of  10 | elapsed:    6.3s finished\n"
     ]
    },
    {
     "name": "stdout",
     "output_type": "stream",
     "text": [
      "os_hour_mean\n",
      "os_hour_mean\n",
      "os_hour_mean\n",
      "os_hour_mean\n",
      "os_hour_mean\n",
      "os_hour_mean\n",
      "os_hour_mean\n",
      "os_hour_mean\n",
      "os_hour_mean\n",
      "os_hour_mean\n"
     ]
    },
    {
     "name": "stderr",
     "output_type": "stream",
     "text": [
      "[Parallel(n_jobs=1)]: Done  10 out of  10 | elapsed:    6.2s finished\n"
     ]
    },
    {
     "name": "stdout",
     "output_type": "stream",
     "text": [
      "ip_hour_mean\n",
      "ip_hour_mean\n",
      "ip_hour_mean\n",
      "ip_hour_mean\n",
      "ip_hour_mean\n",
      "ip_hour_mean\n",
      "ip_hour_mean\n",
      "ip_hour_mean\n",
      "ip_hour_mean\n",
      "ip_hour_mean\n"
     ]
    },
    {
     "name": "stderr",
     "output_type": "stream",
     "text": [
      "[Parallel(n_jobs=1)]: Done  10 out of  10 | elapsed:    7.2s finished\n"
     ]
    },
    {
     "name": "stdout",
     "output_type": "stream",
     "text": [
      "channel_hour_mean\n",
      "channel_hour_mean\n",
      "channel_hour_mean\n",
      "channel_hour_mean\n",
      "channel_hour_mean\n",
      "channel_hour_mean\n",
      "channel_hour_mean\n",
      "channel_hour_mean\n",
      "channel_hour_mean\n",
      "channel_hour_mean\n"
     ]
    },
    {
     "name": "stderr",
     "output_type": "stream",
     "text": [
      "[Parallel(n_jobs=1)]: Done  10 out of  10 | elapsed:    6.3s finished\n"
     ]
    }
   ],
   "source": [
    "train = cvFeatureGeneration(train, folds=10, cols=['device', 'hourofday'], cname ='device_hour_mean')\n",
    "train = cvFeatureGeneration(train, folds=10, cols=['app', 'hourofday'], cname ='app_hour_mean')\n",
    "train = cvFeatureGeneration(train, folds=10, cols=['os', 'hourofday'], cname ='os_hour_mean')\n",
    "train = cvFeatureGeneration(train, folds=10, cols=['ip', 'hourofday'], cname ='ip_hour_mean')\n",
    "train = cvFeatureGeneration(train, folds=10, cols=['channel', 'hourofday'], cname ='channel_hour_mean')"
   ]
  },
  {
   "cell_type": "code",
   "execution_count": 33,
   "metadata": {},
   "outputs": [
    {
     "name": "stdout",
     "output_type": "stream",
     "text": [
      "Training until validation scores don't improve for 50 rounds.\n",
      "[10]\tvalid_0's auc: 0.95421\n",
      "[20]\tvalid_0's auc: 0.954394\n",
      "[30]\tvalid_0's auc: 0.958703\n",
      "[40]\tvalid_0's auc: 0.958855\n",
      "[50]\tvalid_0's auc: 0.970274\n",
      "[60]\tvalid_0's auc: 0.970154\n",
      "[70]\tvalid_0's auc: 0.975426\n",
      "[80]\tvalid_0's auc: 0.979029\n",
      "[90]\tvalid_0's auc: 0.981915\n",
      "[100]\tvalid_0's auc: 0.981285\n",
      "[110]\tvalid_0's auc: 0.981156\n",
      "[120]\tvalid_0's auc: 0.982122\n",
      "[130]\tvalid_0's auc: 0.982772\n",
      "[140]\tvalid_0's auc: 0.982795\n",
      "[150]\tvalid_0's auc: 0.982939\n",
      "[160]\tvalid_0's auc: 0.984117\n",
      "[170]\tvalid_0's auc: 0.981491\n",
      "[180]\tvalid_0's auc: 0.979726\n",
      "[190]\tvalid_0's auc: 0.979967\n",
      "[200]\tvalid_0's auc: 0.980292\n",
      "Early stopping, best iteration is:\n",
      "[158]\tvalid_0's auc: 0.984374\n",
      "Score for this fold is  0.9843737459763683\n",
      "Overall score on 10 fold CV is 0.9843737459763683\n",
      "CPU times: user 6min 18s, sys: 1.25 s, total: 6min 19s\n",
      "Wall time: 34.3 s\n"
     ]
    }
   ],
   "source": [
    "%%time\n",
    "features = ['ip', 'app', 'device', 'os', 'channel', 'device_cnt', 'ip_cnt', 'os_cnt', 'ip_cnt', 'app_cnt', 'channel_cnt', \n",
    "            'hourofday', 'minuteofhour', 'hour_cnt','device_mean','os_mean', 'app_mean',\n",
    "            'ip_mean','channel_mean', 'device_hour_mean','os_hour_mean', 'app_hour_mean',\n",
    "            'ip_hour_mean','channel_hour_mean' ]\n",
    "shuffle_crossvalidator(model, train[features], train.is_attributed, cvlist=cvlist1)"
   ]
  },
  {
   "cell_type": "code",
   "execution_count": 34,
   "metadata": {},
   "outputs": [
    {
     "data": {
      "text/plain": [
       "0"
      ]
     },
     "execution_count": 34,
     "metadata": {},
     "output_type": "execute_result"
    }
   ],
   "source": [
    "import gc\n",
    "gc.collect()"
   ]
  },
  {
   "cell_type": "code",
   "execution_count": 35,
   "metadata": {},
   "outputs": [
    {
     "data": {
      "text/plain": [
       "ip                         0\n",
       "app                        0\n",
       "device                     0\n",
       "os                         0\n",
       "channel                    0\n",
       "click_time                 0\n",
       "attributed_time      4894832\n",
       "is_attributed              0\n",
       "hourofday                  0\n",
       "minuteofhour               0\n",
       "device_cnt                 0\n",
       "os_cnt                     0\n",
       "ip_cnt                     0\n",
       "app_cnt                    0\n",
       "channel_cnt                0\n",
       "hour_cnt                   0\n",
       "device_mean              467\n",
       "app_mean                 137\n",
       "os_mean                  112\n",
       "ip_mean                41939\n",
       "channel_mean               8\n",
       "device_hour_mean        1241\n",
       "app_hour_mean            636\n",
       "os_hour_mean             646\n",
       "ip_hour_mean           89865\n",
       "channel_hour_mean        457\n",
       "dtype: int64"
      ]
     },
     "execution_count": 35,
     "metadata": {},
     "output_type": "execute_result"
    }
   ],
   "source": [
    "train.isnull().sum()"
   ]
  },
  {
   "cell_type": "code",
   "execution_count": 36,
   "metadata": {},
   "outputs": [
    {
     "name": "stdout",
     "output_type": "stream",
     "text": [
      "device_hourmean\n",
      "device_hourmean\n",
      "device_hourmean\n",
      "device_hourmean\n",
      "device_hourmean\n",
      "device_hourmean\n",
      "device_hourmean\n",
      "device_hourmean\n",
      "device_hourmean\n",
      "device_hourmean\n"
     ]
    },
    {
     "name": "stderr",
     "output_type": "stream",
     "text": [
      "[Parallel(n_jobs=1)]: Done  10 out of  10 | elapsed:    5.2s finished\n"
     ]
    },
    {
     "name": "stdout",
     "output_type": "stream",
     "text": [
      "app_hourmean\n",
      "app_hourmean\n",
      "app_hourmean\n",
      "app_hourmean\n",
      "app_hourmean\n",
      "app_hourmean\n",
      "app_hourmean\n",
      "app_hourmean\n",
      "app_hourmean\n",
      "app_hourmean\n"
     ]
    },
    {
     "name": "stderr",
     "output_type": "stream",
     "text": [
      "[Parallel(n_jobs=1)]: Done  10 out of  10 | elapsed:    5.4s finished\n"
     ]
    },
    {
     "name": "stdout",
     "output_type": "stream",
     "text": [
      "os_hourmean\n",
      "os_hourmean\n",
      "os_hourmean\n",
      "os_hourmean\n",
      "os_hourmean\n",
      "os_hourmean\n",
      "os_hourmean\n",
      "os_hourmean\n",
      "os_hourmean\n",
      "os_hourmean\n"
     ]
    },
    {
     "name": "stderr",
     "output_type": "stream",
     "text": [
      "[Parallel(n_jobs=1)]: Done  10 out of  10 | elapsed:    5.5s finished\n"
     ]
    },
    {
     "name": "stdout",
     "output_type": "stream",
     "text": [
      "ip_hourmean\n",
      "ip_hourmean\n",
      "ip_hourmean\n",
      "ip_hourmean\n",
      "ip_hourmean\n",
      "ip_hourmean\n",
      "ip_hourmean\n",
      "ip_hourmean\n",
      "ip_hourmean\n",
      "ip_hourmean\n"
     ]
    },
    {
     "name": "stderr",
     "output_type": "stream",
     "text": [
      "[Parallel(n_jobs=1)]: Done  10 out of  10 | elapsed:    6.4s finished\n"
     ]
    },
    {
     "name": "stdout",
     "output_type": "stream",
     "text": [
      "channel_hourmean\n",
      "channel_hourmean\n",
      "channel_hourmean\n",
      "channel_hourmean\n",
      "channel_hourmean\n",
      "channel_hourmean\n",
      "channel_hourmean\n",
      "channel_hourmean\n",
      "channel_hourmean\n",
      "channel_hourmean\n"
     ]
    },
    {
     "name": "stderr",
     "output_type": "stream",
     "text": [
      "[Parallel(n_jobs=1)]: Done  10 out of  10 | elapsed:    5.8s finished\n"
     ]
    }
   ],
   "source": [
    "train = cvFeatureGeneration(train, folds=10, cols=['device'], cname ='device_hourmean', targetcol='hourofday')\n",
    "train = cvFeatureGeneration(train, folds=10, cols=['app'], cname ='app_hourmean')\n",
    "train = cvFeatureGeneration(train, folds=10, cols=['os'], cname ='os_hourmean')\n",
    "train = cvFeatureGeneration(train, folds=10, cols=['ip'], cname ='ip_hourmean')\n",
    "train = cvFeatureGeneration(train, folds=10, cols=['channel'], cname ='channel_hourmean')"
   ]
  },
  {
   "cell_type": "code",
   "execution_count": 37,
   "metadata": {},
   "outputs": [
    {
     "data": {
      "text/plain": [
       "339"
      ]
     },
     "execution_count": 37,
     "metadata": {},
     "output_type": "execute_result"
    }
   ],
   "source": [
    "gc.collect()"
   ]
  },
  {
   "cell_type": "code",
   "execution_count": 38,
   "metadata": {},
   "outputs": [
    {
     "name": "stdout",
     "output_type": "stream",
     "text": [
      "Training until validation scores don't improve for 50 rounds.\n",
      "[10]\tvalid_0's auc: 0.954222\n",
      "[20]\tvalid_0's auc: 0.954363\n",
      "[30]\tvalid_0's auc: 0.958827\n",
      "[40]\tvalid_0's auc: 0.958847\n",
      "[50]\tvalid_0's auc: 0.971412\n",
      "[60]\tvalid_0's auc: 0.973741\n",
      "[70]\tvalid_0's auc: 0.978221\n",
      "[80]\tvalid_0's auc: 0.98036\n",
      "[90]\tvalid_0's auc: 0.981867\n",
      "[100]\tvalid_0's auc: 0.980651\n",
      "[110]\tvalid_0's auc: 0.980751\n",
      "[120]\tvalid_0's auc: 0.980248\n",
      "[130]\tvalid_0's auc: 0.980393\n",
      "Early stopping, best iteration is:\n",
      "[89]\tvalid_0's auc: 0.982197\n",
      "Score for this fold is  0.9821973269395752\n",
      "Overall score on 10 fold CV is 0.9821973269395752\n",
      "CPU times: user 4min 24s, sys: 1.03 s, total: 4min 25s\n",
      "Wall time: 24 s\n"
     ]
    }
   ],
   "source": [
    "%%time\n",
    "features = ['ip', 'app', 'device', 'os', 'channel', 'device_cnt', 'ip_cnt', 'os_cnt', 'ip_cnt', 'app_cnt', 'channel_cnt', \n",
    "            'hourofday', 'minuteofhour', 'hour_cnt','device_mean','os_mean', 'app_mean',\n",
    "            'ip_mean','channel_mean', 'device_hour_mean','os_hour_mean', 'app_hour_mean',\n",
    "            'ip_hour_mean','channel_hour_mean', 'device_hourmean','os_hourmean', 'app_hourmean']\n",
    "shuffle_crossvalidator(model, train[features], train.is_attributed, cvlist=cvlist1)"
   ]
  },
  {
   "cell_type": "code",
   "execution_count": null,
   "metadata": {},
   "outputs": [],
   "source": []
  }
 ],
 "metadata": {
  "kernelspec": {
   "display_name": "Python 3",
   "language": "python",
   "name": "python3"
  },
  "language_info": {
   "codemirror_mode": {
    "name": "ipython",
    "version": 3
   },
   "file_extension": ".py",
   "mimetype": "text/x-python",
   "name": "python",
   "nbconvert_exporter": "python",
   "pygments_lexer": "ipython3",
   "version": "3.6.4"
  }
 },
 "nbformat": 4,
 "nbformat_minor": 2
}
