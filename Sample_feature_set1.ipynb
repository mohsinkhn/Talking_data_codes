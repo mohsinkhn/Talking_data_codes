{
 "cells": [
  {
   "cell_type": "code",
   "execution_count": 1,
   "metadata": {},
   "outputs": [],
   "source": [
    "import pandas as pd\n",
    "import numpy as  np\n",
    "\n",
    "from TargetEncoderv2 import TargetEncoder\n",
    "from FeatureSelector import FeatureSelector\n",
    "\n",
    "from sklearn.metrics import *\n",
    "from sklearn.model_selection import *\n",
    "\n",
    "import lightgbm as lgb"
   ]
  },
  {
   "cell_type": "code",
   "execution_count": 2,
   "metadata": {},
   "outputs": [
    {
     "name": "stderr",
     "output_type": "stream",
     "text": [
      "/home/mohsin/anaconda3/lib/python3.6/site-packages/IPython/core/interactiveshell.py:2728: DtypeWarning: Columns (6) have mixed types. Specify dtype option on import or set low_memory=False.\n",
      "  interactivity=interactivity, compiler=compiler, result=result)\n"
     ]
    }
   ],
   "source": [
    "dtypes = dtype = {\n",
    "        'ip'            : 'uint32',\n",
    "        'app'           : 'uint16',\n",
    "        'device'        : 'uint16',\n",
    "        'os'            : 'uint16',\n",
    "        'channel'       : 'uint16',\n",
    "        'is_attributed' : 'uint8',\n",
    "        'click_id'      : 'uint32'\n",
    "        }\n",
    "\n",
    "train = pd.read_csv(\"../input/train.csv\", skiprows = list(range(1,140000000)))"
   ]
  },
  {
   "cell_type": "code",
   "execution_count": 3,
   "metadata": {},
   "outputs": [],
   "source": [
    "#Get hour information\n",
    "train[\"click_time\"] = pd.to_datetime(train[\"click_time\"])\n",
    "train[\"hourofday\"] = train[\"click_time\"].dt.hour\n",
    "train[\"minuteofhour\"] = train[\"click_time\"].dt.minute"
   ]
  },
  {
   "cell_type": "code",
   "execution_count": 4,
   "metadata": {},
   "outputs": [],
   "source": [
    "from utils import outoffold_crossvalidator, shuffle_crossvalidator\n",
    "cvlist1 = list(StratifiedShuffleSplit(1, test_size=0.05, random_state=3).split(train, train.is_attributed))\n"
   ]
  },
  {
   "cell_type": "code",
   "execution_count": 6,
   "metadata": {},
   "outputs": [],
   "source": [
    "model = lgb.LGBMClassifier(num_leaves=31, n_jobs=-1, n_estimators=500, subsample=0.9, colsample_bytree=0.95,\n",
    "                           verbose=10)"
   ]
  },
  {
   "cell_type": "code",
   "execution_count": 7,
   "metadata": {},
   "outputs": [
    {
     "name": "stdout",
     "output_type": "stream",
     "text": [
      "Training until validation scores don't improve for 50 rounds.\n",
      "[10]\tvalid_0's auc: 0.910545\n",
      "[20]\tvalid_0's auc: 0.913077\n",
      "[30]\tvalid_0's auc: 0.926083\n",
      "[40]\tvalid_0's auc: 0.946944\n",
      "[50]\tvalid_0's auc: 0.954194\n",
      "[60]\tvalid_0's auc: 0.959343\n",
      "[70]\tvalid_0's auc: 0.960749\n",
      "[80]\tvalid_0's auc: 0.961829\n",
      "[90]\tvalid_0's auc: 0.962673\n",
      "[100]\tvalid_0's auc: 0.963272\n",
      "[110]\tvalid_0's auc: 0.963692\n",
      "[120]\tvalid_0's auc: 0.963465\n",
      "[130]\tvalid_0's auc: 0.963536\n",
      "[140]\tvalid_0's auc: 0.963905\n",
      "Early stopping, best iteration is:\n",
      "[98]\tvalid_0's auc: 0.964441\n",
      "Score for this fold is  0.9644412205344001\n",
      "Overall score on 10 fold CV is 0.9644412205344001\n",
      "CPU times: user 26min 32s, sys: 5.92 s, total: 26min 38s\n",
      "Wall time: 3min 8s\n"
     ]
    }
   ],
   "source": [
    "%%time\n",
    "features = ['ip', 'app', 'device', 'os', 'channel', 'hourofday']\n",
    "shuffle_crossvalidator(model, train[features], train.is_attributed, cvlist=cvlist1)"
   ]
  },
  {
   "cell_type": "code",
   "execution_count": 8,
   "metadata": {},
   "outputs": [
    {
     "name": "stdout",
     "output_type": "stream",
     "text": [
      "device_cnt\n",
      "CPU times: user 4.72 s, sys: 3.9 s, total: 8.62 s\n",
      "Wall time: 8.64 s\n"
     ]
    }
   ],
   "source": [
    "%%time\n",
    "cnt_enc = TargetEncoder(cols=['device'], targetcol='is_attributed', func='count', cname='device_cnt', add_to_orig=True)\n",
    "train = cnt_enc.fit_transform(train)"
   ]
  },
  {
   "cell_type": "code",
   "execution_count": 9,
   "metadata": {},
   "outputs": [
    {
     "name": "stdout",
     "output_type": "stream",
     "text": [
      "os_cnt\n",
      "CPU times: user 6.09 s, sys: 7.23 s, total: 13.3 s\n",
      "Wall time: 20.8 s\n"
     ]
    }
   ],
   "source": [
    "%%time\n",
    "cnt_enc = TargetEncoder(cols=['os'], targetcol='is_attributed', func='count', cname='os_cnt', add_to_orig=True)\n",
    "train = cnt_enc.fit_transform(train)"
   ]
  },
  {
   "cell_type": "code",
   "execution_count": 10,
   "metadata": {},
   "outputs": [
    {
     "name": "stdout",
     "output_type": "stream",
     "text": [
      "ip_cnt\n",
      "CPU times: user 10.2 s, sys: 7.06 s, total: 17.2 s\n",
      "Wall time: 21.6 s\n"
     ]
    }
   ],
   "source": [
    "%%time\n",
    "cnt_enc = TargetEncoder(cols=['ip'], targetcol='is_attributed', func='count', cname='ip_cnt', add_to_orig=True)\n",
    "train = cnt_enc.fit_transform(train)"
   ]
  },
  {
   "cell_type": "code",
   "execution_count": 11,
   "metadata": {},
   "outputs": [
    {
     "name": "stdout",
     "output_type": "stream",
     "text": [
      "app_cnt\n",
      "CPU times: user 6.86 s, sys: 7.74 s, total: 14.6 s\n",
      "Wall time: 20.6 s\n"
     ]
    }
   ],
   "source": [
    "%%time\n",
    "cnt_enc = TargetEncoder(cols=['app'], targetcol='is_attributed', func='count', cname='app_cnt', add_to_orig=True)\n",
    "train = cnt_enc.fit_transform(train)"
   ]
  },
  {
   "cell_type": "code",
   "execution_count": 12,
   "metadata": {},
   "outputs": [
    {
     "name": "stdout",
     "output_type": "stream",
     "text": [
      "channel_cnt\n",
      "CPU times: user 7.09 s, sys: 8.23 s, total: 15.3 s\n",
      "Wall time: 24.9 s\n"
     ]
    }
   ],
   "source": [
    "%%time\n",
    "cnt_enc = TargetEncoder(cols=['channel'], targetcol='is_attributed', func='count', cname='channel_cnt', add_to_orig=True)\n",
    "train = cnt_enc.fit_transform(train)"
   ]
  },
  {
   "cell_type": "code",
   "execution_count": 13,
   "metadata": {},
   "outputs": [
    {
     "data": {
      "text/plain": [
       "148"
      ]
     },
     "execution_count": 13,
     "metadata": {},
     "output_type": "execute_result"
    }
   ],
   "source": [
    "import gc\n",
    "gc.collect()"
   ]
  },
  {
   "cell_type": "code",
   "execution_count": null,
   "metadata": {},
   "outputs": [],
   "source": []
  },
  {
   "cell_type": "code",
   "execution_count": 14,
   "metadata": {},
   "outputs": [
    {
     "name": "stdout",
     "output_type": "stream",
     "text": [
      "Training until validation scores don't improve for 50 rounds.\n",
      "[10]\tvalid_0's auc: 0.922105\n",
      "[20]\tvalid_0's auc: 0.922446\n",
      "[30]\tvalid_0's auc: 0.925776\n",
      "[40]\tvalid_0's auc: 0.929605\n",
      "[50]\tvalid_0's auc: 0.960451\n",
      "[60]\tvalid_0's auc: 0.960445\n",
      "[70]\tvalid_0's auc: 0.96596\n",
      "[80]\tvalid_0's auc: 0.967531\n",
      "[90]\tvalid_0's auc: 0.969267\n",
      "[100]\tvalid_0's auc: 0.970039\n",
      "[110]\tvalid_0's auc: 0.970699\n",
      "[120]\tvalid_0's auc: 0.970982\n",
      "[130]\tvalid_0's auc: 0.971173\n",
      "[140]\tvalid_0's auc: 0.971354\n",
      "[150]\tvalid_0's auc: 0.971487\n",
      "[160]\tvalid_0's auc: 0.971571\n",
      "[170]\tvalid_0's auc: 0.971475\n",
      "[180]\tvalid_0's auc: 0.971424\n",
      "[190]\tvalid_0's auc: 0.971517\n",
      "[200]\tvalid_0's auc: 0.971516\n",
      "[210]\tvalid_0's auc: 0.97146\n",
      "Early stopping, best iteration is:\n",
      "[168]\tvalid_0's auc: 0.971631\n",
      "Score for this fold is  0.9716309520812434\n",
      "Overall score on 10 fold CV is 0.9716309520812434\n",
      "CPU times: user 47min 45s, sys: 11.3 s, total: 47min 56s\n",
      "Wall time: 5min 23s\n"
     ]
    }
   ],
   "source": [
    "%%time\n",
    "features = ['ip', 'app', 'device', 'os', 'channel', 'device_cnt', 'ip_cnt', 'os_cnt', 'ip_cnt', 'app_cnt', 'channel_cnt', \n",
    "            'hourofday', 'minuteofhour']\n",
    "shuffle_crossvalidator(model, train[features], train.is_attributed, cvlist=cvlist1)"
   ]
  },
  {
   "cell_type": "code",
   "execution_count": 15,
   "metadata": {},
   "outputs": [],
   "source": [
    "#train[\"hour_sine\"] = np.sin((train[\"hourofday\"] + train['minuteofhour']/60.0)/24 * 2* np.pi)\n",
    "#train[\"hour_cosine\"] = np.cos((train[\"hourofday\"] + train['minuteofhour']/60.0)/24 * 2* np.pi)"
   ]
  },
  {
   "cell_type": "code",
   "execution_count": 16,
   "metadata": {},
   "outputs": [
    {
     "name": "stdout",
     "output_type": "stream",
     "text": [
      "Training until validation scores don't improve for 50 rounds.\n",
      "[10]\tvalid_0's auc: 0.92222\n",
      "[20]\tvalid_0's auc: 0.930365\n",
      "[30]\tvalid_0's auc: 0.929721\n",
      "[40]\tvalid_0's auc: 0.931441\n",
      "[50]\tvalid_0's auc: 0.961258\n",
      "[60]\tvalid_0's auc: 0.96316\n",
      "[70]\tvalid_0's auc: 0.96652\n",
      "[80]\tvalid_0's auc: 0.968365\n",
      "[90]\tvalid_0's auc: 0.969502\n",
      "[100]\tvalid_0's auc: 0.970227\n",
      "[110]\tvalid_0's auc: 0.97026\n",
      "[120]\tvalid_0's auc: 0.970537\n",
      "[130]\tvalid_0's auc: 0.970564\n",
      "[140]\tvalid_0's auc: 0.970645\n",
      "[150]\tvalid_0's auc: 0.970368\n",
      "[160]\tvalid_0's auc: 0.970477\n",
      "[170]\tvalid_0's auc: 0.970615\n",
      "[180]\tvalid_0's auc: 0.970697\n",
      "[190]\tvalid_0's auc: 0.970704\n",
      "[200]\tvalid_0's auc: 0.970696\n",
      "[210]\tvalid_0's auc: 0.970688\n",
      "[220]\tvalid_0's auc: 0.970681\n",
      "[230]\tvalid_0's auc: 0.970614\n",
      "Early stopping, best iteration is:\n",
      "[188]\tvalid_0's auc: 0.970718\n",
      "Score for this fold is  0.9707183941251114\n",
      "Overall score on 10 fold CV is 0.9707183941251114\n",
      "CPU times: user 49min 38s, sys: 13.4 s, total: 49min 52s\n",
      "Wall time: 5min 56s\n"
     ]
    }
   ],
   "source": [
    "%%time\n",
    "#features = ['ip', 'app', 'device', 'os', 'channel', 'device_cnt', 'ip_cnt', 'os_cnt', 'ip_cnt', 'app_cnt', 'channel_cnt', \n",
    "#            'hourofday', 'minuteofhour', 'hour_sine', 'hour_cosine']\n",
    "#shuffle_crossvalidator(model, train[features], train.is_attributed, cvlist=cvlist1)"
   ]
  },
  {
   "cell_type": "code",
   "execution_count": 15,
   "metadata": {},
   "outputs": [
    {
     "name": "stdout",
     "output_type": "stream",
     "text": [
      "device_hour_cnt\n",
      "ip_hour_cnt\n",
      "channel_hour_cnt\n",
      "os_hour_cnt\n",
      "app_hour_cnt\n",
      "CPU times: user 50.4 s, sys: 1min 1s, total: 1min 52s\n",
      "Wall time: 3min 27s\n"
     ]
    }
   ],
   "source": [
    "%%time\n",
    "cnt_enc = TargetEncoder(cols=['device', 'hourofday'], targetcol='is_attributed', func='count', cname='device_hour_cnt', add_to_orig=True)\n",
    "train = cnt_enc.fit_transform(train)\n",
    "cnt_enc = TargetEncoder(cols=['ip', 'hourofday'], targetcol='is_attributed', func='count', cname='ip_hour_cnt', add_to_orig=True)\n",
    "train = cnt_enc.fit_transform(train)\n",
    "cnt_enc = TargetEncoder(cols=['channel', 'hourofday'], targetcol='is_attributed', func='count', cname='channel_hour_cnt', add_to_orig=True)\n",
    "train = cnt_enc.fit_transform(train)\n",
    "cnt_enc = TargetEncoder(cols=['os', 'hourofday'], targetcol='is_attributed', func='count', cname='os_hour_cnt', add_to_orig=True)\n",
    "train = cnt_enc.fit_transform(train)\n",
    "cnt_enc = TargetEncoder(cols=['app','hourofday'], targetcol='is_attributed', func='count', cname='app_hour_cnt', add_to_orig=True)\n",
    "train = cnt_enc.fit_transform(train)"
   ]
  },
  {
   "cell_type": "code",
   "execution_count": null,
   "metadata": {},
   "outputs": [
    {
     "name": "stdout",
     "output_type": "stream",
     "text": [
      "Training until validation scores don't improve for 50 rounds.\n",
      "[10]\tvalid_0's auc: 0.922865\n",
      "[20]\tvalid_0's auc: 0.92633\n",
      "[30]\tvalid_0's auc: 0.926615\n",
      "[40]\tvalid_0's auc: 0.930931\n",
      "[50]\tvalid_0's auc: 0.95844\n"
     ]
    }
   ],
   "source": [
    "%%time\n",
    "features = ['ip', 'app', 'device', 'os', 'channel', 'device_cnt', 'ip_cnt', 'os_cnt', 'ip_cnt', 'app_cnt', 'channel_cnt', \n",
    "            'hourofday', 'minuteofhour', 'device_hour_cnt','ip_hour_cnt', 'channel_hour_cnt','os_hour_cnt','app_hour_cnt' ]\n",
    "shuffle_crossvalidator(model, train[features], train.is_attributed, cvlist=cvlist1)"
   ]
  },
  {
   "cell_type": "code",
   "execution_count": null,
   "metadata": {},
   "outputs": [],
   "source": [
    "cnt_enc = TargetEncoder(cols=['hourofday'], targetcol='is_attributed', func='count', cname='hour_cnt', add_to_orig=True)\n",
    "train = cnt_enc.fit_transform(train)"
   ]
  },
  {
   "cell_type": "code",
   "execution_count": null,
   "metadata": {},
   "outputs": [],
   "source": [
    "train[\"device_hour_cntphour\"] = train[\"device_hour_cnt\"]/train[\"hour_cnt\"]\n",
    "train[\"os_hour_cntphour\"] = train[\"os_hour_cnt\"]/train[\"hour_cnt\"]\n",
    "train[\"app_hour_cntphour\"] = train[\"app_hour_cnt\"]/train[\"hour_cnt\"]\n",
    "train[\"ip_hour_cntphour\"] = train[\"ip_hour_cnt\"]/train[\"hour_cnt\"]\n",
    "train[\"channel_hour_cntphour\"] = train[\"channel_hour_cnt\"]/train[\"hour_cnt\"]"
   ]
  },
  {
   "cell_type": "code",
   "execution_count": null,
   "metadata": {},
   "outputs": [],
   "source": [
    "import gc\n",
    "gc.collect()"
   ]
  },
  {
   "cell_type": "code",
   "execution_count": null,
   "metadata": {},
   "outputs": [],
   "source": [
    "#del train[\"hour_sine\"]\n",
    "#del train[\"hour_cosine\"]\n",
    "del train[\"device_hour_cnt\"]\n",
    "#gc.collect()\n",
    "del train[\"os_hour_cnt\"]\n",
    "del train[\"app_hour_cnt\"]\n",
    "del train[\"ip_hour_cnt\"]\n",
    "del train[\"channel_hour_cnt\"]\n",
    "gc.collect()"
   ]
  },
  {
   "cell_type": "code",
   "execution_count": null,
   "metadata": {},
   "outputs": [],
   "source": [
    "for col in ['device_cnt', 'ip_cnt', 'os_cnt', 'ip_cnt', 'app_cnt', 'channel_cnt']:\n",
    "    train[col] = train[col].astype(np.uint32)"
   ]
  },
  {
   "cell_type": "code",
   "execution_count": null,
   "metadata": {},
   "outputs": [],
   "source": [
    "features = ['ip', 'app', 'device', 'os', 'channel', 'device_cnt', 'ip_cnt', 'os_cnt', 'ip_cnt', 'app_cnt', 'channel_cnt', \n",
    "            'hourofday', 'minuteofhour', 'hour_cnt','device_hour_cntphour','ip_hour_cntphour', 'channel_hour_cntphour',\n",
    "            'os_hour_cntphour','app_hour_cntphour' ]\n",
    "shuffle_crossvalidator(model, train[features], train.is_attributed, cvlist=cvlist1)"
   ]
  },
  {
   "cell_type": "code",
   "execution_count": 19,
   "metadata": {},
   "outputs": [
    {
     "data": {
      "text/plain": [
       "0"
      ]
     },
     "execution_count": 19,
     "metadata": {},
     "output_type": "execute_result"
    }
   ],
   "source": [
    "gc.collect()"
   ]
  },
  {
   "cell_type": "code",
   "execution_count": null,
   "metadata": {},
   "outputs": [],
   "source": [
    "del train[\"device_hour_cntphour\"]\n",
    "#gc.collect()\n",
    "del train[\"os_hour_cntphour\"]\n",
    "del train[\"app_hour_cntphour\"]\n",
    "del train[\"ip_hour_cntphour\"]\n",
    "del train[\"channel_hour_cntphour\"]\n",
    "gc.collect()"
   ]
  },
  {
   "cell_type": "code",
   "execution_count": null,
   "metadata": {},
   "outputs": [],
   "source": [
    "cnt_enc = TargetEncoder(cols=['device'], targetcol='is_attributed', func='mean', cname='device_mean', add_to_orig=True)\n",
    "train = cnt_enc.fit_transform(train)\n",
    "cnt_enc = TargetEncoder(cols=['os'], targetcol='is_attributed', func='mean', cname='os_mean', add_to_orig=True)\n",
    "train = cnt_enc.fit_transform(train)\n",
    "cnt_enc = TargetEncoder(cols=['app'], targetcol='is_attributed', func='mean', cname='app_mean', add_to_orig=True)\n",
    "train = cnt_enc.fit_transform(train)\n",
    "cnt_enc = TargetEncoder(cols=['ip'], targetcol='is_attributed', func='mean', cname='ip_mean', add_to_orig=True)\n",
    "train = cnt_enc.fit_transform(train)\n",
    "cnt_enc = TargetEncoder(cols=['channel'], targetcol='is_attributed', func='mean', cname='channel_mean', add_to_orig=True)\n",
    "train = cnt_enc.fit_transform(train)"
   ]
  },
  {
   "cell_type": "code",
   "execution_count": null,
   "metadata": {},
   "outputs": [],
   "source": [
    "features = ['ip', 'app', 'device', 'os', 'channel', 'device_cnt', 'ip_cnt', 'os_cnt', 'ip_cnt', 'app_cnt', 'channel_cnt', \n",
    "            'hourofday', 'minuteofhour', 'hour_cnt','device_mean','os_mean', 'app_mean',\n",
    "            'ip_mean','channel_mean' ]\n",
    "shuffle_crossvalidator(model, train[features], train.is_attributed, cvlist=cvlist1)"
   ]
  },
  {
   "cell_type": "code",
   "execution_count": null,
   "metadata": {},
   "outputs": [],
   "source": [
    "cnt_enc = TargetEncoder(cols=['device', 'hourofday'], targetcol='is_attributed', func='mean', cname='device_hour_mean', add_to_orig=True)\n",
    "train = cnt_enc.fit_transform(train)\n",
    "cnt_enc = TargetEncoder(cols=['os', 'hourofday'], targetcol='is_attributed', func='mean', cname='os_hour_mean', add_to_orig=True)\n",
    "train = cnt_enc.fit_transform(train)\n",
    "cnt_enc = TargetEncoder(cols=['app', 'hourofday'], targetcol='is_attributed', func='mean', cname='app_hour_mean', add_to_orig=True)\n",
    "train = cnt_enc.fit_transform(train)\n",
    "cnt_enc = TargetEncoder(cols=['ip', 'hourofday'], targetcol='is_attributed', func='mean', cname='ip_hour_mean', add_to_orig=True)\n",
    "train = cnt_enc.fit_transform(train)\n",
    "cnt_enc = TargetEncoder(cols=['channel', 'hourofday'], targetcol='is_attributed', func='mean', cname='channel_hour_mean', add_to_orig=True)\n",
    "train = cnt_enc.fit_transform(train)"
   ]
  },
  {
   "cell_type": "code",
   "execution_count": null,
   "metadata": {},
   "outputs": [],
   "source": [
    "%%time\n",
    "features = ['ip', 'app', 'device', 'os', 'channel', 'device_cnt', 'ip_cnt', 'os_cnt', 'ip_cnt', 'app_cnt', 'channel_cnt', \n",
    "            'hourofday', 'minuteofhour', 'hour_cnt','device_mean','os_mean', 'app_mean',\n",
    "            'ip_mean','channel_mean', 'device_hour_mean','os_hour_mean', 'app_hour_mean',\n",
    "            'ip_hour_mean','channel_hour_mean' ]\n",
    "shuffle_crossvalidator(model, train[features], train.is_attributed, cvlist=cvlist1)"
   ]
  },
  {
   "cell_type": "code",
   "execution_count": null,
   "metadata": {},
   "outputs": [],
   "source": []
  }
 ],
 "metadata": {
  "kernelspec": {
   "display_name": "Python 3",
   "language": "python",
   "name": "python3"
  },
  "language_info": {
   "codemirror_mode": {
    "name": "ipython",
    "version": 3
   },
   "file_extension": ".py",
   "mimetype": "text/x-python",
   "name": "python",
   "nbconvert_exporter": "python",
   "pygments_lexer": "ipython3",
   "version": "3.6.4"
  }
 },
 "nbformat": 4,
 "nbformat_minor": 2
}
