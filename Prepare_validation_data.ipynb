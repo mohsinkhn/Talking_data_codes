{
 "cells": [
  {
   "cell_type": "code",
   "execution_count": 1,
   "metadata": {},
   "outputs": [],
   "source": [
    "import pandas as pd\n",
    "import numpy as  np\n",
    "\n",
    "from TargetEncoderv2 import TargetEncoder\n",
    "from FeatureSelector import FeatureSelector\n",
    "\n",
    "from sklearn.metrics import *\n",
    "from sklearn.model_selection import *\n"
   ]
  },
  {
   "cell_type": "code",
   "execution_count": 2,
   "metadata": {},
   "outputs": [],
   "source": [
    "dtypes = {\n",
    "        'ip'            : 'uint32',\n",
    "        'app'           : 'uint16',\n",
    "        'device'        : 'uint16',\n",
    "        'os'            : 'uint16',\n",
    "        'channel'       : 'uint16',\n",
    "        'is_attributed' : 'uint8',\n",
    "        'click_id'      : 'uint32'\n",
    "        }"
   ]
  },
  {
   "cell_type": "code",
   "execution_count": 4,
   "metadata": {},
   "outputs": [
    {
     "name": "stdout",
     "output_type": "stream",
     "text": [
      "processing chunk 0\n",
      "processing chunk 1\n",
      "processing chunk 2\n",
      "processing chunk 3\n",
      "processing chunk 4\n",
      "processing chunk 5\n",
      "processing chunk 6\n",
      "processing chunk 7\n",
      "processing chunk 8\n",
      "processing chunk 9\n",
      "processing chunk 10\n",
      "processing chunk 11\n",
      "processing chunk 12\n",
      "processing chunk 13\n",
      "processing chunk 14\n",
      "processing chunk 15\n",
      "processing chunk 16\n",
      "processing chunk 17\n",
      "processing chunk 18\n",
      "processing chunk 0\n",
      "processing chunk 1\n",
      "3669418\n"
     ]
    }
   ],
   "source": [
    "ip_device_os_dict = {}\n",
    "cnt = 0\n",
    "for i, chunk in enumerate(pd.read_csv(\"../input/train.csv\", dtype=dtypes, usecols=['ip', 'device', 'os'], chunksize=10000000)):\n",
    "    print(\"processing chunk {}\".format(i))\n",
    "    tmp_dict = chunk.reset_index().set_index(['ip','device','os'])['index'].to_dict()\n",
    "    ip_device_os_dict.update(tmp_dict)\n",
    "\n",
    "for i, chunk in enumerate(pd.read_csv(\"../input/test.csv\", dtype=dtypes, usecols=['ip', 'device', 'os'], chunksize=10000000)):\n",
    "    print(\"processing chunk {}\".format(i))\n",
    "    tmp_dict = chunk.reset_index().set_index(['ip','device','os'])['index'].to_dict()\n",
    "    ip_device_os_dict.update(tmp_dict)\n",
    "\n",
    "print(len(ip_device_os_dict))\n",
    "ip_device_os_dict = {k:i for i, k in enumerate(ip_device_os_dict)}\n"
   ]
  },
  {
   "cell_type": "code",
   "execution_count": 5,
   "metadata": {},
   "outputs": [],
   "source": [
    "ip_device_os_series= pd.Series(ip_device_os_dict, name='ip_device_os')"
   ]
  },
  {
   "cell_type": "code",
   "execution_count": 7,
   "metadata": {},
   "outputs": [],
   "source": [
    "#train.head().join(ip_device_os_series, on=['ip', 'device', 'os'], how='left')"
   ]
  },
  {
   "cell_type": "code",
   "execution_count": 8,
   "metadata": {},
   "outputs": [
    {
     "name": "stdout",
     "output_type": "stream",
     "text": [
      "Proocessing chunk 0\n",
      "Proocessing chunk 1\n",
      "Proocessing chunk 2\n",
      "Proocessing chunk 3\n",
      "Proocessing chunk 4\n",
      "Proocessing chunk 5\n",
      "Proocessing chunk 6\n",
      "Proocessing chunk 7\n",
      "Proocessing chunk 8\n",
      "Proocessing chunk 9\n",
      "Proocessing chunk 10\n",
      "Proocessing chunk 11\n",
      "Proocessing chunk 12\n",
      "Proocessing chunk 13\n",
      "Proocessing chunk 14\n",
      "Proocessing chunk 15\n",
      "Proocessing chunk 16\n",
      "Proocessing chunk 17\n",
      "Proocessing chunk 18\n",
      "Proocessing chunk 19\n",
      "Proocessing chunk 20\n",
      "Proocessing chunk 21\n",
      "Proocessing chunk 22\n",
      "Proocessing chunk 23\n",
      "Proocessing chunk 24\n",
      "Proocessing chunk 25\n",
      "Proocessing chunk 26\n",
      "Proocessing chunk 27\n",
      "Proocessing chunk 28\n",
      "Proocessing chunk 29\n",
      "Proocessing chunk 30\n",
      "Proocessing chunk 31\n",
      "Proocessing chunk 32\n",
      "Proocessing chunk 33\n",
      "Proocessing chunk 34\n",
      "Proocessing chunk 35\n",
      "Proocessing chunk 36\n"
     ]
    }
   ],
   "source": [
    "orig_feats = ['ip', 'app', 'device', 'os', 'channel', 'weekofday', 'hourofday', 'is_attributed', 'ip_device_os']\n",
    "\n",
    "val = pd.DataFrame(columns=orig_feats)\n",
    "val.to_csv(\"../input/validation.csv\", index=False)\n",
    "\n",
    "tr = pd.DataFrame(columns=orig_feats)\n",
    "tr.to_csv(\"../input/train_noval.csv\", index=False)\n",
    "\n",
    "\n",
    "    \n",
    "for i, chunk in enumerate(pd.read_csv(\"../input/train.csv\", dtype=dtypes, chunksize=5000000)):\n",
    "    print(\"Proocessing chunk {}\".format(i))\n",
    "    chunk['click_time'] = pd.to_datetime(chunk['click_time'])\n",
    "    chunk['weekofday'] = chunk['click_time'].dt.day\n",
    "    chunk['hourofday'] = chunk['click_time'].dt.hour\n",
    "    chunk = chunk.join(ip_device_os_series, on=['ip', 'device', 'os'], how='left')\n",
    "    cond = (chunk['weekofday'] == 9) & (chunk['hourofday'].isin([4,5,9]))\n",
    "    val = chunk.loc[cond]\n",
    "    tr =chunk.loc[~cond]\n",
    "    if len(val > 0):\n",
    "        val[orig_feats].to_csv(\"../input/validation.csv\", mode='a', header=False, index=False)\n",
    "    if len(tr > 0):\n",
    "        tr[orig_feats].to_csv(\"../input/train_noval.csv\", mode='a', header=False, index=False)"
   ]
  },
  {
   "cell_type": "code",
   "execution_count": 9,
   "metadata": {},
   "outputs": [
    {
     "name": "stdout",
     "output_type": "stream",
     "text": [
      "Proocessing chunk 0\n",
      "Proocessing chunk 1\n",
      "Proocessing chunk 2\n",
      "Proocessing chunk 3\n"
     ]
    }
   ],
   "source": [
    "te = pd.DataFrame(columns=orig_feats)\n",
    "te.to_csv(\"../input/test_noval.csv\", index=False)\n",
    "\n",
    "for i, chunk in enumerate(pd.read_csv(\"../input/test.csv\", dtype=dtypes, chunksize=5000000)):\n",
    "    print(\"Proocessing chunk {}\".format(i))\n",
    "    chunk['click_time'] = pd.to_datetime(chunk['click_time'])\n",
    "    chunk['weekofday'] = chunk['click_time'].dt.day\n",
    "    chunk['hourofday'] = chunk['click_time'].dt.hour\n",
    "    chunk = chunk.join(ip_device_os_series, on=['ip', 'device', 'os'], how='left')\n",
    "\n",
    "    chunk[orig_feats].to_csv(\"../input/test_noval.csv\", mode='a', header=False, index=False)"
   ]
  },
  {
   "cell_type": "code",
   "execution_count": null,
   "metadata": {},
   "outputs": [],
   "source": []
  }
 ],
 "metadata": {
  "kernelspec": {
   "display_name": "Python 3",
   "language": "python",
   "name": "python3"
  },
  "language_info": {
   "codemirror_mode": {
    "name": "ipython",
    "version": 3
   },
   "file_extension": ".py",
   "mimetype": "text/x-python",
   "name": "python",
   "nbconvert_exporter": "python",
   "pygments_lexer": "ipython3",
   "version": "3.6.4"
  }
 },
 "nbformat": 4,
 "nbformat_minor": 2
}
