{
 "cells": [
  {
   "cell_type": "markdown",
   "metadata": {},
   "source": [
    "#### WorkFlow in this notebook\n",
    "- For each variable **ip**, **os**, **channel**, **device**, **app** save the sequence of *is_attributed* and *time_difference* in numpy arrays"
   ]
  },
  {
   "cell_type": "code",
   "execution_count": 1,
   "metadata": {},
   "outputs": [],
   "source": [
    "import pandas as pd\n",
    "import numpy as np\n",
    "\n",
    "import os"
   ]
  },
  {
   "cell_type": "code",
   "execution_count": 2,
   "metadata": {},
   "outputs": [],
   "source": [
    "data_path = \"../input/\"\n",
    "train_path = data_path+\"train.csv\" \n",
    "processed_data_path = \"../input/processed/\"\n",
    "#test = \"train_sample.csv\"\n",
    "\n",
    "## column dtypes\n",
    "dtypes = {\n",
    "        'ip'            : 'uint32',\n",
    "        'app'           : 'uint16',\n",
    "        'device'        : 'uint16',\n",
    "        'os'            : 'uint16',\n",
    "        'channel'       : 'uint16',\n",
    "        'is_attributed' : 'uint8',\n",
    "        'click_id'      : 'uint32',\n",
    "        'hourofday'     : 'uint8',\n",
    "        'dayofweek'     : 'uint8',\n",
    "        'ip_device_os'     : 'uint32',\n",
    "        'ip_device_os_app'     : 'uint32',\n",
    "        'ip_device_os_app_channel' : 'uint32',\n",
    "        }\n",
    "\n",
    "time_series_length = 1000"
   ]
  },
  {
   "cell_type": "code",
   "execution_count": 3,
   "metadata": {},
   "outputs": [],
   "source": [
    "def pad_1d(array, max_len):\n",
    "    array = array[len(array)-max_len:]\n",
    "    length = len(array)\n",
    "    padded = [-1]*(max_len - len(array)) + array\n",
    "    return padded, length\n",
    "\n",
    "def time_details(df):\n",
    "    df['epoch_time'] = ((pd.to_datetime(df['click_time']) - pd.to_datetime(\"2017-11-06 14:00:00\"))).astype(np.int64)//10**9\n",
    "#     df['seconds'] = (df['epoch_time'] % 60).astype(np.uint8)\n",
    "#     df['epoch_minute'] = (df['epoch_time'] // 60).astype(np.uint32)\n",
    "#     df['minutes'] = (df['epoch_minute'] % 60).astype(np.uint8)\n",
    "    \n",
    "    del df['click_time']\n",
    "    return df"
   ]
  },
  {
   "cell_type": "code",
   "execution_count": 4,
   "metadata": {},
   "outputs": [],
   "source": [
    "def preprocess_data(path,dtype = dtypes,column_name = \"ip\"):\n",
    "    print(\"Processing feat\", column_name)\n",
    "    def parse_col(x):\n",
    "        series = pd.Series()\n",
    "\n",
    "        series['attributed_series'] = \"_\".join(x['is_attributed'].values.astype(str).tolist())\n",
    "        series[\"time_delta\"] = \"_\".join([str(s-t) for t,s in zip(x['epoch_time'].values.astype(int).tolist(), x['epoch_time'][1:].values.astype(int).tolist())])\n",
    "\n",
    "        return series\n",
    "    #load data\n",
    "    df = pd.read_csv(path, dtype=dtype, usecols=[column_name, 'is_attributed', 'click_time'])\n",
    "    df = time_details(df)\n",
    "    \n",
    "    df = df.sort_values(by = 'epoch_time')\n",
    "    df = df.groupby(column_name, sort=False).apply(parse_col).reset_index()\n",
    "    \n",
    "    if not os.path.isdir('../input/processed'):\n",
    "        os.makedirs('../input/processed')\n",
    "    df.to_csv(os.path.join('../input/processed', column_name+'_data.csv'), index=False)"
   ]
  },
  {
   "cell_type": "code",
   "execution_count": 14,
   "metadata": {},
   "outputs": [],
   "source": [
    "def create_data(column_name, processed_data_path = processed_data_path, time_series_length = time_series_length):\n",
    "    df = pd.read_csv(processed_data_path+column_name+'_data.csv')\n",
    "    num_rows = len(df)\n",
    "    col_id = np.zeros(shape =(num_rows), dtype = np.int32)\n",
    "    history_length = np.zeros(shape = (num_rows), dtype = np.int32)\n",
    "    attributed_history = np.zeros(shape = (num_rows, time_series_length), dtype = np.int8)\n",
    "    time_delta_history = np.zeros(shape = (num_rows, time_series_length), dtype = np.int32)\n",
    "    is_next_downloaded = np.zeros(shape = (num_rows), dtype = np.int8)\n",
    "    for i, row in df.iterrows():\n",
    "        if i % 10000 == 0:\n",
    "            print(i)\n",
    "        col_id[i] = row[column_name]\n",
    "        if  type(row['attributed_series']) is str:\n",
    "            temp_list = [int(j) for j in row['attributed_series'].split('_')]\n",
    "            if len(temp_list) > 1:\n",
    "                attributed_series = temp_list[:-1]\n",
    "                is_next_downloaded[i] = temp_list[-1]\n",
    "            else:\n",
    "                attributed_series = [-1]\n",
    "                is_next_downloaded[i] = temp_list[0]\n",
    "        attributed_history[i, :], history_length[i] = pad_1d(attributed_series, time_series_length)\n",
    "        if type(row['time_delta']) is str:\n",
    "            time_delta_series = [int(j) for j in row['time_delta'].split('_')][:-1]\n",
    "        else:\n",
    "            time_delta_series = [-1]\n",
    "        time_delta_history[i, :], _ = pad_1d(time_delta_series, time_series_length)\n",
    "\n",
    "    np.save(processed_data_path+column_name+'_id.npy', col_id)\n",
    "    np.save(processed_data_path+column_name+'_attributed_history.npy', attributed_history)\n",
    "    np.save(processed_data_path+column_name+'_time_delta_history.npy', time_delta_history)\n",
    "    np.save(processed_data_path+column_name+'_next_download.npy', is_next_downloaded)\n",
    "    np.save(processed_data_path+column_name+'_history_length.npy', history_length)"
   ]
  },
  {
   "cell_type": "code",
   "execution_count": 6,
   "metadata": {},
   "outputs": [
    {
     "name": "stdout",
     "output_type": "stream",
     "text": [
      "Processing feat ip\n",
      "0\n",
      "10000\n",
      "20000\n",
      "30000\n",
      "40000\n",
      "50000\n",
      "60000\n",
      "70000\n",
      "80000\n",
      "90000\n",
      "100000\n",
      "110000\n",
      "120000\n",
      "130000\n",
      "140000\n",
      "150000\n",
      "160000\n",
      "170000\n",
      "180000\n",
      "190000\n",
      "200000\n",
      "210000\n",
      "220000\n",
      "230000\n",
      "240000\n",
      "250000\n",
      "260000\n",
      "270000\n",
      "CPU times: user 11min 39s, sys: 18.9 s, total: 11min 58s\n",
      "Wall time: 12min 5s\n"
     ]
    }
   ],
   "source": [
    "%%time\n",
    "feat_cols = ['ip']\n",
    "for feat in feat_cols:\n",
    "    preprocess_data(path = train_path,dtype = dtypes,column_name = feat)\n",
    "    create_data(column_name=feat, processed_data_path = processed_data_path, \n",
    "                time_series_length = time_series_length)"
   ]
  },
  {
   "cell_type": "code",
   "execution_count": 15,
   "metadata": {},
   "outputs": [
    {
     "name": "stdout",
     "output_type": "stream",
     "text": [
      "0\n",
      "10000\n",
      "20000\n",
      "30000\n",
      "40000\n",
      "50000\n",
      "60000\n",
      "70000\n",
      "80000\n",
      "90000\n",
      "100000\n",
      "110000\n",
      "120000\n",
      "130000\n",
      "140000\n",
      "150000\n",
      "160000\n",
      "170000\n",
      "180000\n",
      "190000\n",
      "200000\n",
      "210000\n",
      "220000\n",
      "230000\n",
      "240000\n",
      "250000\n",
      "260000\n",
      "270000\n"
     ]
    }
   ],
   "source": [
    "create_data(column_name=feat, processed_data_path = processed_data_path, \n",
    "                time_series_length = time_series_length)"
   ]
  },
  {
   "cell_type": "code",
   "execution_count": 16,
   "metadata": {},
   "outputs": [
    {
     "data": {
      "text/plain": [
       "array([0, 0, 0, ..., 1, 1, 1], dtype=int8)"
      ]
     },
     "execution_count": 16,
     "metadata": {},
     "output_type": "execute_result"
    }
   ],
   "source": [
    "np.load(\"../input/processed/ip_next_download.npy\")"
   ]
  },
  {
   "cell_type": "code",
   "execution_count": null,
   "metadata": {},
   "outputs": [],
   "source": []
  }
 ],
 "metadata": {
  "kernelspec": {
   "display_name": "Python 3",
   "language": "python",
   "name": "python3"
  },
  "language_info": {
   "codemirror_mode": {
    "name": "ipython",
    "version": 3
   },
   "file_extension": ".py",
   "mimetype": "text/x-python",
   "name": "python",
   "nbconvert_exporter": "python",
   "pygments_lexer": "ipython3",
   "version": "3.6.4"
  }
 },
 "nbformat": 4,
 "nbformat_minor": 2
}
