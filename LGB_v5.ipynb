{
 "cells": [
  {
   "cell_type": "code",
   "execution_count": 1,
   "metadata": {
    "collapsed": true
   },
   "outputs": [],
   "source": [
    "import pandas as pd\n",
    "#import ray.dataframe as pd\n",
    "import numpy as np\n",
    "\n",
    "import matplotlib.pyplot as plt\n",
    "import seaborn as sns\n",
    "\n",
    "from sklearn.model_selection import *\n",
    "from sklearn.metrics import *\n",
    "from sklearn.linear_model import *\n",
    "\n",
    "import lightgbm as lgb\n",
    "import os\n",
    "import gc\n",
    "import pickle"
   ]
  },
  {
   "cell_type": "code",
   "execution_count": 2,
   "metadata": {
    "collapsed": true
   },
   "outputs": [],
   "source": [
    "dtypes = {\n",
    "        'ip'            : 'uint32',\n",
    "        'app'           : 'uint16',\n",
    "        'device'        : 'uint16',\n",
    "        'os'            : 'uint16',\n",
    "        'channel'       : 'uint16',\n",
    "        'is_attributed' : 'uint8',\n",
    "        'click_id'      : 'uint32',\n",
    "        'hourofday'     : 'uint8',\n",
    "        'dayofweek'     : 'uint8',\n",
    "        'ip_device_os'     : 'uint32',\n",
    "        'ip_device_os_app'     : 'uint32',\n",
    "        'ip_device_os_app_channel' : 'uint32',\n",
    "        \n",
    "        }"
   ]
  },
  {
   "cell_type": "code",
   "execution_count": 3,
   "metadata": {},
   "outputs": [
    {
     "data": {
      "text/html": [
       "<div>\n",
       "<style scoped>\n",
       "    .dataframe tbody tr th:only-of-type {\n",
       "        vertical-align: middle;\n",
       "    }\n",
       "\n",
       "    .dataframe tbody tr th {\n",
       "        vertical-align: top;\n",
       "    }\n",
       "\n",
       "    .dataframe thead th {\n",
       "        text-align: right;\n",
       "    }\n",
       "</style>\n",
       "<table border=\"1\" class=\"dataframe\">\n",
       "  <thead>\n",
       "    <tr style=\"text-align: right;\">\n",
       "      <th></th>\n",
       "      <th>ip</th>\n",
       "      <th>app</th>\n",
       "      <th>device</th>\n",
       "      <th>os</th>\n",
       "      <th>channel</th>\n",
       "      <th>is_attributed</th>\n",
       "      <th>click_time</th>\n",
       "      <th>dayofweek</th>\n",
       "      <th>hourofday</th>\n",
       "      <th>ip_device_os</th>\n",
       "      <th>ip_device_os_app</th>\n",
       "      <th>ip_device_os_app_channel</th>\n",
       "    </tr>\n",
       "  </thead>\n",
       "  <tbody>\n",
       "    <tr>\n",
       "      <th>0</th>\n",
       "      <td>53454</td>\n",
       "      <td>18</td>\n",
       "      <td>1</td>\n",
       "      <td>13</td>\n",
       "      <td>107</td>\n",
       "      <td>0</td>\n",
       "      <td>2017-11-08 15:19:33</td>\n",
       "      <td>2</td>\n",
       "      <td>15</td>\n",
       "      <td>2030562</td>\n",
       "      <td>15281242</td>\n",
       "      <td>60903495</td>\n",
       "    </tr>\n",
       "    <tr>\n",
       "      <th>1</th>\n",
       "      <td>95766</td>\n",
       "      <td>12</td>\n",
       "      <td>1</td>\n",
       "      <td>19</td>\n",
       "      <td>265</td>\n",
       "      <td>0</td>\n",
       "      <td>2017-11-08 15:19:33</td>\n",
       "      <td>2</td>\n",
       "      <td>15</td>\n",
       "      <td>2089086</td>\n",
       "      <td>6664161</td>\n",
       "      <td>43218990</td>\n",
       "    </tr>\n",
       "    <tr>\n",
       "      <th>2</th>\n",
       "      <td>44744</td>\n",
       "      <td>15</td>\n",
       "      <td>1</td>\n",
       "      <td>18</td>\n",
       "      <td>245</td>\n",
       "      <td>0</td>\n",
       "      <td>2017-11-08 15:19:33</td>\n",
       "      <td>2</td>\n",
       "      <td>15</td>\n",
       "      <td>2023985</td>\n",
       "      <td>14422182</td>\n",
       "      <td>52911397</td>\n",
       "    </tr>\n",
       "    <tr>\n",
       "      <th>3</th>\n",
       "      <td>29748</td>\n",
       "      <td>18</td>\n",
       "      <td>1</td>\n",
       "      <td>47</td>\n",
       "      <td>107</td>\n",
       "      <td>0</td>\n",
       "      <td>2017-11-08 15:19:33</td>\n",
       "      <td>2</td>\n",
       "      <td>15</td>\n",
       "      <td>2384319</td>\n",
       "      <td>19019190</td>\n",
       "      <td>6434270</td>\n",
       "    </tr>\n",
       "    <tr>\n",
       "      <th>4</th>\n",
       "      <td>71017</td>\n",
       "      <td>15</td>\n",
       "      <td>1</td>\n",
       "      <td>35</td>\n",
       "      <td>245</td>\n",
       "      <td>0</td>\n",
       "      <td>2017-11-08 15:19:33</td>\n",
       "      <td>2</td>\n",
       "      <td>15</td>\n",
       "      <td>1464977</td>\n",
       "      <td>42829</td>\n",
       "      <td>53949927</td>\n",
       "    </tr>\n",
       "  </tbody>\n",
       "</table>\n",
       "</div>"
      ],
      "text/plain": [
       "      ip  app  device  os  channel  is_attributed           click_time  \\\n",
       "0  53454   18       1  13      107              0  2017-11-08 15:19:33   \n",
       "1  95766   12       1  19      265              0  2017-11-08 15:19:33   \n",
       "2  44744   15       1  18      245              0  2017-11-08 15:19:33   \n",
       "3  29748   18       1  47      107              0  2017-11-08 15:19:33   \n",
       "4  71017   15       1  35      245              0  2017-11-08 15:19:33   \n",
       "\n",
       "   dayofweek  hourofday  ip_device_os  ip_device_os_app  \\\n",
       "0          2         15       2030562          15281242   \n",
       "1          2         15       2089086           6664161   \n",
       "2          2         15       2023985          14422182   \n",
       "3          2         15       2384319          19019190   \n",
       "4          2         15       1464977             42829   \n",
       "\n",
       "   ip_device_os_app_channel  \n",
       "0                  60903495  \n",
       "1                  43218990  \n",
       "2                  52911397  \n",
       "3                   6434270  \n",
       "4                  53949927  "
      ]
     },
     "execution_count": 3,
     "metadata": {},
     "output_type": "execute_result"
    }
   ],
   "source": [
    "train = pd.read_csv(\"../input/train_base.csv\", dtype=dtypes, skiprows=range(1,120*10**6), nrows=30* 10**6)\n",
    "train.head()"
   ]
  },
  {
   "cell_type": "code",
   "execution_count": 4,
   "metadata": {},
   "outputs": [
    {
     "data": {
      "text/plain": [
       "(30000000, 12)"
      ]
     },
     "execution_count": 4,
     "metadata": {},
     "output_type": "execute_result"
    }
   ],
   "source": [
    "train.shape"
   ]
  },
  {
   "cell_type": "code",
   "execution_count": 5,
   "metadata": {
    "collapsed": true
   },
   "outputs": [],
   "source": [
    "def plot_feature(df, col):\n",
    "    sns.distplot(df.loc[df.is_attributed == 0, col])\n",
    "    sns.distplot(df.loc[df.is_attributed == 1, col])\n",
    "    plt.show()"
   ]
  },
  {
   "cell_type": "code",
   "execution_count": 6,
   "metadata": {
    "collapsed": true
   },
   "outputs": [],
   "source": [
    "def time_details(df):\n",
    "    df['epoch_time'] = ((pd.to_datetime(df['click_time']) - pd.to_datetime(\"2017-11-06 14:00:00\"))/10**9).astype(np.int64).astype(np.uint32)\n",
    "    df['seconds'] = (df['epoch_time'] % 60).astype(np.uint8)\n",
    "    df['epoch_minute'] = (df['epoch_time'] // 60).astype(np.uint32)\n",
    "    df['minutes'] = (df['epoch_minute'] % 60).astype(np.uint8)\n",
    "    \n",
    "    #del df['click_time']\n",
    "    return df"
   ]
  },
  {
   "cell_type": "code",
   "execution_count": 7,
   "metadata": {},
   "outputs": [],
   "source": [
    "train = time_details(train)"
   ]
  },
  {
   "cell_type": "code",
   "execution_count": 8,
   "metadata": {},
   "outputs": [
    {
     "data": {
      "text/plain": [
       "4     4032691\n",
       "3     3351149\n",
       "0     3318301\n",
       "1     3082862\n",
       "2     3068887\n",
       "16    2455567\n",
       "23    2366694\n",
       "15    2070802\n",
       "17    1387383\n",
       "22    1260525\n",
       "5     1259156\n",
       "18     794088\n",
       "19     554053\n",
       "21     550518\n",
       "20     447324\n",
       "Name: hourofday, dtype: int64"
      ]
     },
     "execution_count": 8,
     "metadata": {},
     "output_type": "execute_result"
    }
   ],
   "source": [
    "train['hourofday'].value_counts()"
   ]
  },
  {
   "cell_type": "code",
   "execution_count": 9,
   "metadata": {},
   "outputs": [
    {
     "name": "stdout",
     "output_type": "stream",
     "text": [
      "(24000000, 16) (6000000, 16)\n"
     ]
    }
   ],
   "source": [
    "tr, val = train_test_split(train, test_size=0.2)\n",
    "print(tr.shape, val.shape)"
   ]
  },
  {
   "cell_type": "code",
   "execution_count": 10,
   "metadata": {},
   "outputs": [
    {
     "data": {
      "text/plain": [
       "Index(['ip', 'app', 'device', 'os', 'channel', 'is_attributed', 'click_time',\n",
       "       'dayofweek', 'hourofday', 'ip_device_os', 'ip_device_os_app',\n",
       "       'ip_device_os_app_channel', 'epoch_time', 'seconds', 'epoch_minute',\n",
       "       'minutes'],\n",
       "      dtype='object')"
      ]
     },
     "execution_count": 10,
     "metadata": {},
     "output_type": "execute_result"
    }
   ],
   "source": [
    "tr.columns"
   ]
  },
  {
   "cell_type": "code",
   "execution_count": 13,
   "metadata": {
    "collapsed": true
   },
   "outputs": [],
   "source": [
    "feats = ['ip', 'app', 'device', 'os', 'channel', 'hourofday']"
   ]
  },
  {
   "cell_type": "code",
   "execution_count": 14,
   "metadata": {},
   "outputs": [
    {
     "name": "stdout",
     "output_type": "stream",
     "text": [
      "Training until validation scores don't improve for 100 rounds.\n",
      "[10]\tvalid_0's auc: 0.918694\n",
      "[20]\tvalid_0's auc: 0.918364\n",
      "[30]\tvalid_0's auc: 0.933639\n",
      "[40]\tvalid_0's auc: 0.951349\n",
      "[50]\tvalid_0's auc: 0.956472\n",
      "[60]\tvalid_0's auc: 0.957598\n",
      "[70]\tvalid_0's auc: 0.959905\n",
      "[80]\tvalid_0's auc: 0.961285\n",
      "[90]\tvalid_0's auc: 0.962434\n",
      "[100]\tvalid_0's auc: 0.96324\n",
      "[110]\tvalid_0's auc: 0.963941\n",
      "[120]\tvalid_0's auc: 0.964258\n",
      "[130]\tvalid_0's auc: 0.964597\n",
      "[140]\tvalid_0's auc: 0.965251\n",
      "[150]\tvalid_0's auc: 0.965403\n",
      "[160]\tvalid_0's auc: 0.965644\n",
      "[170]\tvalid_0's auc: 0.965762\n",
      "[180]\tvalid_0's auc: 0.96595\n",
      "[190]\tvalid_0's auc: 0.966081\n",
      "[200]\tvalid_0's auc: 0.966355\n",
      "[210]\tvalid_0's auc: 0.966562\n",
      "[220]\tvalid_0's auc: 0.966705\n",
      "[230]\tvalid_0's auc: 0.966817\n",
      "[240]\tvalid_0's auc: 0.966966\n",
      "[250]\tvalid_0's auc: 0.967079\n",
      "[260]\tvalid_0's auc: 0.967181\n",
      "[270]\tvalid_0's auc: 0.967265\n",
      "[280]\tvalid_0's auc: 0.967309\n",
      "[290]\tvalid_0's auc: 0.96741\n",
      "[300]\tvalid_0's auc: 0.96743\n",
      "Did not meet early stopping. Best iteration is:\n",
      "[300]\tvalid_0's auc: 0.96743\n"
     ]
    },
    {
     "data": {
      "text/plain": [
       "LGBMClassifier(boosting_type='gbdt', class_weight=None, colsample_bylevel=0.7,\n",
       "        colsample_bytree=0.7, learning_rate=0.1, max_depth=4,\n",
       "        min_child_samples=20, min_child_weight=0.001, min_split_gain=0.0,\n",
       "        n_estimators=300, n_jobs=-1, num_leaves=15, objective=None,\n",
       "        random_state=None, reg_alpha=0.0, reg_lambda=0.0,\n",
       "        scale_pos_weight=9, silent=True, subsample=0.7,\n",
       "        subsample_for_bin=200000, subsample_freq=1)"
      ]
     },
     "execution_count": 14,
     "metadata": {},
     "output_type": "execute_result"
    }
   ],
   "source": [
    "model = lgb.LGBMClassifier(n_estimators=300, max_depth=4, subsample=0.7, colsample_bytree=0.7, colsample_bylevel=0.7,\n",
    "                           scale_pos_weight=9, \n",
    "                       num_leaves=15, n_jobs=-1)\n",
    "model.fit( tr[feats], tr['is_attributed'], eval_set=[(val[feats], val['is_attributed'])], eval_metric='auc', \n",
    "      verbose=10, early_stopping_rounds=100,)"
   ]
  },
  {
   "cell_type": "code",
   "execution_count": 21,
   "metadata": {},
   "outputs": [
    {
     "name": "stdout",
     "output_type": "stream",
     "text": [
      "Training until validation scores don't improve for 100 rounds.\n",
      "[10]\tvalid_0's auc: 0.920729\n",
      "[20]\tvalid_0's auc: 0.927331\n",
      "[30]\tvalid_0's auc: 0.944638\n",
      "[40]\tvalid_0's auc: 0.949961\n",
      "[50]\tvalid_0's auc: 0.955619\n",
      "[60]\tvalid_0's auc: 0.958962\n",
      "[70]\tvalid_0's auc: 0.960873\n",
      "[80]\tvalid_0's auc: 0.961258\n",
      "[90]\tvalid_0's auc: 0.96216\n",
      "[100]\tvalid_0's auc: 0.962951\n",
      "[110]\tvalid_0's auc: 0.963446\n",
      "[120]\tvalid_0's auc: 0.963747\n",
      "[130]\tvalid_0's auc: 0.964282\n",
      "[140]\tvalid_0's auc: 0.964588\n",
      "[150]\tvalid_0's auc: 0.964814\n",
      "[160]\tvalid_0's auc: 0.965104\n",
      "[170]\tvalid_0's auc: 0.965415\n",
      "[180]\tvalid_0's auc: 0.965649\n",
      "[190]\tvalid_0's auc: 0.965845\n",
      "[200]\tvalid_0's auc: 0.966008\n",
      "[210]\tvalid_0's auc: 0.966112\n",
      "[220]\tvalid_0's auc: 0.966377\n",
      "[230]\tvalid_0's auc: 0.96658\n",
      "[240]\tvalid_0's auc: 0.966617\n",
      "[250]\tvalid_0's auc: 0.966691\n",
      "[260]\tvalid_0's auc: 0.966853\n",
      "[270]\tvalid_0's auc: 0.966966\n",
      "[280]\tvalid_0's auc: 0.967039\n",
      "[290]\tvalid_0's auc: 0.967105\n",
      "[300]\tvalid_0's auc: 0.967164\n",
      "Did not meet early stopping. Best iteration is:\n",
      "[294]\tvalid_0's auc: 0.967177\n",
      "Training until validation scores don't improve for 100 rounds.\n",
      "[10]\tvalid_0's auc: 0.920729\n",
      "[20]\tvalid_0's auc: 0.927331\n",
      "[30]\tvalid_0's auc: 0.944637\n",
      "[40]\tvalid_0's auc: 0.949973\n",
      "[50]\tvalid_0's auc: 0.955619\n",
      "[60]\tvalid_0's auc: 0.959032\n",
      "[70]\tvalid_0's auc: 0.960889\n",
      "[80]\tvalid_0's auc: 0.961433\n",
      "[90]\tvalid_0's auc: 0.96264\n",
      "[100]\tvalid_0's auc: 0.963258\n",
      "[110]\tvalid_0's auc: 0.963719\n",
      "[120]\tvalid_0's auc: 0.964247\n",
      "[130]\tvalid_0's auc: 0.964745\n",
      "[140]\tvalid_0's auc: 0.965004\n",
      "[150]\tvalid_0's auc: 0.965209\n",
      "[160]\tvalid_0's auc: 0.965506\n",
      "[170]\tvalid_0's auc: 0.96578\n",
      "[180]\tvalid_0's auc: 0.966063\n",
      "[190]\tvalid_0's auc: 0.966297\n",
      "[200]\tvalid_0's auc: 0.966411\n",
      "[210]\tvalid_0's auc: 0.966501\n",
      "[220]\tvalid_0's auc: 0.96669\n",
      "[230]\tvalid_0's auc: 0.966809\n",
      "[240]\tvalid_0's auc: 0.966944\n",
      "[250]\tvalid_0's auc: 0.966991\n",
      "[260]\tvalid_0's auc: 0.96711\n",
      "[270]\tvalid_0's auc: 0.967176\n",
      "[280]\tvalid_0's auc: 0.967228\n",
      "[290]\tvalid_0's auc: 0.967253\n",
      "[300]\tvalid_0's auc: 0.967304\n",
      "Did not meet early stopping. Best iteration is:\n",
      "[294]\tvalid_0's auc: 0.967317\n",
      "Training until validation scores don't improve for 100 rounds.\n",
      "[10]\tvalid_0's auc: 0.920734\n",
      "[20]\tvalid_0's auc: 0.927331\n",
      "[30]\tvalid_0's auc: 0.944637\n",
      "[40]\tvalid_0's auc: 0.949972\n",
      "[50]\tvalid_0's auc: 0.955619\n",
      "[60]\tvalid_0's auc: 0.959034\n",
      "[70]\tvalid_0's auc: 0.960891\n",
      "[80]\tvalid_0's auc: 0.961438\n",
      "[90]\tvalid_0's auc: 0.962583\n",
      "[100]\tvalid_0's auc: 0.963099\n",
      "[110]\tvalid_0's auc: 0.963573\n",
      "[120]\tvalid_0's auc: 0.963882\n",
      "[130]\tvalid_0's auc: 0.964443\n",
      "[140]\tvalid_0's auc: 0.964654\n",
      "[150]\tvalid_0's auc: 0.965019\n",
      "[160]\tvalid_0's auc: 0.965429\n",
      "[170]\tvalid_0's auc: 0.965624\n",
      "[180]\tvalid_0's auc: 0.965785\n",
      "[190]\tvalid_0's auc: 0.966054\n",
      "[200]\tvalid_0's auc: 0.966181\n",
      "[210]\tvalid_0's auc: 0.966249\n",
      "[220]\tvalid_0's auc: 0.966494\n",
      "[230]\tvalid_0's auc: 0.966645\n",
      "[240]\tvalid_0's auc: 0.966655\n",
      "[250]\tvalid_0's auc: 0.966733\n",
      "[260]\tvalid_0's auc: 0.966831\n",
      "[270]\tvalid_0's auc: 0.966963\n",
      "[280]\tvalid_0's auc: 0.966978\n",
      "[290]\tvalid_0's auc: 0.967039\n",
      "[300]\tvalid_0's auc: 0.967048\n",
      "Did not meet early stopping. Best iteration is:\n",
      "[289]\tvalid_0's auc: 0.96706\n"
     ]
    },
    {
     "ename": "KeyboardInterrupt",
     "evalue": "",
     "output_type": "error",
     "traceback": [
      "\u001b[0;31m---------------------------------------------------------------------------\u001b[0m",
      "\u001b[0;31mKeyboardInterrupt\u001b[0m                         Traceback (most recent call last)",
      "\u001b[0;32m<ipython-input-21-b0ed8c149449>\u001b[0m in \u001b[0;36m<module>\u001b[0;34m()\u001b[0m\n\u001b[1;32m     10\u001b[0m           verbose=10, early_stopping_rounds=100,)\n\u001b[1;32m     11\u001b[0m \u001b[0;34m\u001b[0m\u001b[0m\n\u001b[0;32m---> 12\u001b[0;31m     \u001b[0mscores\u001b[0m\u001b[0;34m.\u001b[0m\u001b[0mappend\u001b[0m\u001b[0;34m(\u001b[0m\u001b[0mroc_auc_score\u001b[0m\u001b[0;34m(\u001b[0m\u001b[0mval\u001b[0m\u001b[0;34m[\u001b[0m\u001b[0;34m'is_attributed'\u001b[0m\u001b[0;34m]\u001b[0m\u001b[0;34m,\u001b[0m \u001b[0mmodel\u001b[0m\u001b[0;34m.\u001b[0m\u001b[0mpredict_proba\u001b[0m\u001b[0;34m(\u001b[0m\u001b[0mval\u001b[0m\u001b[0;34m[\u001b[0m\u001b[0mfeats2\u001b[0m\u001b[0;34m]\u001b[0m\u001b[0;34m)\u001b[0m\u001b[0;34m[\u001b[0m\u001b[0;34m:\u001b[0m\u001b[0;34m,\u001b[0m\u001b[0;36m1\u001b[0m\u001b[0;34m]\u001b[0m\u001b[0;34m)\u001b[0m\u001b[0;34m)\u001b[0m\u001b[0;34m\u001b[0m\u001b[0m\n\u001b[0m",
      "\u001b[0;32m~/anaconda3/lib/python3.6/site-packages/lightgbm/sklearn.py\u001b[0m in \u001b[0;36mpredict_proba\u001b[0;34m(self, X, raw_score, num_iteration)\u001b[0m\n\u001b[1;32m    717\u001b[0m                              \u001b[0;34m\"input n_features is %s \"\u001b[0m\u001b[0;34m\u001b[0m\u001b[0m\n\u001b[1;32m    718\u001b[0m                              % (self._n_features, n_features))\n\u001b[0;32m--> 719\u001b[0;31m         \u001b[0mclass_probs\u001b[0m \u001b[0;34m=\u001b[0m \u001b[0mself\u001b[0m\u001b[0;34m.\u001b[0m\u001b[0mbooster_\u001b[0m\u001b[0;34m.\u001b[0m\u001b[0mpredict\u001b[0m\u001b[0;34m(\u001b[0m\u001b[0mX\u001b[0m\u001b[0;34m,\u001b[0m \u001b[0mraw_score\u001b[0m\u001b[0;34m=\u001b[0m\u001b[0mraw_score\u001b[0m\u001b[0;34m,\u001b[0m \u001b[0mnum_iteration\u001b[0m\u001b[0;34m=\u001b[0m\u001b[0mnum_iteration\u001b[0m\u001b[0;34m)\u001b[0m\u001b[0;34m\u001b[0m\u001b[0m\n\u001b[0m\u001b[1;32m    720\u001b[0m         \u001b[0;32mif\u001b[0m \u001b[0mself\u001b[0m\u001b[0;34m.\u001b[0m\u001b[0m_n_classes\u001b[0m \u001b[0;34m>\u001b[0m \u001b[0;36m2\u001b[0m\u001b[0;34m:\u001b[0m\u001b[0;34m\u001b[0m\u001b[0m\n\u001b[1;32m    721\u001b[0m             \u001b[0;32mreturn\u001b[0m \u001b[0mclass_probs\u001b[0m\u001b[0;34m\u001b[0m\u001b[0m\n",
      "\u001b[0;32m~/anaconda3/lib/python3.6/site-packages/lightgbm/basic.py\u001b[0m in \u001b[0;36mpredict\u001b[0;34m(self, data, num_iteration, raw_score, pred_leaf, pred_contrib, data_has_header, is_reshape, pred_parameter)\u001b[0m\n\u001b[1;32m   1782\u001b[0m         \u001b[0;32mif\u001b[0m \u001b[0mnum_iteration\u001b[0m \u001b[0;34m<=\u001b[0m \u001b[0;36m0\u001b[0m\u001b[0;34m:\u001b[0m\u001b[0;34m\u001b[0m\u001b[0m\n\u001b[1;32m   1783\u001b[0m             \u001b[0mnum_iteration\u001b[0m \u001b[0;34m=\u001b[0m \u001b[0mself\u001b[0m\u001b[0;34m.\u001b[0m\u001b[0mbest_iteration\u001b[0m\u001b[0;34m\u001b[0m\u001b[0m\n\u001b[0;32m-> 1784\u001b[0;31m         \u001b[0;32mreturn\u001b[0m \u001b[0mpredictor\u001b[0m\u001b[0;34m.\u001b[0m\u001b[0mpredict\u001b[0m\u001b[0;34m(\u001b[0m\u001b[0mdata\u001b[0m\u001b[0;34m,\u001b[0m \u001b[0mnum_iteration\u001b[0m\u001b[0;34m,\u001b[0m \u001b[0mraw_score\u001b[0m\u001b[0;34m,\u001b[0m \u001b[0mpred_leaf\u001b[0m\u001b[0;34m,\u001b[0m \u001b[0mpred_contrib\u001b[0m\u001b[0;34m,\u001b[0m \u001b[0mdata_has_header\u001b[0m\u001b[0;34m,\u001b[0m \u001b[0mis_reshape\u001b[0m\u001b[0;34m)\u001b[0m\u001b[0;34m\u001b[0m\u001b[0m\n\u001b[0m\u001b[1;32m   1785\u001b[0m \u001b[0;34m\u001b[0m\u001b[0m\n\u001b[1;32m   1786\u001b[0m     \u001b[0;32mdef\u001b[0m \u001b[0mget_leaf_output\u001b[0m\u001b[0;34m(\u001b[0m\u001b[0mself\u001b[0m\u001b[0;34m,\u001b[0m \u001b[0mtree_id\u001b[0m\u001b[0;34m,\u001b[0m \u001b[0mleaf_id\u001b[0m\u001b[0;34m)\u001b[0m\u001b[0;34m:\u001b[0m\u001b[0;34m\u001b[0m\u001b[0m\n",
      "\u001b[0;32m~/anaconda3/lib/python3.6/site-packages/lightgbm/basic.py\u001b[0m in \u001b[0;36mpredict\u001b[0;34m(self, data, num_iteration, raw_score, pred_leaf, pred_contrib, data_has_header, is_reshape)\u001b[0m\n\u001b[1;32m    435\u001b[0m         \u001b[0;32melif\u001b[0m \u001b[0misinstance\u001b[0m\u001b[0;34m(\u001b[0m\u001b[0mdata\u001b[0m\u001b[0;34m,\u001b[0m \u001b[0mnp\u001b[0m\u001b[0;34m.\u001b[0m\u001b[0mndarray\u001b[0m\u001b[0;34m)\u001b[0m\u001b[0;34m:\u001b[0m\u001b[0;34m\u001b[0m\u001b[0m\n\u001b[1;32m    436\u001b[0m             preds, nrow = self.__pred_for_np2d(data, num_iteration,\n\u001b[0;32m--> 437\u001b[0;31m                                                predict_type)\n\u001b[0m\u001b[1;32m    438\u001b[0m         \u001b[0;32melif\u001b[0m \u001b[0misinstance\u001b[0m\u001b[0;34m(\u001b[0m\u001b[0mdata\u001b[0m\u001b[0;34m,\u001b[0m \u001b[0mlist\u001b[0m\u001b[0;34m)\u001b[0m\u001b[0;34m:\u001b[0m\u001b[0;34m\u001b[0m\u001b[0m\n\u001b[1;32m    439\u001b[0m             \u001b[0;32mtry\u001b[0m\u001b[0;34m:\u001b[0m\u001b[0;34m\u001b[0m\u001b[0m\n",
      "\u001b[0;32m~/anaconda3/lib/python3.6/site-packages/lightgbm/basic.py\u001b[0m in \u001b[0;36m__pred_for_np2d\u001b[0;34m(self, mat, num_iteration, predict_type)\u001b[0m\n\u001b[1;32m    502\u001b[0m             \u001b[0mc_str\u001b[0m\u001b[0;34m(\u001b[0m\u001b[0mself\u001b[0m\u001b[0;34m.\u001b[0m\u001b[0mpred_parameter\u001b[0m\u001b[0;34m)\u001b[0m\u001b[0;34m,\u001b[0m\u001b[0;34m\u001b[0m\u001b[0m\n\u001b[1;32m    503\u001b[0m             \u001b[0mctypes\u001b[0m\u001b[0;34m.\u001b[0m\u001b[0mbyref\u001b[0m\u001b[0;34m(\u001b[0m\u001b[0mout_num_preds\u001b[0m\u001b[0;34m)\u001b[0m\u001b[0;34m,\u001b[0m\u001b[0;34m\u001b[0m\u001b[0m\n\u001b[0;32m--> 504\u001b[0;31m             preds.ctypes.data_as(ctypes.POINTER(ctypes.c_double))))\n\u001b[0m\u001b[1;32m    505\u001b[0m         \u001b[0;32mif\u001b[0m \u001b[0mn_preds\u001b[0m \u001b[0;34m!=\u001b[0m \u001b[0mout_num_preds\u001b[0m\u001b[0;34m.\u001b[0m\u001b[0mvalue\u001b[0m\u001b[0;34m:\u001b[0m\u001b[0;34m\u001b[0m\u001b[0m\n\u001b[1;32m    506\u001b[0m             \u001b[0;32mraise\u001b[0m \u001b[0mValueError\u001b[0m\u001b[0;34m(\u001b[0m\u001b[0;34m\"Wrong length for predict results\"\u001b[0m\u001b[0;34m)\u001b[0m\u001b[0;34m\u001b[0m\u001b[0m\n",
      "\u001b[0;31mKeyboardInterrupt\u001b[0m: "
     ]
    }
   ],
   "source": [
    "scores = []\n",
    "for f in ['minutes', 'seconds', 'ip_device_os', 'ip_device_os_app',\n",
    "       'ip_device_os_app_channel']:\n",
    "    feats2 = feats + [f]\n",
    "    \n",
    "    model = lgb.LGBMClassifier(n_estimators=300, max_depth=4, subsample=0.7, colsample_bytree=0.7, colsample_bylevel=0.7,\n",
    "                               scale_pos_weight=9, \n",
    "                           num_leaves=15, n_jobs=16)\n",
    "    model.fit( tr[feats2], tr['is_attributed'], eval_set=[(val[feats2], val['is_attributed'])], eval_metric='auc', \n",
    "          verbose=10, early_stopping_rounds=100,)\n",
    "    \n",
    "    scores.append(roc_auc_score(val['is_attributed'], model.predict_proba(val[feats2])[:,1]))"
   ]
  },
  {
   "cell_type": "code",
   "execution_count": 15,
   "metadata": {
    "collapsed": true
   },
   "outputs": [],
   "source": [
    "from sklearn.base import BaseEstimator, TransformerMixin\n",
    "class TargetEncoder(BaseEstimator, TransformerMixin):\n",
    "    \"\"\"\n",
    "    A utlity class to help encode categorical variables using different methods.\n",
    "    \n",
    "    Inputs:\n",
    "    cols: (List or str) Can be either a string or list of strings with column names\n",
    "    targetcol: (str) Target column to encode column/group of columns with\n",
    "    thresh: (int) Minimum count of grouping to encode (Acts as smoothing). Currently not implemented TODO\n",
    "    func: (str or callable) Function to be applied on column/ group of columns to encode. \n",
    "          If str is provided, it should be a attribute of pandas Series\n",
    "    cname: (str) Column name for new string\n",
    "    func_kwargs: (dict) Additional arguments to be passed to function \n",
    "    add_to_orig: (bool) Whether to return dataframe with added feature or just the feature as series\n",
    "    \n",
    "    Output:\n",
    "    pandas DataFrame/Series\n",
    "    \n",
    "    \"\"\"\n",
    "    def __init__(self, cols=None, targetcol=None, cname=None, thresh=0, func=np.mean,  add_to_orig=False,                              func_kwargs={}):\n",
    "        self.cols = cols #Can be either a string or list of strings with column names\n",
    "        self.targetcol = targetcol #Target column to encode column/group of columns with\n",
    "        self.thresh = thresh  #Minimum count of grouping to encode (Acts as smoothing)\n",
    "        self.func = func #Function to be applied on column/ group of columns to encode \n",
    "        self.add_to_orig = add_to_orig #Whether return a dataframe with added feature or just a series of feature\n",
    "        self.cname = cname #Column to new feature generated\n",
    "        self.func_kwargs = func_kwargs  #Additional key word arguments to be applied to func\n",
    "    \n",
    "    #@numba.jit        \n",
    "    def fit(self, X, y=None):\n",
    "            \n",
    "        if isinstance(self.func, str):\n",
    "            if hasattr(pd.Series, self.func):\n",
    "                #print(\"here\")\n",
    "                vals = getattr(X.groupby(self.cols)[self.targetcol], self.func)\n",
    "                self.dictmap = vals(**self.func_kwargs)\n",
    "                \n",
    "        else:\n",
    "            self.dictmap = X.groupby(self.cols)[self.targetcol].apply(lambda x: self.func(x, **self.func_kwargs))\n",
    "            \n",
    "        if self.cname:\n",
    "            self.dictmap.name = self.cname\n",
    "        else:\n",
    "            cname = ''\n",
    "            cname = [cname + '_' +str(col) for col in self.cols]\n",
    "            self.cname = '_'.join(cname) + \"_\" + str(self.func)\n",
    "            self.dictmap.name = self.cname\n",
    "            \n",
    "        #print(self.cname)\n",
    "        self.dictmap = self.dictmap\n",
    "        return self\n",
    "    \n",
    "    #@numba.jit\n",
    "    def transform(self, X, y=None):\n",
    "        if isinstance(X, pd.DataFrame):\n",
    "            X_transformed = X[self.cols]\n",
    "            \n",
    "            X_transformed = X_transformed.join(self.dictmap, on=self.cols, how='left')[self.cname]\n",
    "\n",
    "            if self.add_to_orig:\n",
    "                return pd.concat([X, X_transformed], axis=1, copy=False)\n",
    "            else:\n",
    "                return X_transformed.values\n",
    "\n",
    "        else:\n",
    "            raise TypeError(\"Input should be a pandas DataFrame\")"
   ]
  },
  {
   "cell_type": "code",
   "execution_count": 16,
   "metadata": {},
   "outputs": [
    {
     "name": "stderr",
     "output_type": "stream",
     "text": [
      "/home/mohsin/anaconda3/lib/python3.6/site-packages/ipykernel_launcher.py:3: SettingWithCopyWarning: \n",
      "A value is trying to be set on a copy of a slice from a DataFrame.\n",
      "Try using .loc[row_indexer,col_indexer] = value instead\n",
      "\n",
      "See the caveats in the documentation: http://pandas.pydata.org/pandas-docs/stable/indexing.html#indexing-view-versus-copy\n",
      "  This is separate from the ipykernel package so we can avoid doing imports until\n",
      "/home/mohsin/anaconda3/lib/python3.6/site-packages/ipykernel_launcher.py:4: SettingWithCopyWarning: \n",
      "A value is trying to be set on a copy of a slice from a DataFrame.\n",
      "Try using .loc[row_indexer,col_indexer] = value instead\n",
      "\n",
      "See the caveats in the documentation: http://pandas.pydata.org/pandas-docs/stable/indexing.html#indexing-view-versus-copy\n",
      "  after removing the cwd from sys.path.\n"
     ]
    }
   ],
   "source": [
    "#Add mean feature\n",
    "app_mean = TargetEncoder(cols=['app'],  targetcol='is_attributed', func='mean')\n",
    "tr['app_mean'] = app_mean.fit_transform(tr[['app', 'is_attributed']])\n",
    "val['app_mean'] = app_mean.transform(val[['app', 'is_attributed']])"
   ]
  },
  {
   "cell_type": "code",
   "execution_count": 17,
   "metadata": {},
   "outputs": [
    {
     "data": {
      "image/png": "[encoded data removed]",
      "text/plain": [
       "<matplotlib.figure.Figure at 0x7f811b62d2b0>"
      ]
     },
     "metadata": {},
     "output_type": "display_data"
    }
   ],
   "source": [
    "#plot_feature(tr, 'app_mean')"
   ]
  },
  {
   "cell_type": "code",
   "execution_count": 18,
   "metadata": {},
   "outputs": [
    {
     "name": "stdout",
     "output_type": "stream",
     "text": [
      "Training until validation scores don't improve for 100 rounds.\n",
      "[10]\tvalid_0's auc: 0.954145\n",
      "[20]\tvalid_0's auc: 0.955253\n",
      "[30]\tvalid_0's auc: 0.956428\n",
      "[40]\tvalid_0's auc: 0.959169\n",
      "[50]\tvalid_0's auc: 0.96126\n",
      "[60]\tvalid_0's auc: 0.962076\n",
      "[70]\tvalid_0's auc: 0.96337\n",
      "[80]\tvalid_0's auc: 0.964231\n",
      "[90]\tvalid_0's auc: 0.96486\n",
      "[100]\tvalid_0's auc: 0.965403\n",
      "[110]\tvalid_0's auc: 0.965837\n",
      "[120]\tvalid_0's auc: 0.966076\n",
      "[130]\tvalid_0's auc: 0.966243\n",
      "[140]\tvalid_0's auc: 0.966364\n",
      "[150]\tvalid_0's auc: 0.966543\n",
      "[160]\tvalid_0's auc: 0.966698\n",
      "[170]\tvalid_0's auc: 0.966768\n",
      "[180]\tvalid_0's auc: 0.966859\n",
      "[190]\tvalid_0's auc: 0.966928\n",
      "[200]\tvalid_0's auc: 0.967407\n",
      "[210]\tvalid_0's auc: 0.967482\n",
      "[220]\tvalid_0's auc: 0.96761\n",
      "[230]\tvalid_0's auc: 0.967675\n",
      "[240]\tvalid_0's auc: 0.967732\n",
      "[250]\tvalid_0's auc: 0.967807\n",
      "[260]\tvalid_0's auc: 0.967916\n",
      "[270]\tvalid_0's auc: 0.967983\n",
      "[280]\tvalid_0's auc: 0.968031\n",
      "[290]\tvalid_0's auc: 0.968121\n",
      "[300]\tvalid_0's auc: 0.968123\n",
      "Did not meet early stopping. Best iteration is:\n",
      "[294]\tvalid_0's auc: 0.968133\n"
     ]
    },
    {
     "data": {
      "text/plain": [
       "LGBMClassifier(boosting_type='gbdt', class_weight=None, colsample_bylevel=0.7,\n",
       "        colsample_bytree=0.7, learning_rate=0.1, max_depth=4,\n",
       "        min_child_samples=20, min_child_weight=0.001, min_split_gain=0.0,\n",
       "        n_estimators=300, n_jobs=-1, num_leaves=15, objective=None,\n",
       "        random_state=None, reg_alpha=0.0, reg_lambda=0.0,\n",
       "        scale_pos_weight=9, silent=True, subsample=0.7,\n",
       "        subsample_for_bin=200000, subsample_freq=1)"
      ]
     },
     "execution_count": 18,
     "metadata": {},
     "output_type": "execute_result"
    }
   ],
   "source": [
    "feats2 = feats + ['app_mean']\n",
    "model = lgb.LGBMClassifier(n_estimators=300, max_depth=4, subsample=0.7, colsample_bytree=0.7, colsample_bylevel=0.7,\n",
    "                           scale_pos_weight=9, \n",
    "                       num_leaves=15, n_jobs=-1)\n",
    "model.fit( tr[feats2], tr['is_attributed'], eval_set=[(val[feats2], val['is_attributed'])], eval_metric='auc', \n",
    "      verbose=10, early_stopping_rounds=100,)\n"
   ]
  },
  {
   "cell_type": "code",
   "execution_count": 19,
   "metadata": {},
   "outputs": [
    {
     "name": "stderr",
     "output_type": "stream",
     "text": [
      "/home/mohsin/anaconda3/lib/python3.6/site-packages/ipykernel_launcher.py:3: SettingWithCopyWarning: \n",
      "A value is trying to be set on a copy of a slice from a DataFrame.\n",
      "Try using .loc[row_indexer,col_indexer] = value instead\n",
      "\n",
      "See the caveats in the documentation: http://pandas.pydata.org/pandas-docs/stable/indexing.html#indexing-view-versus-copy\n",
      "  This is separate from the ipykernel package so we can avoid doing imports until\n",
      "/home/mohsin/anaconda3/lib/python3.6/site-packages/ipykernel_launcher.py:4: SettingWithCopyWarning: \n",
      "A value is trying to be set on a copy of a slice from a DataFrame.\n",
      "Try using .loc[row_indexer,col_indexer] = value instead\n",
      "\n",
      "See the caveats in the documentation: http://pandas.pydata.org/pandas-docs/stable/indexing.html#indexing-view-versus-copy\n",
      "  after removing the cwd from sys.path.\n"
     ]
    }
   ],
   "source": [
    "#Add channel feature\n",
    "channel_mean = TargetEncoder(cols=['channel'],  targetcol='is_attributed', func='mean')\n",
    "tr['channel_mean'] = channel_mean.fit_transform(tr[['channel', 'is_attributed']])\n",
    "val['channel_mean'] = channel_mean.transform(val[['channel', 'is_attributed']])"
   ]
  },
  {
   "cell_type": "code",
   "execution_count": 20,
   "metadata": {},
   "outputs": [
    {
     "name": "stdout",
     "output_type": "stream",
     "text": [
      "Training until validation scores don't improve for 100 rounds.\n",
      "[10]\tvalid_0's auc: 0.958686\n",
      "[20]\tvalid_0's auc: 0.960299\n",
      "[30]\tvalid_0's auc: 0.961447\n",
      "[40]\tvalid_0's auc: 0.961519\n",
      "[50]\tvalid_0's auc: 0.963489\n",
      "[60]\tvalid_0's auc: 0.964334\n",
      "[70]\tvalid_0's auc: 0.965684\n",
      "[80]\tvalid_0's auc: 0.96641\n",
      "[90]\tvalid_0's auc: 0.967059\n",
      "[100]\tvalid_0's auc: 0.96746\n",
      "[110]\tvalid_0's auc: 0.967703\n",
      "[120]\tvalid_0's auc: 0.967867\n",
      "[130]\tvalid_0's auc: 0.968056\n",
      "[140]\tvalid_0's auc: 0.968219\n",
      "[150]\tvalid_0's auc: 0.968377\n",
      "[160]\tvalid_0's auc: 0.968478\n",
      "[170]\tvalid_0's auc: 0.968547\n",
      "[180]\tvalid_0's auc: 0.968591\n",
      "[190]\tvalid_0's auc: 0.968688\n",
      "[200]\tvalid_0's auc: 0.968793\n",
      "[210]\tvalid_0's auc: 0.968844\n",
      "[220]\tvalid_0's auc: 0.968969\n",
      "[230]\tvalid_0's auc: 0.969033\n",
      "[240]\tvalid_0's auc: 0.969109\n",
      "[250]\tvalid_0's auc: 0.969219\n",
      "[260]\tvalid_0's auc: 0.969268\n",
      "[270]\tvalid_0's auc: 0.969281\n",
      "[280]\tvalid_0's auc: 0.969322\n",
      "[290]\tvalid_0's auc: 0.969359\n",
      "[300]\tvalid_0's auc: 0.969402\n",
      "Did not meet early stopping. Best iteration is:\n",
      "[300]\tvalid_0's auc: 0.969402\n"
     ]
    },
    {
     "data": {
      "text/plain": [
       "LGBMClassifier(boosting_type='gbdt', class_weight=None, colsample_bylevel=0.7,\n",
       "        colsample_bytree=0.7, learning_rate=0.1, max_depth=4,\n",
       "        min_child_samples=500, min_child_weight=0.001, min_split_gain=0.0,\n",
       "        n_estimators=300, n_jobs=-1, num_leaves=15, objective=None,\n",
       "        random_state=None, reg_alpha=0.0, reg_lambda=0.0,\n",
       "        scale_pos_weight=9, silent=True, subsample=0.7,\n",
       "        subsample_for_bin=200000, subsample_freq=1)"
      ]
     },
     "execution_count": 20,
     "metadata": {},
     "output_type": "execute_result"
    }
   ],
   "source": [
    "feats2 = feats + ['app_mean', 'channel_mean']\n",
    "model = lgb.LGBMClassifier(n_estimators=300, max_depth=4, subsample=0.7, colsample_bytree=0.7, colsample_bylevel=0.7,\n",
    "                           scale_pos_weight=9, min_child_samples=500,\n",
    "                       num_leaves=15, n_jobs=-1)\n",
    "model.fit( tr[feats2], tr['is_attributed'], eval_set=[(val[feats2], val['is_attributed'])], eval_metric='auc', \n",
    "      verbose=10, early_stopping_rounds=100,)"
   ]
  },
  {
   "cell_type": "code",
   "execution_count": null,
   "metadata": {},
   "outputs": [
    {
     "name": "stderr",
     "output_type": "stream",
     "text": [
      "/home/mohsin/anaconda3/lib/python3.6/site-packages/ipykernel_launcher.py:3: SettingWithCopyWarning: \n",
      "A value is trying to be set on a copy of a slice from a DataFrame.\n",
      "Try using .loc[row_indexer,col_indexer] = value instead\n",
      "\n",
      "See the caveats in the documentation: http://pandas.pydata.org/pandas-docs/stable/indexing.html#indexing-view-versus-copy\n",
      "  This is separate from the ipykernel package so we can avoid doing imports until\n",
      "/home/mohsin/anaconda3/lib/python3.6/site-packages/ipykernel_launcher.py:4: SettingWithCopyWarning: \n",
      "A value is trying to be set on a copy of a slice from a DataFrame.\n",
      "Try using .loc[row_indexer,col_indexer] = value instead\n",
      "\n",
      "See the caveats in the documentation: http://pandas.pydata.org/pandas-docs/stable/indexing.html#indexing-view-versus-copy\n",
      "  after removing the cwd from sys.path.\n"
     ]
    }
   ],
   "source": [
    "#Add channel feature\n",
    "ip_count = TargetEncoder(cols=['ip'],  targetcol='is_attributed', func='count')\n",
    "tr['ip_count'] = ip_count.fit_transform(tr[['ip', 'is_attributed']])\n",
    "val['ip_count'] = ip_count.transform(val[['ip', 'is_attributed']])"
   ]
  },
  {
   "cell_type": "code",
   "execution_count": null,
   "metadata": {},
   "outputs": [
    {
     "name": "stdout",
     "output_type": "stream",
     "text": [
      "Training until validation scores don't improve for 100 rounds.\n",
      "[10]\tvalid_0's auc: 0.958081\n",
      "[20]\tvalid_0's auc: 0.961951\n",
      "[30]\tvalid_0's auc: 0.963255\n",
      "[40]\tvalid_0's auc: 0.965941\n",
      "[50]\tvalid_0's auc: 0.967342\n",
      "[60]\tvalid_0's auc: 0.968394\n"
     ]
    }
   ],
   "source": [
    "feats2 = feats + ['app_mean', 'channel_mean', 'ip_count']\n",
    "model = lgb.LGBMClassifier(n_estimators=300, max_depth=4, subsample=0.7, colsample_bytree=0.7, colsample_bylevel=0.7,\n",
    "                           scale_pos_weight=9, min_child_samples=500,\n",
    "                       num_leaves=15, n_jobs=-1)\n",
    "model.fit( tr[feats2], tr['is_attributed'], eval_set=[(val[feats2], val['is_attributed'])], eval_metric='auc', \n",
    "      verbose=10, early_stopping_rounds=100,)"
   ]
  },
  {
   "cell_type": "code",
   "execution_count": null,
   "metadata": {},
   "outputs": [],
   "source": [
    "app_count = TargetEncoder(cols=['app'],  targetcol='is_attributed', func='count')\n",
    "tr['app_count'] = app_count.fit_transform(tr[['app', 'is_attributed']])\n",
    "val['app_count'] = app_count.transform(val[['app', 'is_attributed']])"
   ]
  },
  {
   "cell_type": "code",
   "execution_count": null,
   "metadata": {},
   "outputs": [],
   "source": [
    "feats2 = feats + ['app_mean', 'channel_mean', 'ip_count', 'app_count']\n",
    "model = lgb.LGBMClassifier(n_estimators=300, max_depth=4, subsample=0.7, colsample_bytree=0.7, colsample_bylevel=0.7,\n",
    "                           scale_pos_weight=9, min_child_samples=500,\n",
    "                       num_leaves=15, n_jobs=-1)\n",
    "model.fit( tr[feats2], tr['is_attributed'], eval_set=[(val[feats2], val['is_attributed'])], eval_metric='auc', \n",
    "      verbose=10, early_stopping_rounds=100,)"
   ]
  },
  {
   "cell_type": "code",
   "execution_count": null,
   "metadata": {},
   "outputs": [],
   "source": [
    "#High Pulse feature\n",
    "ip_dayhourmin_count = TargetEncoder(cols=['ip', 'dayofweek', 'hourofday', 'epoch_minute'],  targetcol='is_attributed', func='count')\n",
    "tr['ip_dayhourmin_count'] = ip_dayhourmin_count.fit_transform(tr[['ip', 'dayofweek', 'hourofday', 'epoch_minute', 'is_attributed']])\n",
    "val['ip_dayhourmin_count'] = ip_dayhourmin_count.transform(val[['ip', 'dayofweek', 'hourofday', 'epoch_minute', 'is_attributed']])"
   ]
  },
  {
   "cell_type": "code",
   "execution_count": null,
   "metadata": {},
   "outputs": [],
   "source": [
    "feats2 = feats + ['app_mean', 'channel_mean', 'ip_count', 'app_count', 'ip_dayhourmin_count']\n",
    "model = lgb.LGBMClassifier(n_estimators=300, max_depth=4, subsample=0.7, colsample_bytree=0.7, colsample_bylevel=0.7,\n",
    "                           scale_pos_weight=9, min_child_samples=500,\n",
    "                       num_leaves=15, n_jobs=-1)\n",
    "model.fit( tr[feats2], tr['is_attributed'], eval_set=[(val[feats2], val['is_attributed'])], eval_metric='auc', \n",
    "      verbose=10, early_stopping_rounds=100,)"
   ]
  },
  {
   "cell_type": "code",
   "execution_count": null,
   "metadata": {},
   "outputs": [],
   "source": [
    "#Ip device os clicks\n",
    "ip_device_os_count = TargetEncoder(cols=['ip', 'device', 'os'],  targetcol='is_attributed', func='count')\n",
    "tr['ip_device_os_count'] = ip_device_os_count.fit_transform(tr[['ip', 'device', 'os', 'is_attributed']])\n",
    "val['ip_device_os_count'] = ip_device_os_count.transform(val[['ip', 'device', 'os', 'is_attributed']])"
   ]
  },
  {
   "cell_type": "code",
   "execution_count": null,
   "metadata": {},
   "outputs": [],
   "source": [
    "feats2 = feats + ['app_mean', 'channel_mean', 'ip_count', 'app_count', 'ip_device_os_count']\n",
    "model = lgb.LGBMClassifier(n_estimators=300, max_depth=4, subsample=0.7, colsample_bytree=0.7, colsample_bylevel=0.7,\n",
    "                           scale_pos_weight=9, min_child_samples=500,\n",
    "                       num_leaves=15, n_jobs=-1)\n",
    "model.fit( tr[feats2], tr['is_attributed'], eval_set=[(val[feats2], val['is_attributed'])], eval_metric='auc', \n",
    "      verbose=10, early_stopping_rounds=100,)"
   ]
  },
  {
   "cell_type": "code",
   "execution_count": null,
   "metadata": {},
   "outputs": [],
   "source": [
    "#Mid Pulse feature\n",
    "ip_dayhour_count = TargetEncoder(cols=['ip', 'dayofweek', 'hourofday'],  targetcol='is_attributed', func='count')\n",
    "tr['ip_dayhour_count'] = ip_dayhour_count.fit_transform(tr[['ip', 'dayofweek', 'hourofday', 'is_attributed']])\n",
    "val['ip_dayhour_count'] = ip_dayhour_count.transform(val[['ip', 'dayofweek', 'hourofday', 'is_attributed']])"
   ]
  },
  {
   "cell_type": "code",
   "execution_count": null,
   "metadata": {},
   "outputs": [],
   "source": [
    "feats2 = feats + ['app_mean', 'channel_mean', 'ip_count', 'app_count', 'ip_device_os_count', 'ip_dayhour_count']\n",
    "model = lgb.LGBMClassifier(n_estimators=300, max_depth=4, subsample=0.7, colsample_bytree=0.7, colsample_bylevel=1.0,\n",
    "                           scale_pos_weight=9, min_child_samples=500,\n",
    "                       num_leaves=15, n_jobs=-1)\n",
    "model.fit( tr[feats2], tr['is_attributed'], eval_set=[(val[feats2], val['is_attributed'])], eval_metric='auc', \n",
    "      verbose=10, early_stopping_rounds=100,)"
   ]
  },
  {
   "cell_type": "code",
   "execution_count": null,
   "metadata": {},
   "outputs": [],
   "source": [
    "#Mid Pulse feature\n",
    "device_os_count = TargetEncoder(cols=['device', 'os'],  targetcol='is_attributed', func='count')\n",
    "tr['device_os_count'] = device_os_count.fit_transform(tr[['device', 'os', 'is_attributed']])\n",
    "val['device_os_count'] = device_os_count.transform(val[['device', 'os', 'is_attributed']])"
   ]
  },
  {
   "cell_type": "code",
   "execution_count": null,
   "metadata": {},
   "outputs": [],
   "source": [
    "feats2 = feats + ['app_mean', 'channel_mean', 'ip_count', 'app_count', 'ip_device_os_count', 'device_os_count']\n",
    "model = lgb.LGBMClassifier(n_estimators=300, max_depth=4, subsample=0.7, colsample_bytree=0.7, colsample_bylevel=0.7,\n",
    "                           scale_pos_weight=9, min_child_samples=500,\n",
    "                       num_leaves=15, n_jobs=-1)\n",
    "model.fit( tr[feats2], tr['is_attributed'], eval_set=[(val[feats2], val['is_attributed'])], eval_metric='auc', \n",
    "      verbose=10, early_stopping_rounds=100,)"
   ]
  },
  {
   "cell_type": "code",
   "execution_count": null,
   "metadata": {},
   "outputs": [],
   "source": [
    "#Mid Pulse feature\n",
    "channel_count = TargetEncoder(cols=['channel'],  targetcol='is_attributed', func='count')\n",
    "tr['channel_count'] = channel_count.fit_transform(tr[['channel', 'is_attributed']])\n",
    "val['channel_count'] = channel_count.transform(val[['channel', 'is_attributed']])"
   ]
  },
  {
   "cell_type": "code",
   "execution_count": null,
   "metadata": {},
   "outputs": [],
   "source": [
    "feats2 = feats + ['app_mean', 'channel_mean', 'ip_count', 'app_count', 'ip_device_os_count', 'device_os_count', 'channel_count']\n",
    "model = lgb.LGBMClassifier(n_estimators=300, max_depth=4, subsample=0.7, colsample_bytree=0.7, colsample_bylevel=0.7,\n",
    "                           scale_pos_weight=9, min_child_samples=500,\n",
    "                       num_leaves=15, n_jobs=-1)\n",
    "model.fit( tr[feats2], tr['is_attributed'], eval_set=[(val[feats2], val['is_attributed'])], eval_metric='auc', \n",
    "      verbose=10, early_stopping_rounds=100,)"
   ]
  },
  {
   "cell_type": "code",
   "execution_count": null,
   "metadata": {},
   "outputs": [],
   "source": [
    "ip_mean = TargetEncoder(cols=['ip'],  targetcol='is_attributed', func='mean')\n",
    "tr['ip_mean'] = ip_mean.fit_transform(tr[['ip', 'is_attributed']])\n",
    "val['ip_mean'] = ip_mean.transform(val[['ip', 'is_attributed']])"
   ]
  },
  {
   "cell_type": "code",
   "execution_count": null,
   "metadata": {},
   "outputs": [],
   "source": [
    "feats2 = feats + ['app_mean', 'channel_mean', 'ip_count', 'app_count', 'ip_device_os_count', 'device_os_count',\n",
    "                  'channel_count', 'ip_mean']\n",
    "model = lgb.LGBMClassifier(n_estimators=300, max_depth=4, subsample=0.7, colsample_bytree=0.7, colsample_bylevel=0.7,\n",
    "                           scale_pos_weight=9, min_child_samples=500,\n",
    "                       num_leaves=15, n_jobs=-1)\n",
    "model.fit( tr[feats2], tr['is_attributed'], eval_set=[(val[feats2], val['is_attributed'])], eval_metric='auc', \n",
    "      verbose=10, early_stopping_rounds=100,)"
   ]
  },
  {
   "cell_type": "code",
   "execution_count": null,
   "metadata": {},
   "outputs": [],
   "source": [
    "gc.collect()"
   ]
  },
  {
   "cell_type": "code",
   "execution_count": null,
   "metadata": {},
   "outputs": [],
   "source": [
    "device_mean = TargetEncoder(cols=['device'],  targetcol='is_attributed', func='mean')\n",
    "tr['device_mean'] = device_mean.fit_transform(tr[['device', 'is_attributed']])\n",
    "val['device_mean'] = device_mean.transform(val[['device', 'is_attributed']])"
   ]
  },
  {
   "cell_type": "code",
   "execution_count": null,
   "metadata": {},
   "outputs": [],
   "source": [
    "feats2 = feats + ['app_mean', 'channel_mean', 'ip_count', 'app_count', 'ip_device_os_count', 'device_os_count',\n",
    "                  'channel_count', 'device_mean']\n",
    "model = lgb.LGBMClassifier(n_estimators=300, max_depth=4, subsample=0.7, colsample_bytree=0.7, colsample_bylevel=0.7,\n",
    "                           scale_pos_weight=9, min_child_samples=500,\n",
    "                       num_leaves=15, n_jobs=-1)\n",
    "model.fit( tr[feats2], tr['is_attributed'], eval_set=[(val[feats2], val['is_attributed'])], eval_metric='auc', \n",
    "      verbose=10, early_stopping_rounds=100,)"
   ]
  },
  {
   "cell_type": "code",
   "execution_count": null,
   "metadata": {},
   "outputs": [],
   "source": [
    "os_mean = TargetEncoder(cols=['os'],  targetcol='is_attributed', func='mean')\n",
    "tr['os_mean'] = os_mean.fit_transform(tr[['os', 'is_attributed']])\n",
    "val['os_mean'] = os_mean.transform(val[['os', 'is_attributed']])"
   ]
  },
  {
   "cell_type": "code",
   "execution_count": null,
   "metadata": {},
   "outputs": [],
   "source": [
    "feats2 = feats + ['app_mean', 'channel_mean', 'ip_count', 'app_count', 'ip_device_os_count', 'device_os_count',\n",
    "                  'channel_count', 'os_mean']\n",
    "model = lgb.LGBMClassifier(n_estimators=300, max_depth=4, subsample=0.7, colsample_bytree=0.7, colsample_bylevel=0.7,\n",
    "                           scale_pos_weight=9, min_child_samples=500,\n",
    "                       num_leaves=15, n_jobs=-1)\n",
    "model.fit( tr[feats2], tr['is_attributed'], eval_set=[(val[feats2], val['is_attributed'])], eval_metric='auc', \n",
    "      verbose=10, early_stopping_rounds=100,)"
   ]
  },
  {
   "cell_type": "code",
   "execution_count": null,
   "metadata": {},
   "outputs": [],
   "source": [
    "#unique device os on ip\n",
    "ip_unq_ip_device_os = TargetEncoder(cols=['ip'],  targetcol='ip_device_os', func='nunique')\n",
    "tr['ip_unq_ip_device_os'] = ip_unq_ip_device_os.fit_transform(tr[['ip', 'ip_device_os']])\n",
    "val['ip_unq_ip_device_os'] = ip_unq_ip_device_os.transform(val[['ip', 'ip_device_os']])"
   ]
  },
  {
   "cell_type": "code",
   "execution_count": null,
   "metadata": {},
   "outputs": [],
   "source": [
    "feats2 = feats + ['app_mean', 'channel_mean', 'ip_count', 'app_count', 'ip_device_os_count', 'device_os_count',\n",
    "                  'channel_count', 'os_mean', 'ip_unq_ip_device_os']\n",
    "model = lgb.LGBMClassifier(n_estimators=300, max_depth=4, subsample=0.7, colsample_bytree=0.7, colsample_bylevel=0.7,\n",
    "                           scale_pos_weight=9, min_child_samples=500,\n",
    "                       num_leaves=15, n_jobs=-1)\n",
    "model.fit( tr[feats2], tr['is_attributed'], eval_set=[(val[feats2], val['is_attributed'])], eval_metric='auc', \n",
    "      verbose=10, early_stopping_rounds=100,)"
   ]
  },
  {
   "cell_type": "code",
   "execution_count": null,
   "metadata": {},
   "outputs": [],
   "source": [
    "tr['user_click_ratio'] = tr['ip_unq_ip_device_os']/tr['ip_count']\n",
    "val['user_click_ratio'] = val['ip_unq_ip_device_os']/val['ip_count']"
   ]
  },
  {
   "cell_type": "code",
   "execution_count": null,
   "metadata": {},
   "outputs": [],
   "source": [
    "feats2 = feats + ['app_mean', 'channel_mean', 'ip_count', 'app_count', 'ip_device_os_count', 'device_os_count',\n",
    "                  'channel_count', 'os_mean', 'ip_unq_ip_device_os', 'user_click_ratio']\n",
    "model = lgb.LGBMClassifier(n_estimators=300, max_depth=4, subsample=0.7, colsample_bytree=0.7, colsample_bylevel=0.7,\n",
    "                           scale_pos_weight=9, min_child_samples=500,\n",
    "                       num_leaves=15, n_jobs=-1)\n",
    "model.fit( tr[feats2], tr['is_attributed'], eval_set=[(val[feats2], val['is_attributed'])], eval_metric='auc', \n",
    "      verbose=10, early_stopping_rounds=100,)"
   ]
  },
  {
   "cell_type": "code",
   "execution_count": null,
   "metadata": {},
   "outputs": [],
   "source": [
    "ip_unq_app = TargetEncoder(cols=['ip'],  targetcol='app', func='nunique')\n",
    "tr['ip_unq_app'] = ip_unq_app.fit_transform(tr[['ip', 'app']])\n",
    "val['ip_unq_app'] = ip_unq_app.transform(val[['ip', 'app']])"
   ]
  },
  {
   "cell_type": "code",
   "execution_count": null,
   "metadata": {},
   "outputs": [],
   "source": [
    "tr['app_click_ratio'] = tr['ip_unq_app']/tr['ip_count']\n",
    "val['app_click_ratio'] = val['ip_unq_app']/val['ip_count']"
   ]
  },
  {
   "cell_type": "code",
   "execution_count": null,
   "metadata": {},
   "outputs": [],
   "source": [
    "feats2 = feats + ['app_mean', 'channel_mean', 'ip_count', 'app_count', 'ip_device_os_count', 'device_os_count',\n",
    "                  'channel_count', 'os_mean', 'ip_unq_ip_device_os', 'user_click_ratio', 'app_click_ratio', 'ip_unq_app']\n",
    "model = lgb.LGBMClassifier(n_estimators=300, max_depth=4, subsample=0.7, colsample_bytree=0.7, colsample_bylevel=0.7,\n",
    "                           scale_pos_weight=9, min_child_samples=500,\n",
    "                       num_leaves=15, n_jobs=-1)\n",
    "model.fit( tr[feats2], tr['is_attributed'], eval_set=[(val[feats2], val['is_attributed'])], eval_metric='auc', \n",
    "      verbose=10, early_stopping_rounds=100,)"
   ]
  },
  {
   "cell_type": "code",
   "execution_count": null,
   "metadata": {},
   "outputs": [],
   "source": [
    "ip_device_os_app_count = TargetEncoder(cols=['ip_device_os_app'],  targetcol='app', func='count')\n",
    "tr['ip_device_os_app_count'] = ip_device_os_app_count.fit_transform(tr[['ip_device_os_app', 'app']])\n",
    "val['ip_device_os_app_count'] = ip_device_os_app_count.transform(val[['ip_device_os_app', 'app']])"
   ]
  },
  {
   "cell_type": "code",
   "execution_count": null,
   "metadata": {},
   "outputs": [],
   "source": [
    "feats2 = feats + ['app_mean', 'channel_mean', 'ip_count', 'app_count', 'ip_device_os_count', 'device_os_count',\n",
    "                  'channel_count', 'os_mean', 'ip_unq_ip_device_os', 'user_click_ratio',\n",
    "                  'ip_device_os_app_count']\n",
    "model = lgb.LGBMClassifier(n_estimators=300, max_depth=4, subsample=0.7, colsample_bytree=0.7, colsample_bylevel=0.7,\n",
    "                           scale_pos_weight=9, min_child_samples=500,\n",
    "                       num_leaves=15, n_jobs=-1)\n",
    "model.fit( tr[feats2], tr['is_attributed'], eval_set=[(val[feats2], val['is_attributed'])], eval_metric='auc', \n",
    "      verbose=10, early_stopping_rounds=100,)"
   ]
  },
  {
   "cell_type": "code",
   "execution_count": null,
   "metadata": {},
   "outputs": [],
   "source": [
    "ip_device_os_app_channel_count = TargetEncoder(cols=['ip_device_os_app_channel'],  targetcol='app', func='count')\n",
    "tr['ip_device_os_app_channel_count'] = ip_device_os_app_channel_count.fit_transform(tr[['ip_device_os_app_channel', 'app']])\n",
    "val['ip_device_os_app_channel_count'] = ip_device_os_app_channel_count.transform(val[['ip_device_os_app_channel', 'app']])"
   ]
  },
  {
   "cell_type": "code",
   "execution_count": null,
   "metadata": {},
   "outputs": [],
   "source": [
    "feats2 = feats + ['app_mean', 'channel_mean', 'ip_count', 'app_count', 'ip_device_os_count', 'device_os_count',\n",
    "                  'channel_count', 'os_mean', 'ip_unq_ip_device_os', 'user_click_ratio',\n",
    "                  'ip_device_os_app_count', 'ip_device_os_app_channel_count']\n",
    "model = lgb.LGBMClassifier(n_estimators=300, max_depth=4, subsample=0.7, colsample_bytree=0.7, colsample_bylevel=0.7,\n",
    "                           scale_pos_weight=9, min_child_samples=500,\n",
    "                       num_leaves=15, n_jobs=-1)\n",
    "model.fit( tr[feats2], tr['is_attributed'], eval_set=[(val[feats2], val['is_attributed'])], eval_metric='auc', \n",
    "      verbose=10, early_stopping_rounds=100,)"
   ]
  },
  {
   "cell_type": "code",
   "execution_count": null,
   "metadata": {},
   "outputs": [],
   "source": [
    "ip_app_channel_count = TargetEncoder(cols=['ip', 'app', 'channel'],  targetcol='is_attributed', func='count')\n",
    "tr['ip_app_channel_count'] = ip_app_channel_count.fit_transform(tr[['ip', 'app', 'channel', 'is_attributed']])\n",
    "val['ip_app_channel_count'] = ip_app_channel_count.transform(val[['ip', 'app', 'channel', 'is_attributed']])"
   ]
  },
  {
   "cell_type": "code",
   "execution_count": null,
   "metadata": {},
   "outputs": [],
   "source": [
    "feats2 = feats + ['app_mean', 'channel_mean', 'ip_count', 'app_count', 'ip_device_os_count', 'device_os_count',\n",
    "                  'channel_count', 'os_mean', 'ip_unq_ip_device_os', 'user_click_ratio',\n",
    "                  'ip_device_os_app_count', 'ip_device_os_app_channel_count', 'ip_app_channel_count']\n",
    "model = lgb.LGBMClassifier(n_estimators=300, max_depth=4, subsample=0.7, colsample_bytree=0.7, colsample_bylevel=0.7,\n",
    "                           scale_pos_weight=9, min_child_samples=500,\n",
    "                       num_leaves=15, n_jobs=-1)\n",
    "model.fit( tr[feats2], tr['is_attributed'], eval_set=[(val[feats2], val['is_attributed'])], eval_metric='auc', \n",
    "      verbose=10, early_stopping_rounds=100,)"
   ]
  },
  {
   "cell_type": "code",
   "execution_count": 80,
   "metadata": {},
   "outputs": [
    {
     "name": "stderr",
     "output_type": "stream",
     "text": [
      "/home/mohsin/anaconda3/lib/python3.6/site-packages/ipykernel_launcher.py:9: SettingWithCopyWarning: \n",
      "A value is trying to be set on a copy of a slice from a DataFrame.\n",
      "Try using .loc[row_indexer,col_indexer] = value instead\n",
      "\n",
      "See the caveats in the documentation: http://pandas.pydata.org/pandas-docs/stable/indexing.html#indexing-view-versus-copy\n",
      "  if __name__ == '__main__':\n",
      "/home/mohsin/anaconda3/lib/python3.6/site-packages/ipykernel_launcher.py:10: SettingWithCopyWarning: \n",
      "A value is trying to be set on a copy of a slice from a DataFrame.\n",
      "Try using .loc[row_indexer,col_indexer] = value instead\n",
      "\n",
      "See the caveats in the documentation: http://pandas.pydata.org/pandas-docs/stable/indexing.html#indexing-view-versus-copy\n",
      "  # Remove the CWD from sys.path while we load stuff.\n",
      "/home/mohsin/anaconda3/lib/python3.6/site-packages/ipykernel_launcher.py:11: SettingWithCopyWarning: \n",
      "A value is trying to be set on a copy of a slice from a DataFrame.\n",
      "Try using .loc[row_indexer,col_indexer] = value instead\n",
      "\n",
      "See the caveats in the documentation: http://pandas.pydata.org/pandas-docs/stable/indexing.html#indexing-view-versus-copy\n",
      "  # This is added back by InteractiveShellApp.init_path()\n",
      "/home/mohsin/anaconda3/lib/python3.6/site-packages/ipykernel_launcher.py:12: SettingWithCopyWarning: \n",
      "A value is trying to be set on a copy of a slice from a DataFrame.\n",
      "Try using .loc[row_indexer,col_indexer] = value instead\n",
      "\n",
      "See the caveats in the documentation: http://pandas.pydata.org/pandas-docs/stable/indexing.html#indexing-view-versus-copy\n",
      "  if sys.path[0] == '':\n"
     ]
    }
   ],
   "source": [
    "col = ['ip_device_os']\n",
    "target = 'epoch_time'\n",
    "tot = pd.concat([tr[col + [target]], val[col + [target]]]).reset_index().sort_values(by=target)\n",
    "n = len(tr)\n",
    "\n",
    "tot['_'.join(col) + 'last_click'] = tot['epoch_time'] - tot.groupby(col)[target].shift()\n",
    "tot['_'.join(col) + 'next_click'] = tot['epoch_time'] - tot.groupby(col)[target].shift(-1)\n",
    "\n",
    "tr['_'.join(col) + 'last_click'] = tot.sort_index().loc[:n-1, '_'.join(col) + 'last_click']\n",
    "tr['_'.join(col) + 'next_click'] = tot.sort_index().loc[:n-1, '_'.join(col) +'last_click']\n",
    "val[ '_'.join(col) + 'last_click'] = tot.sort_index().loc[n:, '_'.join(col) + 'last_click']\n",
    "val['_'.join(col) + 'next_click'] = tot.sort_index().loc[n:, '_'.join(col) + 'next_click']\n",
    "\n",
    "del tot"
   ]
  },
  {
   "cell_type": "code",
   "execution_count": 81,
   "metadata": {},
   "outputs": [
    {
     "name": "stdout",
     "output_type": "stream",
     "text": [
      "Training until validation scores don't improve for 100 rounds.\n",
      "[10]\tvalid_0's auc: 0.954336\n",
      "[20]\tvalid_0's auc: 0.960643\n",
      "[30]\tvalid_0's auc: 0.963022\n",
      "[40]\tvalid_0's auc: 0.964362\n",
      "[50]\tvalid_0's auc: 0.967133\n",
      "[60]\tvalid_0's auc: 0.968799\n",
      "[70]\tvalid_0's auc: 0.970068\n",
      "[80]\tvalid_0's auc: 0.970354\n",
      "[90]\tvalid_0's auc: 0.970914\n",
      "[100]\tvalid_0's auc: 0.971503\n",
      "[110]\tvalid_0's auc: 0.971652\n",
      "[120]\tvalid_0's auc: 0.971901\n",
      "[130]\tvalid_0's auc: 0.972093\n",
      "[140]\tvalid_0's auc: 0.972267\n",
      "[150]\tvalid_0's auc: 0.972323\n",
      "[160]\tvalid_0's auc: 0.972505\n",
      "[170]\tvalid_0's auc: 0.972525\n",
      "[180]\tvalid_0's auc: 0.972532\n",
      "[190]\tvalid_0's auc: 0.972618\n",
      "[200]\tvalid_0's auc: 0.9726\n",
      "[210]\tvalid_0's auc: 0.972467\n",
      "[220]\tvalid_0's auc: 0.972486\n",
      "[230]\tvalid_0's auc: 0.972507\n",
      "[240]\tvalid_0's auc: 0.972536\n",
      "[250]\tvalid_0's auc: 0.972561\n",
      "[260]\tvalid_0's auc: 0.972621\n",
      "[270]\tvalid_0's auc: 0.972658\n",
      "[280]\tvalid_0's auc: 0.972694\n",
      "[290]\tvalid_0's auc: 0.972761\n",
      "[300]\tvalid_0's auc: 0.972765\n",
      "Did not meet early stopping. Best iteration is:\n",
      "[292]\tvalid_0's auc: 0.97278\n"
     ]
    },
    {
     "data": {
      "text/plain": [
       "LGBMClassifier(boosting_type='gbdt', class_weight=None, colsample_bylevel=0.7,\n",
       "        colsample_bytree=0.7, learning_rate=0.1, max_depth=4,\n",
       "        min_child_samples=500, min_child_weight=0.001, min_split_gain=0.0,\n",
       "        n_estimators=300, n_jobs=-1, num_leaves=15, objective=None,\n",
       "        random_state=None, reg_alpha=0.0, reg_lambda=0.0,\n",
       "        scale_pos_weight=9, silent=True, subsample=0.7,\n",
       "        subsample_for_bin=200000, subsample_freq=1)"
      ]
     },
     "execution_count": 81,
     "metadata": {},
     "output_type": "execute_result"
    }
   ],
   "source": [
    "feats2 = feats + ['app_mean', 'channel_mean', 'ip_count', 'app_count', 'ip_device_os_count', 'device_os_count',\n",
    "                  'channel_count', 'os_mean', 'ip_unq_ip_device_os', 'user_click_ratio',\n",
    "                  'ip_device_os_app_count', 'ip_device_os_app_channel_count', 'ip_app_channel_count',\n",
    "                  'last_click', 'next_click']\n",
    "model = lgb.LGBMClassifier(n_estimators=300, max_depth=4, subsample=0.7, colsample_bytree=0.7, colsample_bylevel=0.7,\n",
    "                           scale_pos_weight=9, min_child_samples=500,\n",
    "                       num_leaves=15, n_jobs=-1)\n",
    "model.fit( tr[feats2], tr['is_attributed'], eval_set=[(val[feats2], val['is_attributed'])], eval_metric='auc', \n",
    "      verbose=10, early_stopping_rounds=100,)"
   ]
  },
  {
   "cell_type": "code",
   "execution_count": 83,
   "metadata": {},
   "outputs": [
    {
     "name": "stderr",
     "output_type": "stream",
     "text": [
      "/home/mohsin/anaconda3/lib/python3.6/site-packages/ipykernel_launcher.py:2: SettingWithCopyWarning: \n",
      "A value is trying to be set on a copy of a slice from a DataFrame.\n",
      "Try using .loc[row_indexer,col_indexer] = value instead\n",
      "\n",
      "See the caveats in the documentation: http://pandas.pydata.org/pandas-docs/stable/indexing.html#indexing-view-versus-copy\n",
      "  \n",
      "/home/mohsin/anaconda3/lib/python3.6/site-packages/ipykernel_launcher.py:3: SettingWithCopyWarning: \n",
      "A value is trying to be set on a copy of a slice from a DataFrame.\n",
      "Try using .loc[row_indexer,col_indexer] = value instead\n",
      "\n",
      "See the caveats in the documentation: http://pandas.pydata.org/pandas-docs/stable/indexing.html#indexing-view-versus-copy\n",
      "  This is separate from the ipykernel package so we can avoid doing imports until\n"
     ]
    }
   ],
   "source": [
    "ip_std_last_click = TargetEncoder(cols=['ip'],  targetcol='last_click', func='std')\n",
    "tr['ip_std_last_click'] = ip_std_last_click.fit_transform(tr[['ip', 'last_click']])\n",
    "val['ip_std_last_click'] = ip_std_last_click.transform(val[['ip', 'last_click']])"
   ]
  },
  {
   "cell_type": "code",
   "execution_count": 84,
   "metadata": {},
   "outputs": [
    {
     "name": "stdout",
     "output_type": "stream",
     "text": [
      "Training until validation scores don't improve for 100 rounds.\n",
      "[10]\tvalid_0's auc: 0.953888\n",
      "[20]\tvalid_0's auc: 0.961523\n",
      "[30]\tvalid_0's auc: 0.963094\n",
      "[40]\tvalid_0's auc: 0.965777\n",
      "[50]\tvalid_0's auc: 0.967493\n",
      "[60]\tvalid_0's auc: 0.96903\n",
      "[70]\tvalid_0's auc: 0.969894\n",
      "[80]\tvalid_0's auc: 0.970541\n",
      "[90]\tvalid_0's auc: 0.971102\n",
      "[100]\tvalid_0's auc: 0.971562\n",
      "[110]\tvalid_0's auc: 0.97177\n",
      "[120]\tvalid_0's auc: 0.971924\n",
      "[130]\tvalid_0's auc: 0.972091\n",
      "[140]\tvalid_0's auc: 0.972263\n",
      "[150]\tvalid_0's auc: 0.972484\n",
      "[160]\tvalid_0's auc: 0.972701\n",
      "[170]\tvalid_0's auc: 0.972755\n",
      "[180]\tvalid_0's auc: 0.972786\n",
      "[190]\tvalid_0's auc: 0.972903\n",
      "[200]\tvalid_0's auc: 0.972761\n",
      "[210]\tvalid_0's auc: 0.972805\n",
      "[220]\tvalid_0's auc: 0.972773\n",
      "[230]\tvalid_0's auc: 0.972648\n",
      "[240]\tvalid_0's auc: 0.972555\n",
      "[250]\tvalid_0's auc: 0.972591\n",
      "[260]\tvalid_0's auc: 0.972624\n",
      "[270]\tvalid_0's auc: 0.972609\n",
      "[280]\tvalid_0's auc: 0.972672\n",
      "[290]\tvalid_0's auc: 0.972669\n",
      "Early stopping, best iteration is:\n",
      "[191]\tvalid_0's auc: 0.972919\n"
     ]
    },
    {
     "data": {
      "text/plain": [
       "LGBMClassifier(boosting_type='gbdt', class_weight=None, colsample_bylevel=0.7,\n",
       "        colsample_bytree=0.7, learning_rate=0.1, max_depth=4,\n",
       "        min_child_samples=500, min_child_weight=0.001, min_split_gain=0.0,\n",
       "        n_estimators=300, n_jobs=-1, num_leaves=15, objective=None,\n",
       "        random_state=None, reg_alpha=0.0, reg_lambda=0.0,\n",
       "        scale_pos_weight=9, silent=True, subsample=0.7,\n",
       "        subsample_for_bin=200000, subsample_freq=1)"
      ]
     },
     "execution_count": 84,
     "metadata": {},
     "output_type": "execute_result"
    }
   ],
   "source": [
    "feats2 = feats + ['app_mean', 'channel_mean', 'ip_count', 'app_count', 'ip_device_os_count', 'device_os_count',\n",
    "                  'channel_count', 'os_mean', 'ip_unq_ip_device_os', 'user_click_ratio',\n",
    "                  'ip_device_os_app_count', 'ip_device_os_app_channel_count', 'ip_app_channel_count',\n",
    "                  'ip_std_last_click']\n",
    "model = lgb.LGBMClassifier(n_estimators=300, max_depth=4, subsample=0.7, colsample_bytree=0.7, colsample_bylevel=0.7,\n",
    "                           scale_pos_weight=9, min_child_samples=500,\n",
    "                       num_leaves=15, n_jobs=-1)\n",
    "model.fit( tr[feats2], tr['is_attributed'], eval_set=[(val[feats2], val['is_attributed'])], eval_metric='auc', \n",
    "      verbose=10, early_stopping_rounds=100,)"
   ]
  },
  {
   "cell_type": "code",
   "execution_count": 85,
   "metadata": {},
   "outputs": [
    {
     "name": "stderr",
     "output_type": "stream",
     "text": [
      "/home/mohsin/anaconda3/lib/python3.6/site-packages/ipykernel_launcher.py:2: SettingWithCopyWarning: \n",
      "A value is trying to be set on a copy of a slice from a DataFrame.\n",
      "Try using .loc[row_indexer,col_indexer] = value instead\n",
      "\n",
      "See the caveats in the documentation: http://pandas.pydata.org/pandas-docs/stable/indexing.html#indexing-view-versus-copy\n",
      "  \n",
      "/home/mohsin/anaconda3/lib/python3.6/site-packages/ipykernel_launcher.py:3: SettingWithCopyWarning: \n",
      "A value is trying to be set on a copy of a slice from a DataFrame.\n",
      "Try using .loc[row_indexer,col_indexer] = value instead\n",
      "\n",
      "See the caveats in the documentation: http://pandas.pydata.org/pandas-docs/stable/indexing.html#indexing-view-versus-copy\n",
      "  This is separate from the ipykernel package so we can avoid doing imports until\n"
     ]
    }
   ],
   "source": [
    "app_count_mean = TargetEncoder(cols=['app_count'],  targetcol='is_attributed', func='mean')\n",
    "tr['app_count_mean'] = app_count_mean.fit_transform(tr[['app_count', 'is_attributed']])\n",
    "val['app_count_mean'] = app_count_mean.transform(val[['app_count', 'is_attributed']])"
   ]
  },
  {
   "cell_type": "code",
   "execution_count": 86,
   "metadata": {},
   "outputs": [
    {
     "name": "stdout",
     "output_type": "stream",
     "text": [
      "Training until validation scores don't improve for 100 rounds.\n",
      "[10]\tvalid_0's auc: 0.953866\n",
      "[20]\tvalid_0's auc: 0.9626\n",
      "[30]\tvalid_0's auc: 0.963651\n",
      "[40]\tvalid_0's auc: 0.966413\n",
      "[50]\tvalid_0's auc: 0.967452\n",
      "[60]\tvalid_0's auc: 0.969049\n",
      "[70]\tvalid_0's auc: 0.970027\n",
      "[80]\tvalid_0's auc: 0.970662\n",
      "[90]\tvalid_0's auc: 0.971189\n",
      "[100]\tvalid_0's auc: 0.97169\n",
      "[110]\tvalid_0's auc: 0.971917\n",
      "[120]\tvalid_0's auc: 0.972153\n",
      "[130]\tvalid_0's auc: 0.972409\n",
      "[140]\tvalid_0's auc: 0.972603\n",
      "[150]\tvalid_0's auc: 0.97254\n",
      "[160]\tvalid_0's auc: 0.972549\n",
      "[170]\tvalid_0's auc: 0.972666\n",
      "[180]\tvalid_0's auc: 0.972682\n",
      "[190]\tvalid_0's auc: 0.97274\n",
      "[200]\tvalid_0's auc: 0.972713\n",
      "[210]\tvalid_0's auc: 0.972759\n",
      "[220]\tvalid_0's auc: 0.972727\n",
      "[230]\tvalid_0's auc: 0.972735\n",
      "[240]\tvalid_0's auc: 0.972771\n",
      "[250]\tvalid_0's auc: 0.972791\n",
      "[260]\tvalid_0's auc: 0.972844\n",
      "[270]\tvalid_0's auc: 0.972897\n",
      "[280]\tvalid_0's auc: 0.97288\n",
      "[290]\tvalid_0's auc: 0.972892\n",
      "[300]\tvalid_0's auc: 0.972865\n",
      "Did not meet early stopping. Best iteration is:\n",
      "[278]\tvalid_0's auc: 0.972915\n"
     ]
    },
    {
     "data": {
      "text/plain": [
       "LGBMClassifier(boosting_type='gbdt', class_weight=None, colsample_bylevel=0.7,\n",
       "        colsample_bytree=0.7, learning_rate=0.1, max_depth=4,\n",
       "        min_child_samples=500, min_child_weight=0.001, min_split_gain=0.0,\n",
       "        n_estimators=300, n_jobs=-1, num_leaves=15, objective=None,\n",
       "        random_state=None, reg_alpha=0.0, reg_lambda=0.0,\n",
       "        scale_pos_weight=9, silent=True, subsample=0.7,\n",
       "        subsample_for_bin=200000, subsample_freq=1)"
      ]
     },
     "execution_count": 86,
     "metadata": {},
     "output_type": "execute_result"
    }
   ],
   "source": [
    "feats2 = feats + ['app_mean', 'channel_mean', 'ip_count', 'app_count', 'ip_device_os_count', 'device_os_count',\n",
    "                  'channel_count', 'os_mean', 'ip_unq_ip_device_os', 'user_click_ratio',\n",
    "                  'ip_device_os_app_count', 'ip_device_os_app_channel_count', 'ip_app_channel_count',\n",
    "                  'app_count_mean']\n",
    "model = lgb.LGBMClassifier(n_estimators=300, max_depth=4, subsample=0.7, colsample_bytree=0.7, colsample_bylevel=0.7,\n",
    "                           scale_pos_weight=9, min_child_samples=500,\n",
    "                       num_leaves=15, n_jobs=-1)\n",
    "model.fit( tr[feats2], tr['is_attributed'], eval_set=[(val[feats2], val['is_attributed'])], eval_metric='auc', \n",
    "      verbose=10, early_stopping_rounds=100,)"
   ]
  },
  {
   "cell_type": "code",
   "execution_count": 87,
   "metadata": {},
   "outputs": [
    {
     "name": "stderr",
     "output_type": "stream",
     "text": [
      "/home/mohsin/anaconda3/lib/python3.6/site-packages/ipykernel_launcher.py:2: SettingWithCopyWarning: \n",
      "A value is trying to be set on a copy of a slice from a DataFrame.\n",
      "Try using .loc[row_indexer,col_indexer] = value instead\n",
      "\n",
      "See the caveats in the documentation: http://pandas.pydata.org/pandas-docs/stable/indexing.html#indexing-view-versus-copy\n",
      "  \n",
      "/home/mohsin/anaconda3/lib/python3.6/site-packages/ipykernel_launcher.py:3: SettingWithCopyWarning: \n",
      "A value is trying to be set on a copy of a slice from a DataFrame.\n",
      "Try using .loc[row_indexer,col_indexer] = value instead\n",
      "\n",
      "See the caveats in the documentation: http://pandas.pydata.org/pandas-docs/stable/indexing.html#indexing-view-versus-copy\n",
      "  This is separate from the ipykernel package so we can avoid doing imports until\n"
     ]
    }
   ],
   "source": [
    "ip_count_mean = TargetEncoder(cols=['ip_count'],  targetcol='is_attributed', func='mean')\n",
    "tr['ip_count_mean'] = ip_count_mean.fit_transform(tr[['ip_count', 'is_attributed']])\n",
    "val['ip_count_mean'] = ip_count_mean.transform(val[['ip_count', 'is_attributed']])"
   ]
  },
  {
   "cell_type": "code",
   "execution_count": 89,
   "metadata": {},
   "outputs": [
    {
     "name": "stdout",
     "output_type": "stream",
     "text": [
      "Training until validation scores don't improve for 100 rounds.\n",
      "[10]\tvalid_0's auc: 0.95908\n",
      "[20]\tvalid_0's auc: 0.964752\n",
      "[30]\tvalid_0's auc: 0.964579\n",
      "[40]\tvalid_0's auc: 0.965075\n",
      "[50]\tvalid_0's auc: 0.967317\n",
      "[60]\tvalid_0's auc: 0.968788\n",
      "[70]\tvalid_0's auc: 0.969959\n",
      "[80]\tvalid_0's auc: 0.970476\n",
      "[90]\tvalid_0's auc: 0.97104\n",
      "[100]\tvalid_0's auc: 0.971616\n",
      "[110]\tvalid_0's auc: 0.971881\n",
      "[120]\tvalid_0's auc: 0.972071\n",
      "[130]\tvalid_0's auc: 0.972302\n",
      "[140]\tvalid_0's auc: 0.97244\n",
      "[150]\tvalid_0's auc: 0.97262\n",
      "[160]\tvalid_0's auc: 0.972778\n",
      "[170]\tvalid_0's auc: 0.972858\n",
      "[180]\tvalid_0's auc: 0.972895\n",
      "[190]\tvalid_0's auc: 0.972978\n",
      "[200]\tvalid_0's auc: 0.972984\n",
      "[210]\tvalid_0's auc: 0.972969\n",
      "[220]\tvalid_0's auc: 0.973028\n",
      "[230]\tvalid_0's auc: 0.973099\n",
      "[240]\tvalid_0's auc: 0.973191\n",
      "[250]\tvalid_0's auc: 0.973228\n",
      "[260]\tvalid_0's auc: 0.973271\n",
      "[270]\tvalid_0's auc: 0.973223\n",
      "[280]\tvalid_0's auc: 0.973261\n",
      "[290]\tvalid_0's auc: 0.973303\n",
      "[300]\tvalid_0's auc: 0.973322\n",
      "Did not meet early stopping. Best iteration is:\n",
      "[294]\tvalid_0's auc: 0.97333\n"
     ]
    },
    {
     "data": {
      "text/plain": [
       "LGBMClassifier(boosting_type='gbdt', class_weight=None, colsample_bylevel=0.7,\n",
       "        colsample_bytree=0.7, learning_rate=0.1, max_depth=4,\n",
       "        min_child_samples=500, min_child_weight=0.001, min_split_gain=0.0,\n",
       "        n_estimators=300, n_jobs=-1, num_leaves=15, objective=None,\n",
       "        random_state=None, reg_alpha=0.0, reg_lambda=1, scale_pos_weight=9,\n",
       "        silent=True, subsample=0.7, subsample_for_bin=200000,\n",
       "        subsample_freq=1)"
      ]
     },
     "execution_count": 89,
     "metadata": {},
     "output_type": "execute_result"
    }
   ],
   "source": [
    "feats2 = feats + ['app_mean', 'channel_mean', 'ip_count', 'app_count', 'ip_device_os_count', 'device_os_count',\n",
    "                  'channel_count', 'os_mean', 'ip_unq_ip_device_os', 'user_click_ratio',\n",
    "                  'ip_device_os_app_count', 'ip_device_os_app_channel_count', 'ip_app_channel_count',\n",
    "                  ]\n",
    "model = lgb.LGBMClassifier(n_estimators=300, max_depth=4, subsample=0.7, colsample_bytree=0.7, colsample_bylevel=0.7,\n",
    "                           scale_pos_weight=9, min_child_samples=500, reg_lambda = 1,\n",
    "                       num_leaves=15, n_jobs=-1)\n",
    "model.fit( tr[feats2], tr['is_attributed'], eval_set=[(val[feats2], val['is_attributed'])], eval_metric='auc', \n",
    "      verbose=10, early_stopping_rounds=100,)"
   ]
  },
  {
   "cell_type": "code",
   "execution_count": 90,
   "metadata": {},
   "outputs": [
    {
     "name": "stdout",
     "output_type": "stream",
     "text": [
      "Training until validation scores don't improve for 100 rounds.\n",
      "[10]\tvalid_0's auc: 0.954336\n",
      "[20]\tvalid_0's auc: 0.960643\n",
      "[30]\tvalid_0's auc: 0.963023\n",
      "[40]\tvalid_0's auc: 0.96436\n",
      "[50]\tvalid_0's auc: 0.967115\n",
      "[60]\tvalid_0's auc: 0.968743\n",
      "[70]\tvalid_0's auc: 0.96995\n",
      "[80]\tvalid_0's auc: 0.970416\n",
      "[90]\tvalid_0's auc: 0.971224\n",
      "[100]\tvalid_0's auc: 0.971627\n",
      "[110]\tvalid_0's auc: 0.971877\n",
      "[120]\tvalid_0's auc: 0.972064\n",
      "[130]\tvalid_0's auc: 0.972288\n",
      "[140]\tvalid_0's auc: 0.97244\n",
      "[150]\tvalid_0's auc: 0.972595\n",
      "[160]\tvalid_0's auc: 0.972692\n",
      "[170]\tvalid_0's auc: 0.97279\n",
      "[180]\tvalid_0's auc: 0.972814\n",
      "[190]\tvalid_0's auc: 0.972901\n",
      "[200]\tvalid_0's auc: 0.972964\n",
      "[210]\tvalid_0's auc: 0.972947\n",
      "[220]\tvalid_0's auc: 0.972982\n",
      "[230]\tvalid_0's auc: 0.973031\n",
      "[240]\tvalid_0's auc: 0.973022\n",
      "[250]\tvalid_0's auc: 0.972982\n",
      "[260]\tvalid_0's auc: 0.973052\n",
      "[270]\tvalid_0's auc: 0.973088\n",
      "[280]\tvalid_0's auc: 0.973128\n",
      "[290]\tvalid_0's auc: 0.973108\n",
      "[300]\tvalid_0's auc: 0.973058\n",
      "[310]\tvalid_0's auc: 0.973085\n",
      "[320]\tvalid_0's auc: 0.973045\n",
      "[330]\tvalid_0's auc: 0.973077\n",
      "[340]\tvalid_0's auc: 0.973074\n",
      "[350]\tvalid_0's auc: 0.973119\n",
      "[360]\tvalid_0's auc: 0.97315\n",
      "[370]\tvalid_0's auc: 0.973198\n",
      "[380]\tvalid_0's auc: 0.973254\n",
      "[390]\tvalid_0's auc: 0.97323\n",
      "[400]\tvalid_0's auc: 0.973339\n",
      "[410]\tvalid_0's auc: 0.97331\n",
      "[420]\tvalid_0's auc: 0.973288\n",
      "[430]\tvalid_0's auc: 0.973282\n",
      "[440]\tvalid_0's auc: 0.973285\n",
      "[450]\tvalid_0's auc: 0.973339\n",
      "[460]\tvalid_0's auc: 0.973393\n",
      "[470]\tvalid_0's auc: 0.97341\n",
      "[480]\tvalid_0's auc: 0.973372\n",
      "[490]\tvalid_0's auc: 0.973346\n",
      "[500]\tvalid_0's auc: 0.973256\n",
      "[510]\tvalid_0's auc: 0.973217\n",
      "[520]\tvalid_0's auc: 0.973209\n",
      "[530]\tvalid_0's auc: 0.973201\n",
      "[540]\tvalid_0's auc: 0.973216\n",
      "[550]\tvalid_0's auc: 0.973213\n",
      "[560]\tvalid_0's auc: 0.973236\n",
      "Early stopping, best iteration is:\n",
      "[469]\tvalid_0's auc: 0.973422\n"
     ]
    },
    {
     "data": {
      "text/plain": [
       "LGBMClassifier(boosting_type='gbdt', class_weight=None, colsample_bylevel=0.7,\n",
       "        colsample_bytree=0.7, learning_rate=0.1, max_depth=4,\n",
       "        min_child_samples=500, min_child_weight=0.001, min_split_gain=0.0,\n",
       "        n_estimators=1000, n_jobs=-1, num_leaves=15, objective=None,\n",
       "        random_state=None, reg_alpha=0.0, reg_lambda=1, scale_pos_weight=9,\n",
       "        silent=True, subsample=0.7, subsample_for_bin=200000,\n",
       "        subsample_freq=1)"
      ]
     },
     "execution_count": 90,
     "metadata": {},
     "output_type": "execute_result"
    }
   ],
   "source": [
    "feats2 = feats + ['app_mean', 'channel_mean', 'ip_count', 'app_count', 'ip_device_os_count', 'device_os_count',\n",
    "                  'channel_count', 'os_mean', 'ip_unq_ip_device_os', 'user_click_ratio',\n",
    "                  'ip_device_os_app_count', 'ip_device_os_app_channel_count', 'ip_app_channel_count',\n",
    "                  'minutes', 'seconds']\n",
    "model = lgb.LGBMClassifier(n_estimators=1000, max_depth=4, subsample=0.7, colsample_bytree=0.7, colsample_bylevel=0.7,\n",
    "                           scale_pos_weight=9, min_child_samples=500, reg_lambda = 1,\n",
    "                       num_leaves=15, n_jobs=-1)\n",
    "model.fit( tr[feats2], tr['is_attributed'], eval_set=[(val[feats2], val['is_attributed'])], eval_metric='auc', \n",
    "      verbose=10, early_stopping_rounds=100,)"
   ]
  },
  {
   "cell_type": "code",
   "execution_count": null,
   "metadata": {
    "collapsed": true
   },
   "outputs": [],
   "source": []
  }
 ],
 "metadata": {
  "kernelspec": {
   "display_name": "Python 3",
   "language": "python",
   "name": "python3"
  },
  "language_info": {
   "codemirror_mode": {
    "name": "ipython",
    "version": 3
   },
   "file_extension": ".py",
   "mimetype": "text/x-python",
   "name": "python",
   "nbconvert_exporter": "python",
   "pygments_lexer": "ipython3",
   "version": "3.6.3"
  }
 },
 "nbformat": 4,
 "nbformat_minor": 2
}
